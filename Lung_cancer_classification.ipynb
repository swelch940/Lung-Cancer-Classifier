{
 "cells": [
  {
   "cell_type": "code",
   "execution_count": 137,
   "id": "1f348219-0871-4d6c-a1d5-7d9c71b1dec4",
   "metadata": {},
   "outputs": [],
   "source": [
    "import tensorflow as tf\n",
    "import numpy \n",
    "import os\n",
    "import PIL\n",
    "from PIL import Image\n",
    "import cv2\n",
    "import imghdr\n",
    "from matplotlib import pyplot as plt\n",
    "from tensorflow.keras import layers\n",
    "from skimage import io\n",
    "from keras.applications.densenet import DenseNet121\n",
    "from keras.applications.resnet import ResNet50\n",
    "from keras.applications.vgg16 import VGG16\n",
    "from keras.applications.xception import Xception\n",
    "from sklearn.metrics import accuracy_score, recall_score, precision_score, classification_report, confusion_matrix, ConfusionMatrixDisplay\n",
    "import random\n",
    "from sklearn.model_selection import train_test_split\n",
    "from keras.preprocessing.image import ImageDataGenerator\n",
    "import keras\n",
    "import tensorflow_addons as tfa\n",
    "from sklearn.metrics import recall_score\n",
    "from sklearn.metrics import f1_score\n",
    "from sklearn.metrics import precision_score"
   ]
  },
  {
   "cell_type": "code",
   "execution_count": 84,
   "id": "e9a43aff-69eb-4bab-80ab-c2041e44f74d",
   "metadata": {},
   "outputs": [],
   "source": [
    "data_dir = \"The IQ-OTHNCCD lung cancer dataset\""
   ]
  },
  {
   "cell_type": "code",
   "execution_count": 85,
   "id": "f435255e-198b-449c-8c0b-09bbd21a9a0a",
   "metadata": {},
   "outputs": [],
   "source": [
    "bengin_cases = os.listdir(os.path.join(data_dir,\"Bengin cases\"))\n",
    "normal_cases = os.listdir(os.path.join(data_dir, \"Normal cases\"))\n",
    "malignant_cases = os.listdir(os.path.join(data_dir, \"Malignant cases\"))"
   ]
  },
  {
   "cell_type": "code",
   "execution_count": 86,
   "id": "7c041b8b-d752-4b46-ac01-584477ef4cea",
   "metadata": {},
   "outputs": [
    {
     "name": "stdout",
     "output_type": "stream",
     "text": [
      "['Bengin case (15).jpg', 'Bengin case (32).jpg', 'Bengin case (87).jpg', 'Bengin case (38).jpg', 'Bengin case (81).jpg', 'Bengin case (71).jpg', 'Bengin case (106).jpg', 'Bengin case (54).jpg', 'Bengin case (117).jpg', 'Bengin case (120).jpg', 'Bengin case (76).jpg', 'Bengin case (45).jpg', 'Bengin case (79).jpg', 'Bengin case (2).jpg', 'Bengin case (28).jpg', 'Bengin case (116).jpg', 'Bengin case (19).jpg', 'Bengin case (36).jpg', 'Bengin case (112).jpg', 'Bengin case (62).jpg', 'Bengin case (113).jpg', '.ipynb_checkpoints', 'Bengin case (72).jpg', 'Bengin case (14).jpg', 'Bengin case (91).jpg', 'Bengin case (63).jpg', 'Bengin case (88).jpg', 'Bengin case (58).jpg', 'Bengin case (16).jpg', 'Bengin case (103).jpg', 'Bengin case (30).jpg', 'Bengin case (66).jpg', 'Bengin case (55).jpg', 'Bengin case (78).jpg', 'Bengin case (85).jpg', 'Bengin case (3).jpg', 'Bengin case (4).jpg', 'Bengin case (109).jpg', 'Bengin case (108).jpg', 'Bengin case (46).jpg', 'Bengin case (119).jpg', 'Bengin case (101).jpg', 'Bengin case (49).jpg', 'Bengin case (7).jpg', 'Bengin case (6).jpg', 'Bengin case (48).jpg', 'Bengin case (105).jpg', 'Bengin case (94).jpg', 'Bengin case (82).jpg', 'Bengin case (9).jpg', 'Bengin case (69).jpg', 'Bengin case (29).jpg', 'Bengin case (95).jpg', 'Bengin case (56).jpg', 'Bengin case (89).jpg', 'Bengin case (12).jpg', 'Bengin case (60).jpg', 'Bengin case (96).jpg', 'Bengin case (8).jpg', 'Bengin case (21).jpg', 'Bengin case (83).jpg', 'Bengin case (68).jpg', 'Bengin case (35).jpg', 'Bengin case (31).jpg', 'Bengin case (26).jpg', 'Bengin case (25).jpg', 'Bengin case (74).jpg', 'Bengin case (75).jpg', 'Bengin case (90).jpg', 'Bengin case (50).jpg', 'Bengin case (67).jpg', 'Bengin case (110).jpg', 'Bengin case (23).jpg', 'Bengin case (53).jpg', 'Bengin case (33).jpg', 'Bengin case (43).jpg', 'Bengin case (84).jpg', 'Bengin case (100).jpg', 'Bengin case (77).jpg', 'Bengin case (11).jpg', 'Bengin case (107).jpg', 'Bengin case (34).jpg', 'Bengin case (102).jpg', 'Bengin case (22).jpg', 'Bengin case (17).jpg', 'Bengin case (47).jpg', 'Bengin case (10).jpg', 'Bengin case (65).jpg', 'Bengin case (13).jpg', 'Bengin case (41).jpg', 'Bengin case (24).jpg', 'Bengin case (93).jpg', 'Bengin case (57).jpg', 'Bengin case (114).jpg', 'Bengin case (1).jpg', 'Bengin case (86).jpg', 'Bengin case (39).jpg', 'Bengin case (92).jpg', 'Bengin case (98).jpg', 'Bengin case (51).jpg', 'Bengin case (97).jpg', 'Bengin case (118).jpg', 'Bengin case (18).jpg', 'Bengin case (42).jpg', 'Bengin case (64).jpg', 'Bengin case (73).jpg', 'Bengin case (40).jpg', 'Bengin case (37).jpg', 'Bengin case (59).jpg', 'Bengin case (27).jpg', 'Bengin case (80).jpg', 'Bengin case (44).jpg', 'Bengin case (5).jpg', 'Bengin case (104).jpg', 'Bengin case (115).jpg', 'Bengin case (61).jpg', 'Bengin case (52).jpg', 'Bengin case (111).jpg', 'Bengin case (20).jpg', 'Bengin case (99).jpg', 'Bengin case (70).jpg']\n"
     ]
    }
   ],
   "source": [
    "print(bengin_cases)"
   ]
  },
  {
   "cell_type": "code",
   "execution_count": 87,
   "id": "d93469e6-e90d-4363-afbe-736fb0f0b61d",
   "metadata": {},
   "outputs": [],
   "source": [
    "bengin_dataset = []\n",
    "for i in bengin_cases:\n",
    "    if i == \".ipynb_checkpoints\":\n",
    "        continue\n",
    "    img = Image.open(\"The IQ-OTHNCCD lung cancer dataset/Bengin cases/\" + i).convert(\n",
    "        \"L\")\n",
    "    arr = numpy.array(img)\n",
    "    bengin_dataset.append(arr)"
   ]
  },
  {
   "cell_type": "code",
   "execution_count": 88,
   "id": "bfb9b9e8-b02d-46df-91b7-2f746eeead89",
   "metadata": {},
   "outputs": [],
   "source": [
    "from scipy import ndimage\n",
    "filtered_bengin = []\n",
    "for i in bengin_dataset:\n",
    "   img = ndimage.median_filter(i, size = 3)\n",
    "   filtered_bengin.append(img)"
   ]
  },
  {
   "cell_type": "code",
   "execution_count": 89,
   "id": "2c5012a0-352a-448f-b741-1dfd3053d0da",
   "metadata": {},
   "outputs": [],
   "source": [
    "normal_dataset = []\n",
    "for i in normal_cases:\n",
    "    if i == \".ipynb_checkpoints\":\n",
    "        continue\n",
    "    img = Image.open(\"The IQ-OTHNCCD lung cancer dataset/Normal cases/\" + i).convert(\n",
    "        \"L\")\n",
    "    arr = numpy.array(img)\n",
    "    normal_dataset.append(arr)"
   ]
  },
  {
   "cell_type": "code",
   "execution_count": 90,
   "id": "dbaed3cc-4397-4cad-ba71-f7df592e6e4a",
   "metadata": {},
   "outputs": [],
   "source": [
    "from scipy import ndimage\n",
    "filtered_normal = []\n",
    "for i in normal_dataset:\n",
    "   img = ndimage.median_filter(i, size = 3)\n",
    "   filtered_normal.append(img)"
   ]
  },
  {
   "cell_type": "code",
   "execution_count": 91,
   "id": "e1c834b6-17c0-4639-b696-f08bee265b0c",
   "metadata": {},
   "outputs": [],
   "source": [
    "malignant_dataset = []\n",
    "for i in malignant_cases:\n",
    "    if i == \".ipynb_checkpoints\":\n",
    "        continue\n",
    "    img = Image.open(\"The IQ-OTHNCCD lung cancer dataset/Malignant cases/\" + i).convert(\n",
    "        \"L\")\n",
    "    arr = numpy.array(img)\n",
    "    malignant_dataset.append(arr)"
   ]
  },
  {
   "cell_type": "code",
   "execution_count": 92,
   "id": "e4d9382c-e407-48e3-a02f-84e56d7f4fa9",
   "metadata": {},
   "outputs": [],
   "source": [
    "from scipy import ndimage\n",
    "filtered_malignant = []\n",
    "for i in malignant_dataset:\n",
    "   img = ndimage.median_filter(i, size = 3)\n",
    "   filtered_malignant.append(img)"
   ]
  },
  {
   "cell_type": "code",
   "execution_count": 93,
   "id": "d26cfc7c-01e9-4283-8cbc-5df0f0c66908",
   "metadata": {},
   "outputs": [],
   "source": [
    "i = 0\n",
    "path = \"The IQ-OTHNCCD lung cancer dataset-processed/Bengin cases\"\n",
    "while i < len(filtered_bengin):\n",
    "    cv2.imwrite(os.path.join(path, \"Bengin cases\" + str(i) + \".jpg\"), filtered_bengin[i])\n",
    "    i+=1"
   ]
  },
  {
   "cell_type": "code",
   "execution_count": 94,
   "id": "82fde52f-c52b-448d-8399-791f1b8082c1",
   "metadata": {},
   "outputs": [],
   "source": [
    "i = 0\n",
    "path = \"The IQ-OTHNCCD lung cancer dataset-processed/Normal cases\"\n",
    "while i < len(filtered_normal):\n",
    "    cv2.imwrite(os.path.join(path, \"Normal cases\" + str(i) + \".jpg\"), filtered_normal[i])\n",
    "    i+=1"
   ]
  },
  {
   "cell_type": "code",
   "execution_count": 95,
   "id": "4a77591f-4f7e-4ac7-a4f3-59480a15074a",
   "metadata": {},
   "outputs": [],
   "source": [
    "i = 0\n",
    "path = \"The IQ-OTHNCCD lung cancer dataset-processed/Malignant cases\"\n",
    "while i < len(filtered_malignant):\n",
    "    cv2.imwrite(os.path.join(path, \"malignant_cases\" + str(i) + \".jpg\"), filtered_malignant[i])\n",
    "    i+=1"
   ]
  },
  {
   "cell_type": "code",
   "execution_count": 96,
   "id": "4e93b96d-a4b2-4f4e-acc1-834a01fcfea2",
   "metadata": {},
   "outputs": [],
   "source": [
    "data_dir = \"The IQ-OTHNCCD lung cancer dataset-processed\""
   ]
  },
  {
   "cell_type": "code",
   "execution_count": 97,
   "id": "ec7e90c1-2123-4cf8-9794-ad65e607a25b",
   "metadata": {},
   "outputs": [],
   "source": [
    "bengin_cases = os.listdir(os.path.join(data_dir,\"Bengin cases\"))\n",
    "normal_cases = os.listdir(os.path.join(data_dir, \"Normal cases\"))\n",
    "malignant_cases = os.listdir(os.path.join(data_dir, \"Malignant cases\"))"
   ]
  },
  {
   "cell_type": "code",
   "execution_count": 180,
   "id": "4cf538a7-e5bc-4f1c-b206-13ad97798b08",
   "metadata": {},
   "outputs": [],
   "source": [
    "data_augmentation = tf.keras.Sequential([\n",
    "     layers.experimental.preprocessing.RandomFlip(\"horizontal_and_vertical\"),\n",
    "     layers.experimental.preprocessing.RandomRotation(0.2)])"
   ]
  },
  {
   "cell_type": "code",
   "execution_count": 104,
   "id": "784135c7-91a5-4071-a062-98c04262eea7",
   "metadata": {},
   "outputs": [],
   "source": [
    "from PIL import Image as im\n",
    "import matplotlib.image\n",
    "def scale(data,name):\n",
    "    scaled = []\n",
    "    for i in data:\n",
    "        if i == \".ipynb_checkpoints\":\n",
    "            continue\n",
    "        image = cv2.imread(\"The IQ-OTHNCCD lung cancer dataset-processed/\" + name + \"/\"+ i)\n",
    "        image -= image.min() \n",
    "        image = image / image.max()\n",
    "        image *= 255 # [0, 255] range\n",
    "        cv2.imwrite(\"The IQ-OTHNCCD lung cancer dataset-scaled/\" + name  +\"/\" + i, image)"
   ]
  },
  {
   "cell_type": "code",
   "execution_count": 105,
   "id": "2f7bae14-8d8f-49f0-9923-fb643440af74",
   "metadata": {},
   "outputs": [],
   "source": [
    "scale(bengin_cases, \"Bengin cases\")\n",
    "scale(normal_cases, \"Normal cases\")\n",
    "scale(malignant_cases, \"Malignant cases\")"
   ]
  },
  {
   "cell_type": "code",
   "execution_count": 239,
   "id": "8b4c2b18-98ae-4921-a774-f782eb98b95b",
   "metadata": {},
   "outputs": [],
   "source": [
    "data = \"The IQ-OTHNCCD lung cancer dataset-scaled\"\n",
    "scaled_bengin  = os.listdir(os.path.join(data,\"Bengin cases\"))\n",
    "scaled_normal = os.listdir(os.path.join(data, \"Normal cases\"))\n",
    "scaled_malignant = os.listdir(os.path.join(data, \"Malignant cases\"))"
   ]
  },
  {
   "cell_type": "code",
   "execution_count": 241,
   "id": "9d21536b-74a8-4448-8af9-1d9aa6574b00",
   "metadata": {},
   "outputs": [],
   "source": [
    "def segmentation(image, name):\n",
    "    \n",
    "    image = cv2.imread(\"The IQ-OTHNCCD lung cancer dataset-scaled/\" + name + \"/\"+ image)\n",
    "    image = cv2.cvtColor(image, cv2.COLOR_BGR2RGB)\n",
    "    pixel_vals = image.reshape((-1,3))\n",
    "    pixel_vals = numpy.float32(pixel_vals)\n",
    "    #the below line of code defines the criteria for the algorithm to stop running, \n",
    "    #which will happen is 100 iterations are run or the epsilon (which is the required accuracy) \n",
    "    #becomes 85%\n",
    "    criteria = (cv2.TERM_CRITERIA_EPS + cv2.TERM_CRITERIA_MAX_ITER, 100, 0.85)\n",
    " \n",
    "    # then perform k-means clustering with number of clusters defined as 3\n",
    "    #also random centres are initially choosed for k-means clustering\n",
    "    k = 3\n",
    "    retval, labels, centers = cv2.kmeans(pixel_vals, k, None, criteria, 10, cv2.KMEANS_RANDOM_CENTERS)\n",
    " \n",
    "    # convert data into 8-bit values\n",
    "    centers = numpy.uint8(centers)\n",
    "    segmented_data = centers[labels.flatten()]\n",
    " \n",
    "    # reshape data into the original image dimensions\n",
    "    segmented_image = segmented_data.reshape((image.shape))\n",
    "    return segmented_image            "
   ]
  },
  {
   "cell_type": "code",
   "execution_count": 244,
   "id": "e7418caf-7a37-479d-8b1c-801b5bf423ce",
   "metadata": {
    "scrolled": true
   },
   "outputs": [],
   "source": [
    "segmented_bengin = []\n",
    "for image in scaled_bengin:\n",
    "    if image == \".ipynb_checkpoints\":\n",
    "        continue\n",
    "    segmented_bengin.append(segmentation(image, \"Bengin cases\"))"
   ]
  },
  {
   "cell_type": "code",
   "execution_count": 245,
   "id": "8253f338-bd5d-4185-9f41-ef7c16cf96b0",
   "metadata": {},
   "outputs": [],
   "source": [
    "segmented_normal = []\n",
    "for image in scaled_normal:\n",
    "    if image == \".ipynb_checkpoints\":\n",
    "        continue\n",
    "    segmented_normal.append(segmentation(image, \"Normal cases\"))"
   ]
  },
  {
   "cell_type": "code",
   "execution_count": 246,
   "id": "5a2e1d36-72c8-4e29-81d6-cbcb42c7aded",
   "metadata": {},
   "outputs": [],
   "source": [
    "segmented_malignant = []\n",
    "for image in scaled_malignant:\n",
    "    if image == \".ipynb_checkpoints\":\n",
    "        continue\n",
    "    segmented_malignant.append(segmentation(image, \"Malignant cases\"))"
   ]
  },
  {
   "cell_type": "code",
   "execution_count": 247,
   "id": "834cc360-d5b7-4bab-8a21-e2213242c35f",
   "metadata": {},
   "outputs": [
    {
     "name": "stdout",
     "output_type": "stream",
     "text": [
      "120\n",
      "416\n",
      "561\n"
     ]
    }
   ],
   "source": [
    "print(len(segmented_bengin))\n",
    "print(len(segmented_normal))\n",
    "print(len(segmented_malignant))"
   ]
  },
  {
   "cell_type": "code",
   "execution_count": 111,
   "id": "93d7dae8-1fee-4d30-9d87-0fe94d37c8f8",
   "metadata": {},
   "outputs": [],
   "source": [
    "i = 0\n",
    "path = \"The IQ-OTHNCCD lung cancer dataset-segmentated/Bengin cases\"\n",
    "while i < len(segmented_bengin):\n",
    "    cv2.imwrite(os.path.join(path, \"Bengin_cases\" + str(i) + \".jpg\"), segmented_bengin[i])\n",
    "    i+=1"
   ]
  },
  {
   "cell_type": "code",
   "execution_count": 112,
   "id": "70b96090-3bd6-4848-999f-a2b5a04d605a",
   "metadata": {},
   "outputs": [],
   "source": [
    "i = 0\n",
    "path = \"The IQ-OTHNCCD lung cancer dataset-segmentated/Normal cases\"\n",
    "while i < len(segmented_normal):\n",
    "    cv2.imwrite(os.path.join(path, \"Normal_cases\" + str(i) + \".jpg\"), segmented_normal[i])\n",
    "    i+=1"
   ]
  },
  {
   "cell_type": "code",
   "execution_count": 113,
   "id": "7ad005c6-f12a-455e-9492-f9b94f69deb1",
   "metadata": {},
   "outputs": [],
   "source": [
    "i = 0\n",
    "path = \"The IQ-OTHNCCD lung cancer dataset-segmentated/Malignant cases\"\n",
    "while i < len(segmented_malignant):\n",
    "    cv2.imwrite(os.path.join(path, \"Malignant_cases\" + str(i) + \".jpg\"), segmented_malignant[i])\n",
    "    i+=1"
   ]
  },
  {
   "cell_type": "code",
   "execution_count": 164,
   "id": "89550bc7-145b-41b9-92a3-d72841b327a1",
   "metadata": {},
   "outputs": [],
   "source": [
    "data_augmentation = tf.keras.Sequential([\n",
    "  layers.RandomFlip(\"horizontal_and_vertical\"),\n",
    "  layers.RandomRotation(0.2),\n",
    "])"
   ]
  },
  {
   "cell_type": "code",
   "execution_count": 50,
   "id": "7141f33f-a662-4704-8e2c-efdb51d71453",
   "metadata": {},
   "outputs": [],
   "source": [
    "data_dir = \"The IQ-OTHNCCD lung cancer dataset-segmentated\""
   ]
  },
  {
   "cell_type": "code",
   "execution_count": 51,
   "id": "3aa8b201-01e8-42b3-84e9-1df0cd7fadb3",
   "metadata": {},
   "outputs": [
    {
     "name": "stdout",
     "output_type": "stream",
     "text": [
      "Found 1097 files belonging to 3 classes.\n"
     ]
    }
   ],
   "source": [
    "dataset = tf.keras.utils.image_dataset_from_directory(data_dir,image_size=(224,224))"
   ]
  },
  {
   "cell_type": "code",
   "execution_count": 52,
   "id": "efe5ac0d-6386-45a8-81bf-9f8e59f353d5",
   "metadata": {},
   "outputs": [],
   "source": [
    "train_size = int(len(dataset)*.7)\n",
    "val_size = int(len(dataset)*.20)\n",
    "test_size = int(len(dataset)*.10)"
   ]
  },
  {
   "cell_type": "code",
   "execution_count": 53,
   "id": "a59fdb8d-ab24-4be0-a14e-3bfc37c6d339",
   "metadata": {},
   "outputs": [],
   "source": [
    "train = dataset.take(train_size)\n",
    "val = dataset.take(val_size)\n",
    "test = dataset.take(test_size)"
   ]
  },
  {
   "cell_type": "code",
   "execution_count": 7,
   "id": "a99a486b-b1e5-4ddd-8880-4a94cb7cf2df",
   "metadata": {},
   "outputs": [],
   "source": [
    "from tensorflow.keras.models import Sequential\n",
    "from tensorflow.keras.layers import Conv2D, MaxPooling2D, Dense, Flatten, Dropout"
   ]
  },
  {
   "cell_type": "code",
   "execution_count": 8,
   "id": "0445a1c6-122b-4caf-b921-85049daaf687",
   "metadata": {},
   "outputs": [],
   "source": [
    "input_shape= (224,224, 3)"
   ]
  },
  {
   "cell_type": "code",
   "execution_count": 11,
   "id": "8ff0941d-86d1-49af-a27c-9a43e021262b",
   "metadata": {},
   "outputs": [],
   "source": [
    "base_model = DenseNet121(weights=None, include_top=False, input_shape=input_shape)"
   ]
  },
  {
   "cell_type": "code",
   "execution_count": 8,
   "id": "eca79047-ecf6-4ebc-871c-3d1e754d59c9",
   "metadata": {},
   "outputs": [
    {
     "ename": "NameError",
     "evalue": "name 'base_model' is not defined",
     "output_type": "error",
     "traceback": [
      "\u001b[0;31m---------------------------------------------------------------------------\u001b[0m",
      "\u001b[0;31mNameError\u001b[0m                                 Traceback (most recent call last)",
      "Cell \u001b[0;32mIn[8], line 1\u001b[0m\n\u001b[0;32m----> 1\u001b[0m \u001b[38;5;28;01mfor\u001b[39;00m layer \u001b[38;5;129;01min\u001b[39;00m \u001b[43mbase_model\u001b[49m\u001b[38;5;241m.\u001b[39mlayers:\n\u001b[1;32m      2\u001b[0m     layer\u001b[38;5;241m.\u001b[39mtrainable \u001b[38;5;241m=\u001b[39m \u001b[38;5;28;01mFalse\u001b[39;00m\n",
      "\u001b[0;31mNameError\u001b[0m: name 'base_model' is not defined"
     ]
    }
   ],
   "source": [
    "for layer in base_model.layers:\n",
    "    layer.trainable = False"
   ]
  },
  {
   "cell_type": "code",
   "execution_count": 170,
   "id": "f0e99276-8fa9-4a59-aa32-468124dcf1f2",
   "metadata": {},
   "outputs": [],
   "source": [
    "model = Sequential()"
   ]
  },
  {
   "cell_type": "code",
   "execution_count": 171,
   "id": "fc787d38-3d84-4bac-902e-2237595c647e",
   "metadata": {},
   "outputs": [],
   "source": [
    "model.add(base_model)"
   ]
  },
  {
   "cell_type": "code",
   "execution_count": 172,
   "id": "493af7db-f341-4b3c-b16e-84310527883d",
   "metadata": {},
   "outputs": [],
   "source": [
    "model.add(Flatten())\n",
    "model.add(Dense(128, activation='relu'))\n",
    "model.add(Dense(3, activation='softmax'))"
   ]
  },
  {
   "cell_type": "code",
   "execution_count": 16,
   "id": "542a96eb-4de2-4255-a951-1f500f3284aa",
   "metadata": {},
   "outputs": [
    {
     "name": "stdout",
     "output_type": "stream",
     "text": [
      "Model: \"sequential\"\n",
      "_________________________________________________________________\n",
      " Layer (type)                Output Shape              Param #   \n",
      "=================================================================\n",
      " densenet121 (Functional)    (None, 7, 7, 1024)        7037504   \n",
      "                                                                 \n",
      " flatten (Flatten)           (None, 50176)             0         \n",
      "                                                                 \n",
      " dense (Dense)               (None, 128)               6422656   \n",
      "                                                                 \n",
      " dense_1 (Dense)             (None, 3)                 387       \n",
      "                                                                 \n",
      "=================================================================\n",
      "Total params: 13,460,547\n",
      "Trainable params: 6,423,043\n",
      "Non-trainable params: 7,037,504\n",
      "_________________________________________________________________\n"
     ]
    }
   ],
   "source": [
    "model.summary()"
   ]
  },
  {
   "cell_type": "code",
   "execution_count": 17,
   "id": "6b64a349-5553-4b15-83a1-67f1d34b05e9",
   "metadata": {},
   "outputs": [],
   "source": [
    "model.compile(loss=tf.keras.losses.SparseCategoricalCrossentropy(), optimizer='adam', metrics=['accuracy'])"
   ]
  },
  {
   "cell_type": "code",
   "execution_count": 219,
   "id": "e93e9b1c-2d74-4ccf-a4eb-c329cb03946f",
   "metadata": {},
   "outputs": [],
   "source": [
    "model.compile(\n",
    "    optimizer=\"adam\",\n",
    "    loss=\"sparse_categorical_crossentropy\",\n",
    "    metrics=[\"sparse_categorical_accuracy\", f1],\n",
    ")"
   ]
  },
  {
   "cell_type": "code",
   "execution_count": 9,
   "id": "a4f7b98e-c629-48f3-8a0d-22509fa1a03e",
   "metadata": {},
   "outputs": [],
   "source": [
    "logdir = \"logs\""
   ]
  },
  {
   "cell_type": "code",
   "execution_count": 10,
   "id": "cdb6bc52-0783-45ae-a019-593c8a2d4b87",
   "metadata": {},
   "outputs": [],
   "source": [
    "tensorboard_callback = tf.keras.callbacks.TensorBoard(log_dir = logdir)"
   ]
  },
  {
   "cell_type": "code",
   "execution_count": 222,
   "id": "33a49265-e1c0-44e1-94a9-4b5c143c5dbf",
   "metadata": {},
   "outputs": [
    {
     "name": "stdout",
     "output_type": "stream",
     "text": [
      "Epoch 1/20\n",
      "24/24 [==============================] - 25s 942ms/step - loss: 3.4470 - sparse_categorical_accuracy: 0.7747 - f1_score: 0.5292 - val_loss: 0.4429 - val_sparse_categorical_accuracy: 0.9062 - val_f1_score: 0.5259\n",
      "Epoch 2/20\n",
      "24/24 [==============================] - 22s 914ms/step - loss: 0.3352 - sparse_categorical_accuracy: 0.9128 - f1_score: 0.5284 - val_loss: 0.0577 - val_sparse_categorical_accuracy: 0.9777 - val_f1_score: 0.5298\n",
      "Epoch 3/20\n",
      "24/24 [==============================] - 22s 915ms/step - loss: 0.0974 - sparse_categorical_accuracy: 0.9766 - f1_score: 0.5276 - val_loss: 0.0094 - val_sparse_categorical_accuracy: 0.9955 - val_f1_score: 0.5290\n",
      "Epoch 4/20\n",
      "24/24 [==============================] - 22s 905ms/step - loss: 0.0310 - sparse_categorical_accuracy: 0.9922 - f1_score: 0.5295 - val_loss: 0.0340 - val_sparse_categorical_accuracy: 0.9911 - val_f1_score: 0.5294\n",
      "Epoch 5/20\n",
      "24/24 [==============================] - 22s 907ms/step - loss: 0.0392 - sparse_categorical_accuracy: 0.9831 - f1_score: 0.5294 - val_loss: 0.1245 - val_sparse_categorical_accuracy: 0.9509 - val_f1_score: 0.5290\n",
      "Epoch 6/20\n",
      "24/24 [==============================] - 22s 935ms/step - loss: 0.0639 - sparse_categorical_accuracy: 0.9766 - f1_score: 0.5291 - val_loss: 0.0995 - val_sparse_categorical_accuracy: 0.9732 - val_f1_score: 0.5205\n",
      "Epoch 7/20\n",
      "24/24 [==============================] - 23s 963ms/step - loss: 0.0810 - sparse_categorical_accuracy: 0.9766 - f1_score: 0.5291 - val_loss: 0.3670 - val_sparse_categorical_accuracy: 0.9018 - val_f1_score: 0.5302\n",
      "Epoch 8/20\n",
      "24/24 [==============================] - 22s 903ms/step - loss: 0.1651 - sparse_categorical_accuracy: 0.9427 - f1_score: 0.5271 - val_loss: 0.1410 - val_sparse_categorical_accuracy: 0.9196 - val_f1_score: 0.5247\n",
      "Epoch 9/20\n",
      "24/24 [==============================] - 22s 944ms/step - loss: 0.4705 - sparse_categorical_accuracy: 0.8828 - f1_score: 0.5286 - val_loss: 0.6888 - val_sparse_categorical_accuracy: 0.8571 - val_f1_score: 0.5305\n",
      "Epoch 10/20\n",
      "24/24 [==============================] - 23s 983ms/step - loss: 0.3396 - sparse_categorical_accuracy: 0.9193 - f1_score: 0.5283 - val_loss: 0.0411 - val_sparse_categorical_accuracy: 0.9866 - val_f1_score: 0.5294\n",
      "Epoch 11/20\n",
      "24/24 [==============================] - 22s 923ms/step - loss: 0.0352 - sparse_categorical_accuracy: 0.9896 - f1_score: 0.5275 - val_loss: 0.0334 - val_sparse_categorical_accuracy: 0.9911 - val_f1_score: 0.5275\n",
      "Epoch 12/20\n",
      "24/24 [==============================] - 23s 980ms/step - loss: 0.0420 - sparse_categorical_accuracy: 0.9831 - f1_score: 0.5277 - val_loss: 0.0051 - val_sparse_categorical_accuracy: 1.0000 - val_f1_score: 0.5279\n",
      "Epoch 13/20\n",
      "24/24 [==============================] - 23s 962ms/step - loss: 0.0168 - sparse_categorical_accuracy: 0.9948 - f1_score: 0.5289 - val_loss: 0.0559 - val_sparse_categorical_accuracy: 0.9777 - val_f1_score: 0.5283\n",
      "Epoch 14/20\n",
      "24/24 [==============================] - 22s 938ms/step - loss: 0.0190 - sparse_categorical_accuracy: 0.9922 - f1_score: 0.5264 - val_loss: 0.0190 - val_sparse_categorical_accuracy: 0.9955 - val_f1_score: 0.5255\n",
      "Epoch 15/20\n",
      "24/24 [==============================] - 23s 974ms/step - loss: 0.0409 - sparse_categorical_accuracy: 0.9870 - f1_score: 0.5287 - val_loss: 0.0044 - val_sparse_categorical_accuracy: 1.0000 - val_f1_score: 0.5247\n",
      "Epoch 16/20\n",
      "24/24 [==============================] - 23s 974ms/step - loss: 0.0826 - sparse_categorical_accuracy: 0.9727 - f1_score: 0.5280 - val_loss: 0.2884 - val_sparse_categorical_accuracy: 0.9241 - val_f1_score: 0.5188\n",
      "Epoch 17/20\n",
      "24/24 [==============================] - 23s 970ms/step - loss: 0.0472 - sparse_categorical_accuracy: 0.9870 - f1_score: 0.5280 - val_loss: 0.0619 - val_sparse_categorical_accuracy: 0.9821 - val_f1_score: 0.5251\n",
      "Epoch 18/20\n",
      "24/24 [==============================] - 23s 972ms/step - loss: 0.2746 - sparse_categorical_accuracy: 0.9310 - f1_score: 0.5272 - val_loss: 0.7661 - val_sparse_categorical_accuracy: 0.8304 - val_f1_score: 0.5302\n",
      "Epoch 19/20\n",
      "24/24 [==============================] - 23s 983ms/step - loss: 0.2942 - sparse_categorical_accuracy: 0.9310 - f1_score: 0.5286 - val_loss: 0.0645 - val_sparse_categorical_accuracy: 0.9732 - val_f1_score: 0.5267\n",
      "Epoch 20/20\n",
      "24/24 [==============================] - 23s 971ms/step - loss: 0.0202 - sparse_categorical_accuracy: 0.9896 - f1_score: 0.5288 - val_loss: 0.0189 - val_sparse_categorical_accuracy: 0.9955 - val_f1_score: 0.5302\n"
     ]
    }
   ],
   "source": [
    "history = model.fit(train, epochs = 20, validation_data = val, callbacks = [tensorboard_callback])"
   ]
  },
  {
   "cell_type": "code",
   "execution_count": 223,
   "id": "f8926d84-0480-4939-bdab-09b1632f7a32",
   "metadata": {},
   "outputs": [
    {
     "data": {
      "image/png": "[encoded data removed]",
      "text/plain": [
       "<Figure size 640x480 with 1 Axes>"
      ]
     },
     "metadata": {},
     "output_type": "display_data"
    }
   ],
   "source": [
    "plt.plot(history.history[\"sparse_categorical_accuracy\"])\n",
    "plt.plot(history.history['val_sparse_categorical_accuracy'])\n",
    "plt.title('model accuracy')\n",
    "plt.ylabel('accuracy')\n",
    "plt.xlabel('epoch')\n",
    "plt.legend(['train', 'val'], loc='upper left')\n",
    "plt.show()"
   ]
  },
  {
   "cell_type": "code",
   "execution_count": 224,
   "id": "31f1ef2e-a277-4ef3-ac9c-33a080f4ff90",
   "metadata": {},
   "outputs": [
    {
     "data": {
      "image/png": "[encoded data removed]",
      "text/plain": [
       "<Figure size 640x480 with 1 Axes>"
      ]
     },
     "metadata": {},
     "output_type": "display_data"
    }
   ],
   "source": [
    "plt.plot(history.history['loss'])\n",
    "plt.plot(history.history['val_loss'])\n",
    "plt.title('model loss')\n",
    "plt.ylabel('loss')\n",
    "plt.xlabel('epoch')\n",
    "plt.legend(['train', 'val'], loc='upper left')\n",
    "plt.show()"
   ]
  },
  {
   "cell_type": "code",
   "execution_count": 225,
   "id": "bea53dfa-05f5-4e9b-9315-855f3ac9fd98",
   "metadata": {},
   "outputs": [
    {
     "name": "stdout",
     "output_type": "stream",
     "text": [
      "3/3 [==============================] - 2s 682ms/step - loss: 0.0095 - sparse_categorical_accuracy: 1.0000 - f1_score: 0.5235\n"
     ]
    },
    {
     "data": {
      "text/plain": [
       "[0.009524884633719921, 1.0, 0.5234898924827576]"
      ]
     },
     "execution_count": 225,
     "metadata": {},
     "output_type": "execute_result"
    }
   ],
   "source": [
    "model.evaluate(test)"
   ]
  },
  {
   "cell_type": "code",
   "execution_count": 187,
   "id": "f9510279-a895-476f-a034-d97a4b6694fd",
   "metadata": {},
   "outputs": [
    {
     "name": "stdout",
     "output_type": "stream",
     "text": [
      "[]\n",
      "[2 1 1 1 1 2 2 0 2 1 2 1 0 0 2 1 2 0 1 2 2 1 2 2 1 1 2 1 1 1 2 1]\n",
      "1/1 [==============================] - 1s 1s/step\n",
      "tf.Tensor([2 1 1 1 1 2 2 2 2 1 2 1 2 2 2 1 2 2 1 2 2 1 2 2 1 1 2 1 1 1 2 1], shape=(32,), dtype=int64)\n",
      "1/1 [==============================] - 1s 723ms/step - loss: 0.0782 - sparse_categorical_accuracy: 0.9688 - f1_score: 0.5263\n",
      "[array([2, 1, 1, 1, 1, 2, 2, 0, 2, 1, 2, 1, 0, 0, 2, 1, 2, 0, 1, 2, 2, 1,\n",
      "       2, 2, 1, 1, 2, 1, 1, 1, 2, 1], dtype=int32)]\n"
     ]
    }
   ],
   "source": [
    "labels = []\n",
    "print(labels)\n",
    "y_predictions = []\n",
    "for batch in test.as_numpy_iterator():\n",
    "    X,y = batch\n",
    "    print(y)\n",
    "    labels.append(y)\n",
    "    y_pred = tf.argmax(model.predict(X), axis=1)\n",
    "    print(y_pred)\n",
    "    print(labels)\n",
    "for pred in yhat:\n",
    "    y_predictions.append(numpy.argmax(pred))\n",
    "y_true = []\n",
    "for label in labels:\n",
    "    for i in label:\n",
    "        y_true.append(i)\n"
   ]
  },
  {
   "cell_type": "code",
   "execution_count": 191,
   "id": "184a244a-b1a6-4f13-b912-a393b3893a79",
   "metadata": {},
   "outputs": [
    {
     "name": "stdout",
     "output_type": "stream",
     "text": [
      "Precision: 0.875\n"
     ]
    }
   ],
   "source": [
    "precision_metric = tf.keras.metrics.Precision()\n",
    "precision_metric.update_state(y_true, y_pred)\n",
    "\n",
    "print(\"Precision:\", precision_metric.result().numpy())"
   ]
  },
  {
   "cell_type": "code",
   "execution_count": 196,
   "id": "1290b5ae-fff2-410e-9d99-66a2ded06828",
   "metadata": {},
   "outputs": [
    {
     "name": "stdout",
     "output_type": "stream",
     "text": [
      "Recall: 0.875\n"
     ]
    }
   ],
   "source": [
    "from sklearn.metrics import recall_score\n",
    "print(\"Recall:\", recall_score(y_true, y_pred, average = \"weighted\"))"
   ]
  },
  {
   "cell_type": "code",
   "execution_count": 193,
   "id": "89c0bf67-b4ed-4433-b728-5e04fde40d04",
   "metadata": {},
   "outputs": [
    {
     "name": "stdout",
     "output_type": "stream",
     "text": [
      "F1_Score: 0.8208333333333333\n"
     ]
    }
   ],
   "source": [
    "from sklearn.metrics import f1_score\n",
    "print(\"F1_Score:\",f1_score(y_true, y_pred, average='weighted'))"
   ]
  },
  {
   "cell_type": "code",
   "execution_count": 69,
   "id": "ab0a705e-a182-4ac9-bc07-5139c3d3a3b4",
   "metadata": {},
   "outputs": [],
   "source": [
    "data_dir = \"The IQ-OTHNCCD lung cancer dataset-scaled\""
   ]
  },
  {
   "cell_type": "code",
   "execution_count": 70,
   "id": "1cd98b95-259f-443e-8d61-594447a6b80c",
   "metadata": {},
   "outputs": [
    {
     "name": "stdout",
     "output_type": "stream",
     "text": [
      "Found 1097 files belonging to 3 classes.\n"
     ]
    }
   ],
   "source": [
    "dataset = tf.keras.utils.image_dataset_from_directory(data_dir,image_size=(224,224))"
   ]
  },
  {
   "cell_type": "code",
   "execution_count": 71,
   "id": "9956b1b6-b78e-4715-9ad0-64a07f6d4469",
   "metadata": {},
   "outputs": [],
   "source": [
    "train = dataset.take(train_size)\n",
    "val = dataset.take(val_size)\n",
    "test = dataset.take(test_size)"
   ]
  },
  {
   "cell_type": "code",
   "execution_count": 200,
   "id": "3712f37c-49ca-423d-a820-85079da0265d",
   "metadata": {},
   "outputs": [],
   "source": [
    "model.compile(\n",
    "    optimizer=\"adam\",\n",
    "    loss=\"sparse_categorical_crossentropy\",\n",
    "    metrics=[\"sparse_categorical_accuracy\", f1],\n",
    ")"
   ]
  },
  {
   "cell_type": "code",
   "execution_count": 201,
   "id": "e02fa793-e481-4b4a-96b4-d89f13dde560",
   "metadata": {},
   "outputs": [
    {
     "name": "stdout",
     "output_type": "stream",
     "text": [
      "Epoch 1/20\n",
      "24/24 [==============================] - 28s 1s/step - loss: 10.8728 - sparse_categorical_accuracy: 0.6784 - f1_score: 0.5291 - val_loss: 3.4596 - val_sparse_categorical_accuracy: 0.6172 - val_f1_score: 0.5304\n",
      "Epoch 2/20\n",
      "24/24 [==============================] - 22s 941ms/step - loss: 1.2595 - sparse_categorical_accuracy: 0.8490 - f1_score: 0.5298 - val_loss: 1.1565 - val_sparse_categorical_accuracy: 0.8359 - val_f1_score: 0.5270\n",
      "Epoch 3/20\n",
      "24/24 [==============================] - 22s 936ms/step - loss: 0.3738 - sparse_categorical_accuracy: 0.9271 - f1_score: 0.5297 - val_loss: 0.4132 - val_sparse_categorical_accuracy: 0.9219 - val_f1_score: 0.5277\n",
      "Epoch 4/20\n",
      "24/24 [==============================] - 22s 940ms/step - loss: 0.2500 - sparse_categorical_accuracy: 0.9362 - f1_score: 0.5300 - val_loss: 0.1604 - val_sparse_categorical_accuracy: 0.9609 - val_f1_score: 0.5300\n",
      "Epoch 5/20\n",
      "24/24 [==============================] - 23s 959ms/step - loss: 0.1543 - sparse_categorical_accuracy: 0.9622 - f1_score: 0.5302 - val_loss: 0.2205 - val_sparse_categorical_accuracy: 0.9727 - val_f1_score: 0.5273\n",
      "Epoch 6/20\n",
      "24/24 [==============================] - 24s 994ms/step - loss: 0.2399 - sparse_categorical_accuracy: 0.9557 - f1_score: 0.5299 - val_loss: 0.0252 - val_sparse_categorical_accuracy: 0.9922 - val_f1_score: 0.5267\n",
      "Epoch 7/20\n",
      "24/24 [==============================] - 22s 936ms/step - loss: 0.2360 - sparse_categorical_accuracy: 0.9479 - f1_score: 0.5298 - val_loss: 0.8575 - val_sparse_categorical_accuracy: 0.8633 - val_f1_score: 0.5277\n",
      "Epoch 8/20\n",
      "24/24 [==============================] - 23s 984ms/step - loss: 0.3858 - sparse_categorical_accuracy: 0.9141 - f1_score: 0.5286 - val_loss: 0.0619 - val_sparse_categorical_accuracy: 0.9805 - val_f1_score: 0.5335\n",
      "Epoch 9/20\n",
      "24/24 [==============================] - 23s 958ms/step - loss: 0.2777 - sparse_categorical_accuracy: 0.9349 - f1_score: 0.5304 - val_loss: 0.4060 - val_sparse_categorical_accuracy: 0.9141 - val_f1_score: 0.5297\n",
      "Epoch 10/20\n",
      "24/24 [==============================] - 22s 936ms/step - loss: 0.2286 - sparse_categorical_accuracy: 0.9466 - f1_score: 0.5293 - val_loss: 0.0363 - val_sparse_categorical_accuracy: 0.9922 - val_f1_score: 0.5256\n",
      "Epoch 11/20\n",
      "24/24 [==============================] - 22s 944ms/step - loss: 0.0385 - sparse_categorical_accuracy: 0.9844 - f1_score: 0.5284 - val_loss: 0.0228 - val_sparse_categorical_accuracy: 0.9844 - val_f1_score: 0.5284\n",
      "Epoch 12/20\n",
      "24/24 [==============================] - 24s 1s/step - loss: 0.0522 - sparse_categorical_accuracy: 0.9753 - f1_score: 0.5288 - val_loss: 0.0085 - val_sparse_categorical_accuracy: 0.9961 - val_f1_score: 0.5270\n",
      "Epoch 13/20\n",
      "24/24 [==============================] - 22s 939ms/step - loss: 0.0667 - sparse_categorical_accuracy: 0.9714 - f1_score: 0.5283 - val_loss: 0.0244 - val_sparse_categorical_accuracy: 0.9922 - val_f1_score: 0.5290\n",
      "Epoch 14/20\n",
      "24/24 [==============================] - 23s 985ms/step - loss: 0.2022 - sparse_categorical_accuracy: 0.9375 - f1_score: 0.5295 - val_loss: 0.0407 - val_sparse_categorical_accuracy: 0.9844 - val_f1_score: 0.5294\n",
      "Epoch 15/20\n",
      "24/24 [==============================] - 24s 998ms/step - loss: 0.5740 - sparse_categorical_accuracy: 0.8984 - f1_score: 0.5300 - val_loss: 8.6104 - val_sparse_categorical_accuracy: 0.5820 - val_f1_score: 0.5284\n",
      "Epoch 16/20\n",
      "24/24 [==============================] - 22s 943ms/step - loss: 2.0850 - sparse_categorical_accuracy: 0.8385 - f1_score: 0.5296 - val_loss: 1.3478 - val_sparse_categorical_accuracy: 0.7422 - val_f1_score: 0.5297\n",
      "Epoch 17/20\n",
      "24/24 [==============================] - 24s 990ms/step - loss: 0.4466 - sparse_categorical_accuracy: 0.9049 - f1_score: 0.5301 - val_loss: 0.6043 - val_sparse_categorical_accuracy: 0.8750 - val_f1_score: 0.5256\n",
      "Epoch 18/20\n",
      "24/24 [==============================] - 24s 1s/step - loss: 0.7856 - sparse_categorical_accuracy: 0.9036 - f1_score: 0.5283 - val_loss: 1.1759 - val_sparse_categorical_accuracy: 0.8750 - val_f1_score: 0.5267\n",
      "Epoch 19/20\n",
      "24/24 [==============================] - 23s 960ms/step - loss: 0.3999 - sparse_categorical_accuracy: 0.9206 - f1_score: 0.5286 - val_loss: 0.0489 - val_sparse_categorical_accuracy: 0.9805 - val_f1_score: 0.5313\n",
      "Epoch 20/20\n",
      "24/24 [==============================] - 23s 947ms/step - loss: 0.4650 - sparse_categorical_accuracy: 0.9245 - f1_score: 0.5289 - val_loss: 0.8563 - val_sparse_categorical_accuracy: 0.7969 - val_f1_score: 0.5316\n"
     ]
    }
   ],
   "source": [
    "history = model.fit(train, epochs = 20, validation_data = val, callbacks = [tensorboard_callback])"
   ]
  },
  {
   "cell_type": "code",
   "execution_count": 214,
   "id": "c9417ca1-50fb-4c54-b2ab-6e0f80309950",
   "metadata": {},
   "outputs": [
    {
     "name": "stdout",
     "output_type": "stream",
     "text": [
      "1/1 [==============================] - 1s 742ms/step - loss: 1.3254 - sparse_categorical_accuracy: 0.7812 - f1_score: 0.5412\n"
     ]
    },
    {
     "data": {
      "text/plain": [
       "[1.325411319732666, 0.78125, 0.5411764979362488]"
      ]
     },
     "execution_count": 214,
     "metadata": {},
     "output_type": "execute_result"
    }
   ],
   "source": [
    "model.evaluate(test)"
   ]
  },
  {
   "cell_type": "code",
   "execution_count": 229,
   "id": "7f2c9c82-1bce-4199-a764-522fe87b825d",
   "metadata": {},
   "outputs": [
    {
     "name": "stdout",
     "output_type": "stream",
     "text": [
      "Model: \"sequential_3\"\n",
      "_________________________________________________________________\n",
      " Layer (type)                Output Shape              Param #   \n",
      "=================================================================\n",
      " resizing (Resizing)         (None, 224, 224, 3)       0         \n",
      "                                                                 \n",
      " conv2d (Conv2D)             (None, 56, 56, 96)        34944     \n",
      "                                                                 \n",
      " lambda (Lambda)             (None, 56, 56, 96)        0         \n",
      "                                                                 \n",
      " activation (Activation)     (None, 56, 56, 96)        0         \n",
      "                                                                 \n",
      " max_pooling2d (MaxPooling2D  (None, 27, 27, 96)       0         \n",
      " )                                                               \n",
      "                                                                 \n",
      " conv2d_1 (Conv2D)           (None, 7, 7, 256)         614656    \n",
      "                                                                 \n",
      " lambda_1 (Lambda)           (None, 7, 7, 256)         0         \n",
      "                                                                 \n",
      " activation_1 (Activation)   (None, 7, 7, 256)         0         \n",
      "                                                                 \n",
      " max_pooling2d_1 (MaxPooling  (None, 3, 3, 256)        0         \n",
      " 2D)                                                             \n",
      "                                                                 \n",
      " conv2d_2 (Conv2D)           (None, 1, 1, 384)         885120    \n",
      "                                                                 \n",
      " activation_2 (Activation)   (None, 1, 1, 384)         0         \n",
      "                                                                 \n",
      " conv2d_3 (Conv2D)           (None, 1, 1, 384)         1327488   \n",
      "                                                                 \n",
      " activation_3 (Activation)   (None, 1, 1, 384)         0         \n",
      "                                                                 \n",
      " conv2d_4 (Conv2D)           (None, 1, 1, 256)         884992    \n",
      "                                                                 \n",
      " activation_4 (Activation)   (None, 1, 1, 256)         0         \n",
      "                                                                 \n",
      " flatten_2 (Flatten)         (None, 256)               0         \n",
      "                                                                 \n",
      " dense_4 (Dense)             (None, 4096)              1052672   \n",
      "                                                                 \n",
      " dropout (Dropout)           (None, 4096)              0         \n",
      "                                                                 \n",
      " dense_5 (Dense)             (None, 4096)              16781312  \n",
      "                                                                 \n",
      " dropout_1 (Dropout)         (None, 4096)              0         \n",
      "                                                                 \n",
      " dense_6 (Dense)             (None, 10)                40970     \n",
      "                                                                 \n",
      "=================================================================\n",
      "Total params: 21,622,154\n",
      "Trainable params: 21,622,154\n",
      "Non-trainable params: 0\n",
      "_________________________________________________________________\n"
     ]
    }
   ],
   "source": [
    "model = Sequential()\n",
    "model.add(layers.experimental.preprocessing.Resizing(224, 224, interpolation=\"bilinear\", input_shape= input_shape))\n",
    "model.add(layers.Conv2D(96, 11, strides=4, padding='same'))\n",
    "model.add(layers.Lambda(tf.nn.local_response_normalization))\n",
    "model.add(layers.Activation('relu'))\n",
    "model.add(layers.MaxPooling2D(3, strides=2))\n",
    "model.add(layers.Conv2D(256, 5, strides=4, padding='same'))\n",
    "model.add(layers.Lambda(tf.nn.local_response_normalization))\n",
    "model.add(layers.Activation('relu'))\n",
    "model.add(layers.MaxPooling2D(3, strides=2))\n",
    "model.add(layers.Conv2D(384, 3, strides=4, padding='same'))\n",
    "model.add(layers.Activation('relu'))\n",
    "model.add(layers.Conv2D(384, 3, strides=4, padding='same'))\n",
    "model.add(layers.Activation('relu'))\n",
    "model.add(layers.Conv2D(256, 3, strides=4, padding='same'))\n",
    "model.add(layers.Activation('relu'))\n",
    "model.add(layers.Flatten())\n",
    "model.add(layers.Dense(4096, activation='relu'))\n",
    "model.add(layers.Dropout(0.5))\n",
    "model.add(layers.Dense(4096, activation='relu'))\n",
    "model.add(layers.Dropout(0.5))\n",
    "model.add(layers.Dense(10, activation='softmax'))\n",
    "model.summary()"
   ]
  },
  {
   "cell_type": "code",
   "execution_count": 230,
   "id": "70ca9735-a440-48e6-8b5b-add0392af43f",
   "metadata": {},
   "outputs": [],
   "source": [
    "model.compile(\n",
    "    optimizer=\"adam\",\n",
    "    loss=\"sparse_categorical_crossentropy\",\n",
    "    metrics=[\"sparse_categorical_accuracy\", f1],\n",
    ")"
   ]
  },
  {
   "cell_type": "code",
   "execution_count": 235,
   "id": "325735e4-7e0c-478f-9a67-10998493e2af",
   "metadata": {},
   "outputs": [
    {
     "name": "stdout",
     "output_type": "stream",
     "text": [
      "Epoch 1/20\n",
      "24/24 [==============================] - 5s 179ms/step - loss: 1.2582 - sparse_categorical_accuracy: 0.4479 - f1_score: 0.1992 - val_loss: 0.9768 - val_sparse_categorical_accuracy: 0.4018 - val_f1_score: 0.1858\n",
      "Epoch 2/20\n",
      "24/24 [==============================] - 4s 178ms/step - loss: 0.9821 - sparse_categorical_accuracy: 0.4766 - f1_score: 0.1855 - val_loss: 0.9814 - val_sparse_categorical_accuracy: 0.4821 - val_f1_score: 0.1856\n",
      "Epoch 3/20\n",
      "24/24 [==============================] - 5s 189ms/step - loss: 0.9725 - sparse_categorical_accuracy: 0.4883 - f1_score: 0.1854 - val_loss: 0.9886 - val_sparse_categorical_accuracy: 0.4821 - val_f1_score: 0.1853\n",
      "Epoch 4/20\n",
      "24/24 [==============================] - 5s 190ms/step - loss: 0.9834 - sparse_categorical_accuracy: 0.4727 - f1_score: 0.1853 - val_loss: 0.9587 - val_sparse_categorical_accuracy: 0.5134 - val_f1_score: 0.1853\n",
      "Epoch 5/20\n",
      "24/24 [==============================] - 5s 190ms/step - loss: 0.9632 - sparse_categorical_accuracy: 0.5091 - f1_score: 0.1852 - val_loss: 0.9587 - val_sparse_categorical_accuracy: 0.5179 - val_f1_score: 0.1853\n",
      "Epoch 6/20\n",
      "24/24 [==============================] - 5s 192ms/step - loss: 0.9730 - sparse_categorical_accuracy: 0.4596 - f1_score: 0.1854 - val_loss: 0.9501 - val_sparse_categorical_accuracy: 0.4911 - val_f1_score: 0.1858\n",
      "Epoch 7/20\n",
      "24/24 [==============================] - 5s 189ms/step - loss: 0.9767 - sparse_categorical_accuracy: 0.4792 - f1_score: 0.1855 - val_loss: 0.9904 - val_sparse_categorical_accuracy: 0.4509 - val_f1_score: 0.1856\n",
      "Epoch 8/20\n",
      "24/24 [==============================] - 5s 189ms/step - loss: 0.9615 - sparse_categorical_accuracy: 0.5052 - f1_score: 0.1855 - val_loss: 1.0332 - val_sparse_categorical_accuracy: 0.4509 - val_f1_score: 0.1852\n",
      "Epoch 9/20\n",
      "24/24 [==============================] - 5s 187ms/step - loss: 0.9782 - sparse_categorical_accuracy: 0.4948 - f1_score: 0.1854 - val_loss: 0.9625 - val_sparse_categorical_accuracy: 0.5000 - val_f1_score: 0.1858\n",
      "Epoch 10/20\n",
      "24/24 [==============================] - 4s 184ms/step - loss: 0.9646 - sparse_categorical_accuracy: 0.4831 - f1_score: 0.1854 - val_loss: 0.9872 - val_sparse_categorical_accuracy: 0.5045 - val_f1_score: 0.1852\n",
      "Epoch 11/20\n",
      "24/24 [==============================] - 4s 185ms/step - loss: 0.9725 - sparse_categorical_accuracy: 0.4766 - f1_score: 0.1855 - val_loss: 0.9979 - val_sparse_categorical_accuracy: 0.4955 - val_f1_score: 0.1849\n",
      "Epoch 12/20\n",
      "24/24 [==============================] - 4s 185ms/step - loss: 0.9706 - sparse_categorical_accuracy: 0.5039 - f1_score: 0.1854 - val_loss: 0.9619 - val_sparse_categorical_accuracy: 0.4866 - val_f1_score: 0.1858\n",
      "Epoch 13/20\n",
      "24/24 [==============================] - 5s 187ms/step - loss: 0.9749 - sparse_categorical_accuracy: 0.4805 - f1_score: 0.1854 - val_loss: 0.9564 - val_sparse_categorical_accuracy: 0.4866 - val_f1_score: 0.1859\n",
      "Epoch 14/20\n",
      "24/24 [==============================] - 4s 186ms/step - loss: 0.9740 - sparse_categorical_accuracy: 0.4688 - f1_score: 0.1855 - val_loss: 0.9378 - val_sparse_categorical_accuracy: 0.5045 - val_f1_score: 0.1860\n",
      "Epoch 15/20\n",
      "24/24 [==============================] - 5s 190ms/step - loss: 0.9544 - sparse_categorical_accuracy: 0.5169 - f1_score: 0.1853 - val_loss: 0.9365 - val_sparse_categorical_accuracy: 0.4821 - val_f1_score: 0.1864\n",
      "Epoch 16/20\n",
      "24/24 [==============================] - 4s 178ms/step - loss: 0.9658 - sparse_categorical_accuracy: 0.4818 - f1_score: 0.1856 - val_loss: 0.9806 - val_sparse_categorical_accuracy: 0.4821 - val_f1_score: 0.1854\n",
      "Epoch 17/20\n",
      "24/24 [==============================] - 4s 171ms/step - loss: 0.9545 - sparse_categorical_accuracy: 0.5156 - f1_score: 0.1854 - val_loss: 0.9860 - val_sparse_categorical_accuracy: 0.4688 - val_f1_score: 0.1855\n",
      "Epoch 18/20\n",
      "24/24 [==============================] - 4s 170ms/step - loss: 0.9670 - sparse_categorical_accuracy: 0.4753 - f1_score: 0.1855 - val_loss: 0.9916 - val_sparse_categorical_accuracy: 0.4732 - val_f1_score: 0.1855\n",
      "Epoch 19/20\n",
      "24/24 [==============================] - 4s 171ms/step - loss: 0.9692 - sparse_categorical_accuracy: 0.4596 - f1_score: 0.1856 - val_loss: 0.9981 - val_sparse_categorical_accuracy: 0.4911 - val_f1_score: 0.1850\n",
      "Epoch 20/20\n",
      "24/24 [==============================] - 4s 180ms/step - loss: 0.9527 - sparse_categorical_accuracy: 0.5104 - f1_score: 0.1856 - val_loss: 1.0039 - val_sparse_categorical_accuracy: 0.4732 - val_f1_score: 0.1853\n"
     ]
    }
   ],
   "source": [
    "history = model.fit(train, epochs = 20, validation_data = val, callbacks = [tensorboard_callback])"
   ]
  },
  {
   "cell_type": "code",
   "execution_count": 236,
   "id": "847d7cae-0b6a-4587-a745-291112a71775",
   "metadata": {},
   "outputs": [
    {
     "name": "stdout",
     "output_type": "stream",
     "text": [
      "3/3 [==============================] - 0s 51ms/step - loss: 0.9889 - sparse_categorical_accuracy: 0.5104 - f1_score: 0.1848\n"
     ]
    },
    {
     "data": {
      "text/plain": [
       "[0.9888710379600525, 0.5104166865348816, 0.18483412265777588]"
      ]
     },
     "execution_count": 236,
     "metadata": {},
     "output_type": "execute_result"
    }
   ],
   "source": [
    "model.evaluate(test)"
   ]
  },
  {
   "cell_type": "code",
   "execution_count": 11,
   "id": "7c0c0798-215f-49fa-a79e-562e4b2abd6d",
   "metadata": {},
   "outputs": [
    {
     "name": "stdout",
     "output_type": "stream",
     "text": [
      "Epoch 1/20\n",
      "24/24 [==============================] - 29s 981ms/step - loss: 41.4165 - sparse_categorical_accuracy: 0.4766 - val_loss: 1.7947 - val_sparse_categorical_accuracy: 0.6652\n",
      "Epoch 2/20\n",
      "24/24 [==============================] - 22s 935ms/step - loss: 2.3116 - sparse_categorical_accuracy: 0.6120 - val_loss: 0.8466 - val_sparse_categorical_accuracy: 0.7679\n",
      "Epoch 3/20\n",
      "24/24 [==============================] - 23s 955ms/step - loss: 0.7647 - sparse_categorical_accuracy: 0.7396 - val_loss: 0.5090 - val_sparse_categorical_accuracy: 0.7812\n",
      "Epoch 4/20\n",
      "24/24 [==============================] - 24s 994ms/step - loss: 0.4640 - sparse_categorical_accuracy: 0.8229 - val_loss: 0.5512 - val_sparse_categorical_accuracy: 0.8661\n",
      "Epoch 5/20\n",
      "24/24 [==============================] - 25s 1s/step - loss: 0.7717 - sparse_categorical_accuracy: 0.8125 - val_loss: 1.0984 - val_sparse_categorical_accuracy: 0.8438\n",
      "Epoch 6/20\n",
      "24/24 [==============================] - 27s 1s/step - loss: 0.7891 - sparse_categorical_accuracy: 0.8333 - val_loss: 0.1733 - val_sparse_categorical_accuracy: 0.9464\n",
      "Epoch 7/20\n",
      "24/24 [==============================] - 25s 1s/step - loss: 0.3308 - sparse_categorical_accuracy: 0.8841 - val_loss: 0.1903 - val_sparse_categorical_accuracy: 0.9152\n",
      "Epoch 8/20\n",
      "24/24 [==============================] - 22s 917ms/step - loss: 0.6247 - sparse_categorical_accuracy: 0.8359 - val_loss: 0.2447 - val_sparse_categorical_accuracy: 0.9241\n",
      "Epoch 9/20\n",
      "24/24 [==============================] - 22s 929ms/step - loss: 0.3367 - sparse_categorical_accuracy: 0.8932 - val_loss: 0.3011 - val_sparse_categorical_accuracy: 0.8750\n",
      "Epoch 10/20\n",
      "24/24 [==============================] - 22s 912ms/step - loss: 0.4152 - sparse_categorical_accuracy: 0.8477 - val_loss: 0.2442 - val_sparse_categorical_accuracy: 0.9107\n",
      "Epoch 11/20\n",
      "24/24 [==============================] - 23s 952ms/step - loss: 0.2149 - sparse_categorical_accuracy: 0.9128 - val_loss: 0.1959 - val_sparse_categorical_accuracy: 0.9241\n",
      "Epoch 12/20\n",
      "24/24 [==============================] - 21s 899ms/step - loss: 0.1119 - sparse_categorical_accuracy: 0.9648 - val_loss: 0.0678 - val_sparse_categorical_accuracy: 0.9777\n",
      "Epoch 13/20\n",
      "24/24 [==============================] - 22s 937ms/step - loss: 0.1013 - sparse_categorical_accuracy: 0.9727 - val_loss: 0.1862 - val_sparse_categorical_accuracy: 0.9152\n",
      "Epoch 14/20\n",
      "24/24 [==============================] - 23s 969ms/step - loss: 0.2190 - sparse_categorical_accuracy: 0.9284 - val_loss: 0.0851 - val_sparse_categorical_accuracy: 0.9732\n",
      "Epoch 15/20\n",
      "24/24 [==============================] - 22s 921ms/step - loss: 0.0914 - sparse_categorical_accuracy: 0.9674 - val_loss: 0.1351 - val_sparse_categorical_accuracy: 0.9464\n",
      "Epoch 16/20\n",
      "24/24 [==============================] - 21s 901ms/step - loss: 0.0817 - sparse_categorical_accuracy: 0.9688 - val_loss: 0.1327 - val_sparse_categorical_accuracy: 0.9420\n",
      "Epoch 17/20\n",
      "24/24 [==============================] - 23s 967ms/step - loss: 0.1330 - sparse_categorical_accuracy: 0.9596 - val_loss: 0.0767 - val_sparse_categorical_accuracy: 0.9777\n",
      "Epoch 18/20\n",
      "24/24 [==============================] - 23s 958ms/step - loss: 0.3378 - sparse_categorical_accuracy: 0.8711 - val_loss: 0.4348 - val_sparse_categorical_accuracy: 0.8170\n",
      "Epoch 19/20\n",
      "24/24 [==============================] - 22s 930ms/step - loss: 0.5071 - sparse_categorical_accuracy: 0.8464 - val_loss: 0.2010 - val_sparse_categorical_accuracy: 0.9330\n",
      "Epoch 20/20\n",
      "24/24 [==============================] - 23s 948ms/step - loss: 0.4153 - sparse_categorical_accuracy: 0.8594 - val_loss: 0.1237 - val_sparse_categorical_accuracy: 0.9509\n"
     ]
    }
   ],
   "source": [
    "base_model = DenseNet121(weights=None, include_top=False, input_shape=input_shape)\n",
    "\n",
    "for layer in base_model.layers:\n",
    "    layer.trainable = False\n",
    "    \n",
    "DenseNet121 = Sequential()\n",
    "DenseNet121.add(base_model)\n",
    "DenseNet121.add(Flatten())\n",
    "DenseNet121.add(Dense(128, activation='relu'))\n",
    "DenseNet121.add(Dense(3, activation='softmax'))\n",
    "\n",
    "DenseNet121.compile(\n",
    "    optimizer=\"adam\",\n",
    "    loss=\"sparse_categorical_crossentropy\",\n",
    "    metrics=[\"sparse_categorical_accuracy\"],\n",
    ")\n",
    "\n",
    "DN_history = DenseNet121.fit(train, epochs = 20, validation_data = val, callbacks = [tensorboard_callback])"
   ]
  },
  {
   "cell_type": "code",
   "execution_count": 12,
   "id": "4d78a523-d79f-422d-94ce-dc58b8d0b2a0",
   "metadata": {},
   "outputs": [
    {
     "name": "stdout",
     "output_type": "stream",
     "text": [
      "3/3 [==============================] - 2s 673ms/step - loss: 0.1061 - sparse_categorical_accuracy: 0.9479\n"
     ]
    },
    {
     "data": {
      "text/plain": [
       "[0.10606133937835693, 0.9479166865348816]"
      ]
     },
     "execution_count": 12,
     "metadata": {},
     "output_type": "execute_result"
    }
   ],
   "source": [
    "DenseNet121.evaluate(test)"
   ]
  },
  {
   "cell_type": "code",
   "execution_count": null,
   "id": "fce814dc-3f5b-47c2-85bc-2be48dd5b4bb",
   "metadata": {},
   "outputs": [],
   "source": [
    "labels = []\n",
    "print(labels)\n",
    "y_predictions = []\n",
    "for batch in test.as_numpy_iterator():\n",
    "    X,y = batch\n",
    "    print(y)\n",
    "    labels.append(y)\n",
    "    y_pred = tf.argmax(DenseNet121.predict(X), axis=1)\n",
    "    print(y_pred)\n",
    "    print(labels)\n",
    "\n",
    "y_true = []\n",
    "for label in labels:\n",
    "    for i in label:\n",
    "        y_true.append(i)"
   ]
  },
  {
   "cell_type": "code",
   "execution_count": 13,
   "id": "821cb537-714c-4f66-abe8-f3d666112e3e",
   "metadata": {},
   "outputs": [
    {
     "name": "stdout",
     "output_type": "stream",
     "text": [
      "Epoch 1/20\n",
      "24/24 [==============================] - 25s 999ms/step - loss: 206.4208 - sparse_categorical_accuracy: 0.4583 - val_loss: 43.8787 - val_sparse_categorical_accuracy: 0.7054\n",
      "Epoch 2/20\n",
      "24/24 [==============================] - 24s 997ms/step - loss: 19.3776 - sparse_categorical_accuracy: 0.7344 - val_loss: 4.7878 - val_sparse_categorical_accuracy: 0.8393\n",
      "Epoch 3/20\n",
      "24/24 [==============================] - 24s 997ms/step - loss: 2.9486 - sparse_categorical_accuracy: 0.8711 - val_loss: 0.6091 - val_sparse_categorical_accuracy: 0.9420\n",
      "Epoch 4/20\n",
      "24/24 [==============================] - 24s 1s/step - loss: 0.3946 - sparse_categorical_accuracy: 0.9544 - val_loss: 0.4320 - val_sparse_categorical_accuracy: 0.9554\n",
      "Epoch 5/20\n",
      "24/24 [==============================] - 26s 1s/step - loss: 1.0325 - sparse_categorical_accuracy: 0.9336 - val_loss: 0.0278 - val_sparse_categorical_accuracy: 0.9911\n",
      "Epoch 6/20\n",
      "24/24 [==============================] - 26s 1s/step - loss: 6.0056 - sparse_categorical_accuracy: 0.8503 - val_loss: 2.4342 - val_sparse_categorical_accuracy: 0.8795\n",
      "Epoch 7/20\n",
      "24/24 [==============================] - 26s 1s/step - loss: 0.8344 - sparse_categorical_accuracy: 0.9440 - val_loss: 1.2893 - val_sparse_categorical_accuracy: 0.8705\n",
      "Epoch 8/20\n",
      "24/24 [==============================] - 26s 1s/step - loss: 0.2184 - sparse_categorical_accuracy: 0.9779 - val_loss: 4.7603e-06 - val_sparse_categorical_accuracy: 1.0000\n",
      "Epoch 9/20\n",
      "24/24 [==============================] - 26s 1s/step - loss: 0.5115 - sparse_categorical_accuracy: 0.9557 - val_loss: 0.0311 - val_sparse_categorical_accuracy: 0.9955\n",
      "Epoch 10/20\n",
      "24/24 [==============================] - 26s 1s/step - loss: 0.2650 - sparse_categorical_accuracy: 0.9779 - val_loss: 0.0843 - val_sparse_categorical_accuracy: 0.9911\n",
      "Epoch 11/20\n",
      "24/24 [==============================] - 26s 1s/step - loss: 0.2782 - sparse_categorical_accuracy: 0.9701 - val_loss: 0.5897 - val_sparse_categorical_accuracy: 0.9688\n",
      "Epoch 12/20\n",
      "24/24 [==============================] - 26s 1s/step - loss: 0.1268 - sparse_categorical_accuracy: 0.9922 - val_loss: 9.3018e-05 - val_sparse_categorical_accuracy: 1.0000\n",
      "Epoch 13/20\n",
      "24/24 [==============================] - 26s 1s/step - loss: 0.2429 - sparse_categorical_accuracy: 0.9857 - val_loss: 0.4755 - val_sparse_categorical_accuracy: 0.9643\n",
      "Epoch 14/20\n",
      "24/24 [==============================] - 26s 1s/step - loss: 0.2765 - sparse_categorical_accuracy: 0.9792 - val_loss: 0.0565 - val_sparse_categorical_accuracy: 0.9911\n",
      "Epoch 15/20\n",
      "24/24 [==============================] - 26s 1s/step - loss: 0.2684 - sparse_categorical_accuracy: 0.9766 - val_loss: 0.2480 - val_sparse_categorical_accuracy: 0.9821\n",
      "Epoch 16/20\n",
      "24/24 [==============================] - 26s 1s/step - loss: 0.7945 - sparse_categorical_accuracy: 0.9635 - val_loss: 0.0627 - val_sparse_categorical_accuracy: 0.9955\n",
      "Epoch 17/20\n",
      "24/24 [==============================] - 26s 1s/step - loss: 0.1710 - sparse_categorical_accuracy: 0.9844 - val_loss: 0.0437 - val_sparse_categorical_accuracy: 0.9911\n",
      "Epoch 18/20\n",
      "24/24 [==============================] - 26s 1s/step - loss: 0.0770 - sparse_categorical_accuracy: 0.9922 - val_loss: 0.2697 - val_sparse_categorical_accuracy: 0.9911\n",
      "Epoch 19/20\n",
      "24/24 [==============================] - 26s 1s/step - loss: 4.0952 - sparse_categorical_accuracy: 0.9284 - val_loss: 12.1477 - val_sparse_categorical_accuracy: 0.6830\n",
      "Epoch 20/20\n",
      "24/24 [==============================] - 26s 1s/step - loss: 27.4318 - sparse_categorical_accuracy: 0.7539 - val_loss: 3.9143 - val_sparse_categorical_accuracy: 0.8616\n"
     ]
    }
   ],
   "source": [
    "base_model = ResNet50(weights=None, include_top=False, input_shape=input_shape)\n",
    "\n",
    "for layer in base_model.layers:\n",
    "    layer.trainable = False\n",
    "\n",
    "ResNet50 = Sequential()\n",
    "ResNet50.add(base_model)\n",
    "ResNet50.add(Flatten())\n",
    "ResNet50.add(Dense(128, activation='relu'))\n",
    "ResNet50.add(Dense(3, activation='softmax'))\n",
    "\n",
    "ResNet50.compile(\n",
    "    optimizer=\"adam\",\n",
    "    loss=\"sparse_categorical_crossentropy\",\n",
    "    metrics=[\"sparse_categorical_accuracy\"],\n",
    ")\n",
    "\n",
    "RN_history = ResNet50.fit(train, epochs = 20, validation_data = val, callbacks = [tensorboard_callback])"
   ]
  },
  {
   "cell_type": "code",
   "execution_count": 19,
   "id": "16494df1-c7d7-4aa4-8751-aab005834bed",
   "metadata": {},
   "outputs": [
    {
     "name": "stdout",
     "output_type": "stream",
     "text": [
      "3/3 [==============================] - 2s 738ms/step - loss: 2.3835 - sparse_categorical_accuracy: 0.8958\n"
     ]
    },
    {
     "data": {
      "text/plain": [
       "[2.3834946155548096, 0.8958333134651184]"
      ]
     },
     "execution_count": 19,
     "metadata": {},
     "output_type": "execute_result"
    }
   ],
   "source": [
    "ResNet50.evaluate(test)"
   ]
  },
  {
   "cell_type": "code",
   "execution_count": 24,
   "id": "fa150f82-9a56-43b8-a994-bd22ff10beb4",
   "metadata": {},
   "outputs": [
    {
     "ename": "ValueError",
     "evalue": "The first argument to `Layer.call` must always be passed.",
     "output_type": "error",
     "traceback": [
      "\u001b[0;31m---------------------------------------------------------------------------\u001b[0m",
      "\u001b[0;31mValueError\u001b[0m                                Traceback (most recent call last)",
      "Cell \u001b[0;32mIn[24], line 1\u001b[0m\n\u001b[0;32m----> 1\u001b[0m base_model \u001b[38;5;241m=\u001b[39m \u001b[43mVGG16\u001b[49m\u001b[43m(\u001b[49m\u001b[43mweights\u001b[49m\u001b[38;5;241;43m=\u001b[39;49m\u001b[38;5;28;43;01mNone\u001b[39;49;00m\u001b[43m,\u001b[49m\u001b[43m \u001b[49m\u001b[43minclude_top\u001b[49m\u001b[38;5;241;43m=\u001b[39;49m\u001b[38;5;28;43;01mFalse\u001b[39;49;00m\u001b[43m,\u001b[49m\u001b[43m \u001b[49m\u001b[43minput_shape\u001b[49m\u001b[38;5;241;43m=\u001b[39;49m\u001b[43minput_shape\u001b[49m\u001b[43m)\u001b[49m\n\u001b[1;32m      5\u001b[0m VGG16 \u001b[38;5;241m=\u001b[39m Sequential()\n\u001b[1;32m      6\u001b[0m VGG16\u001b[38;5;241m.\u001b[39madd(base_model)\n",
      "File \u001b[0;32m~/.local/lib/python3.10/site-packages/keras/utils/traceback_utils.py:70\u001b[0m, in \u001b[0;36mfilter_traceback.<locals>.error_handler\u001b[0;34m(*args, **kwargs)\u001b[0m\n\u001b[1;32m     67\u001b[0m     filtered_tb \u001b[38;5;241m=\u001b[39m _process_traceback_frames(e\u001b[38;5;241m.\u001b[39m__traceback__)\n\u001b[1;32m     68\u001b[0m     \u001b[38;5;66;03m# To get the full stack trace, call:\u001b[39;00m\n\u001b[1;32m     69\u001b[0m     \u001b[38;5;66;03m# `tf.debugging.disable_traceback_filtering()`\u001b[39;00m\n\u001b[0;32m---> 70\u001b[0m     \u001b[38;5;28;01mraise\u001b[39;00m e\u001b[38;5;241m.\u001b[39mwith_traceback(filtered_tb) \u001b[38;5;28;01mfrom\u001b[39;00m \u001b[38;5;28;01mNone\u001b[39;00m\n\u001b[1;32m     71\u001b[0m \u001b[38;5;28;01mfinally\u001b[39;00m:\n\u001b[1;32m     72\u001b[0m     \u001b[38;5;28;01mdel\u001b[39;00m filtered_tb\n",
      "File \u001b[0;32m~/.local/lib/python3.10/site-packages/keras/utils/layer_utils.py:809\u001b[0m, in \u001b[0;36mCallFunctionSpec.split_out_first_arg\u001b[0;34m(self, args, kwargs)\u001b[0m\n\u001b[1;32m    807\u001b[0m     inputs \u001b[38;5;241m=\u001b[39m kwargs\u001b[38;5;241m.\u001b[39mpop(\u001b[38;5;28mself\u001b[39m\u001b[38;5;241m.\u001b[39m_arg_names[\u001b[38;5;241m0\u001b[39m])\n\u001b[1;32m    808\u001b[0m \u001b[38;5;28;01melse\u001b[39;00m:\n\u001b[0;32m--> 809\u001b[0m     \u001b[38;5;28;01mraise\u001b[39;00m \u001b[38;5;167;01mValueError\u001b[39;00m(\n\u001b[1;32m    810\u001b[0m         \u001b[38;5;124m\"\u001b[39m\u001b[38;5;124mThe first argument to `Layer.call` must always be passed.\u001b[39m\u001b[38;5;124m\"\u001b[39m\n\u001b[1;32m    811\u001b[0m     )\n\u001b[1;32m    812\u001b[0m \u001b[38;5;28;01mreturn\u001b[39;00m inputs, args, kwargs\n",
      "\u001b[0;31mValueError\u001b[0m: The first argument to `Layer.call` must always be passed."
     ]
    }
   ],
   "source": [
    "base_model = VGG16(weights=None, include_top=False, input_shape=input_shape)\n",
    "\n",
    "for layer in base_model.layers:\n",
    "    layer.trainable = False\n",
    "    \n",
    "VGG16 = Sequential()\n",
    "VGG16.add(base_model)\n",
    "VGG16.add(Flatten())\n",
    "VGG16.add(Dense(128, activation='relu'))\n",
    "VGG16.add(Dense(3, activation='softmax'))\n",
    "\n",
    "VGG16.compile(\n",
    "    optimizer=\"adam\",\n",
    "    loss=\"sparse_categorical_crossentropy\",\n",
    "    metrics=[\"sparse_categorical_accuracy\"]\n",
    ")\n",
    "\n",
    "VGG_history = VGG16.fit(train, epochs = 20, validation_data = val, callbacks = [tensorboard_callback])"
   ]
  },
  {
   "cell_type": "code",
   "execution_count": 27,
   "id": "71941514-3656-4b10-9776-e613430a4f74",
   "metadata": {},
   "outputs": [
    {
     "name": "stdout",
     "output_type": "stream",
     "text": [
      "Epoch 1/20\n",
      "24/24 [==============================] - 27s 1s/step - loss: 0.8341 - sparse_categorical_accuracy: 0.6549 - val_loss: 0.6325 - val_sparse_categorical_accuracy: 0.7634\n",
      "Epoch 2/20\n",
      "24/24 [==============================] - 26s 1s/step - loss: 0.5899 - sparse_categorical_accuracy: 0.7812 - val_loss: 0.5368 - val_sparse_categorical_accuracy: 0.8259\n",
      "Epoch 3/20\n",
      "24/24 [==============================] - 26s 1s/step - loss: 0.4565 - sparse_categorical_accuracy: 0.8464 - val_loss: 0.4012 - val_sparse_categorical_accuracy: 0.8571\n",
      "Epoch 4/20\n",
      "24/24 [==============================] - 26s 1s/step - loss: 0.3927 - sparse_categorical_accuracy: 0.8724 - val_loss: 0.3804 - val_sparse_categorical_accuracy: 0.9152\n",
      "Epoch 5/20\n",
      "24/24 [==============================] - 28s 1s/step - loss: 0.3392 - sparse_categorical_accuracy: 0.8984 - val_loss: 0.2089 - val_sparse_categorical_accuracy: 0.9643\n",
      "Epoch 6/20\n",
      "24/24 [==============================] - 27s 1s/step - loss: 0.2701 - sparse_categorical_accuracy: 0.9258 - val_loss: 0.3050 - val_sparse_categorical_accuracy: 0.9018\n",
      "Epoch 7/20\n",
      "24/24 [==============================] - 28s 1s/step - loss: 0.2493 - sparse_categorical_accuracy: 0.9258 - val_loss: 0.2019 - val_sparse_categorical_accuracy: 0.9732\n",
      "Epoch 8/20\n",
      "24/24 [==============================] - 27s 1s/step - loss: 0.1979 - sparse_categorical_accuracy: 0.9505 - val_loss: 0.1571 - val_sparse_categorical_accuracy: 0.9777\n",
      "Epoch 9/20\n",
      "24/24 [==============================] - 28s 1s/step - loss: 0.1726 - sparse_categorical_accuracy: 0.9596 - val_loss: 0.1366 - val_sparse_categorical_accuracy: 0.9688\n",
      "Epoch 10/20\n",
      "24/24 [==============================] - 28s 1s/step - loss: 0.1383 - sparse_categorical_accuracy: 0.9701 - val_loss: 0.1386 - val_sparse_categorical_accuracy: 0.9777\n",
      "Epoch 11/20\n",
      "24/24 [==============================] - 28s 1s/step - loss: 0.1243 - sparse_categorical_accuracy: 0.9766 - val_loss: 0.0842 - val_sparse_categorical_accuracy: 0.9777\n",
      "Epoch 12/20\n",
      "24/24 [==============================] - 29s 1s/step - loss: 0.1143 - sparse_categorical_accuracy: 0.9714 - val_loss: 0.0974 - val_sparse_categorical_accuracy: 0.9866\n",
      "Epoch 13/20\n",
      "24/24 [==============================] - 28s 1s/step - loss: 0.0948 - sparse_categorical_accuracy: 0.9844 - val_loss: 0.0506 - val_sparse_categorical_accuracy: 1.0000\n",
      "Epoch 14/20\n",
      "24/24 [==============================] - 29s 1s/step - loss: 0.0726 - sparse_categorical_accuracy: 0.9896 - val_loss: 0.0608 - val_sparse_categorical_accuracy: 0.9911\n",
      "Epoch 15/20\n",
      "24/24 [==============================] - 28s 1s/step - loss: 0.0653 - sparse_categorical_accuracy: 0.9922 - val_loss: 0.0491 - val_sparse_categorical_accuracy: 1.0000\n",
      "Epoch 16/20\n",
      "24/24 [==============================] - 29s 1s/step - loss: 0.0534 - sparse_categorical_accuracy: 0.9935 - val_loss: 0.0444 - val_sparse_categorical_accuracy: 1.0000\n",
      "Epoch 17/20\n",
      "24/24 [==============================] - 28s 1s/step - loss: 0.0500 - sparse_categorical_accuracy: 0.9961 - val_loss: 0.0422 - val_sparse_categorical_accuracy: 1.0000\n",
      "Epoch 18/20\n",
      "24/24 [==============================] - 28s 1s/step - loss: 0.0442 - sparse_categorical_accuracy: 0.9961 - val_loss: 0.0297 - val_sparse_categorical_accuracy: 1.0000\n",
      "Epoch 19/20\n",
      "24/24 [==============================] - 28s 1s/step - loss: 0.0361 - sparse_categorical_accuracy: 0.9974 - val_loss: 0.0433 - val_sparse_categorical_accuracy: 1.0000\n",
      "Epoch 20/20\n",
      "24/24 [==============================] - 28s 1s/step - loss: 0.0338 - sparse_categorical_accuracy: 0.9948 - val_loss: 0.0205 - val_sparse_categorical_accuracy: 1.0000\n"
     ]
    }
   ],
   "source": [
    "base_model = Xception(weights=None, include_top=False, input_shape=input_shape)\n",
    "\n",
    "for layer in base_model.layers:\n",
    "    layer.trainable = False\n",
    "    \n",
    "Xception = Sequential()\n",
    "Xception.add(base_model)\n",
    "Xception.add(Flatten())\n",
    "Xception.add(Dense(128, activation='relu'))\n",
    "Xception.add(Dense(3, activation='softmax'))\n",
    "\n",
    "Xception.compile(\n",
    "    optimizer=\"adam\",\n",
    "    loss=\"sparse_categorical_crossentropy\",\n",
    "    metrics=[\"sparse_categorical_accuracy\"]\n",
    ")\n",
    "\n",
    "Xception_history = Xception.fit(train, epochs = 20, validation_data = val, callbacks = [tensorboard_callback])"
   ]
  },
  {
   "cell_type": "code",
   "execution_count": 28,
   "id": "9899b7e8-5195-4720-9621-bf80725f45b1",
   "metadata": {},
   "outputs": [
    {
     "name": "stdout",
     "output_type": "stream",
     "text": [
      "3/3 [==============================] - 2s 789ms/step - loss: 0.0192 - sparse_categorical_accuracy: 1.0000\n"
     ]
    },
    {
     "data": {
      "text/plain": [
       "[0.019165297970175743, 1.0]"
      ]
     },
     "execution_count": 28,
     "metadata": {},
     "output_type": "execute_result"
    }
   ],
   "source": [
    "Xception.evaluate(test)"
   ]
  },
  {
   "cell_type": "code",
   "execution_count": null,
   "id": "27962022-e0f0-43dd-892c-013c654e5ff8",
   "metadata": {},
   "outputs": [],
   "source": [
    "model = Sequential()\n",
    "model.add(layers.experimental.preprocessing.Resizing(224, 224, interpolation=\"bilinear\", input_shape= input_shape))\n",
    "model.add(layers.Conv2D(96, 11, strides=4, padding='same'))\n",
    "model.add(layers.Lambda(tf.nn.local_response_normalization))\n",
    "model.add(layers.Activation('relu'))\n",
    "model.add(layers.MaxPooling2D(3, strides=2))\n",
    "model.add(layers.Conv2D(256, 5, strides=4, padding='same'))\n",
    "model.add(layers.Lambda(tf.nn.local_response_normalization))\n",
    "model.add(layers.Activation('relu'))\n",
    "model.add(layers.MaxPooling2D(3, strides=2))\n",
    "model.add(layers.Conv2D(384, 3, strides=4, padding='same'))\n",
    "model.add(layers.Activation('relu'))\n",
    "model.add(layers.Conv2D(384, 3, strides=4, padding='same'))\n",
    "model.add(layers.Activation('relu'))\n",
    "model.add(layers.Conv2D(256, 3, strides=4, padding='same'))\n",
    "model.add(layers.Activation('relu'))\n",
    "model.add(layers.Flatten())\n",
    "model.add(layers.Dense(4096, activation='relu'))\n",
    "model.add(layers.Dropout(0.5))\n",
    "model.add(layers.Dense(4096, activation='relu'))\n",
    "model.add(layers.Dropout(0.5))\n",
    "model.add(layers.Dense(10, activation='softmax'))\n"
   ]
  },
  {
   "cell_type": "code",
   "execution_count": 33,
   "id": "860a29d5-c75b-4714-8882-e59fcf930292",
   "metadata": {},
   "outputs": [
    {
     "name": "stdout",
     "output_type": "stream",
     "text": [
      "Downloading data from https://storage.googleapis.com/tensorflow/keras-applications/densenet/densenet121_weights_tf_dim_ordering_tf_kernels_notop.h5\n",
      "29084464/29084464 [==============================] - 9s 0us/step\n",
      "Epoch 1/20\n",
      "24/24 [==============================] - 26s 969ms/step - loss: 93.3497 - sparse_categorical_accuracy: 0.5625 - val_loss: 11.8732 - val_sparse_categorical_accuracy: 0.7634\n",
      "Epoch 2/20\n",
      "24/24 [==============================] - 23s 954ms/step - loss: 6.4556 - sparse_categorical_accuracy: 0.8034 - val_loss: 2.4827 - val_sparse_categorical_accuracy: 0.7946\n",
      "Epoch 3/20\n",
      "24/24 [==============================] - 23s 968ms/step - loss: 5.3841 - sparse_categorical_accuracy: 0.7982 - val_loss: 1.8971 - val_sparse_categorical_accuracy: 0.8482\n",
      "Epoch 4/20\n",
      "24/24 [==============================] - 22s 917ms/step - loss: 2.6402 - sparse_categorical_accuracy: 0.8451 - val_loss: 1.2611 - val_sparse_categorical_accuracy: 0.9107\n",
      "Epoch 5/20\n",
      "24/24 [==============================] - 22s 911ms/step - loss: 1.2073 - sparse_categorical_accuracy: 0.9115 - val_loss: 0.6897 - val_sparse_categorical_accuracy: 0.9241\n",
      "Epoch 6/20\n",
      "24/24 [==============================] - 23s 979ms/step - loss: 0.4824 - sparse_categorical_accuracy: 0.9544 - val_loss: 0.7687 - val_sparse_categorical_accuracy: 0.9107\n",
      "Epoch 7/20\n",
      "24/24 [==============================] - 24s 996ms/step - loss: 0.2551 - sparse_categorical_accuracy: 0.9714 - val_loss: 0.0814 - val_sparse_categorical_accuracy: 0.9911\n",
      "Epoch 8/20\n",
      "24/24 [==============================] - 24s 1s/step - loss: 1.3645 - sparse_categorical_accuracy: 0.9128 - val_loss: 3.8790 - val_sparse_categorical_accuracy: 0.7991\n",
      "Epoch 9/20\n",
      "24/24 [==============================] - 24s 1s/step - loss: 2.1755 - sparse_categorical_accuracy: 0.8763 - val_loss: 3.8500 - val_sparse_categorical_accuracy: 0.7902\n",
      "Epoch 10/20\n",
      "24/24 [==============================] - 25s 1s/step - loss: 2.2670 - sparse_categorical_accuracy: 0.9023 - val_loss: 0.4337 - val_sparse_categorical_accuracy: 0.9688\n",
      "Epoch 11/20\n",
      "24/24 [==============================] - 25s 1s/step - loss: 0.2000 - sparse_categorical_accuracy: 0.9779 - val_loss: 0.2292 - val_sparse_categorical_accuracy: 0.9688\n",
      "Epoch 12/20\n",
      "24/24 [==============================] - 24s 1s/step - loss: 0.0799 - sparse_categorical_accuracy: 0.9857 - val_loss: 0.0820 - val_sparse_categorical_accuracy: 0.9866\n",
      "Epoch 13/20\n",
      "24/24 [==============================] - 24s 1s/step - loss: 0.0518 - sparse_categorical_accuracy: 0.9948 - val_loss: 7.5660e-05 - val_sparse_categorical_accuracy: 1.0000\n",
      "Epoch 14/20\n",
      "24/24 [==============================] - 24s 1s/step - loss: 0.0860 - sparse_categorical_accuracy: 0.9922 - val_loss: 8.5634e-04 - val_sparse_categorical_accuracy: 1.0000\n",
      "Epoch 15/20\n",
      "24/24 [==============================] - 26s 1s/step - loss: 0.0156 - sparse_categorical_accuracy: 0.9961 - val_loss: 0.0102 - val_sparse_categorical_accuracy: 0.9911\n",
      "Epoch 16/20\n",
      "24/24 [==============================] - 24s 996ms/step - loss: 0.0585 - sparse_categorical_accuracy: 0.9922 - val_loss: 0.0318 - val_sparse_categorical_accuracy: 0.9955\n",
      "Epoch 17/20\n",
      "24/24 [==============================] - 24s 1s/step - loss: 0.1441 - sparse_categorical_accuracy: 0.9857 - val_loss: 0.0911 - val_sparse_categorical_accuracy: 0.9911\n",
      "Epoch 18/20\n",
      "24/24 [==============================] - 24s 998ms/step - loss: 0.0724 - sparse_categorical_accuracy: 0.9909 - val_loss: 0.0122 - val_sparse_categorical_accuracy: 0.9955\n",
      "Epoch 19/20\n",
      "24/24 [==============================] - 26s 1s/step - loss: 0.0251 - sparse_categorical_accuracy: 0.9922 - val_loss: 0.0136 - val_sparse_categorical_accuracy: 0.9911\n",
      "Epoch 20/20\n",
      "24/24 [==============================] - 26s 1s/step - loss: 0.1289 - sparse_categorical_accuracy: 0.9870 - val_loss: 1.9742e-04 - val_sparse_categorical_accuracy: 1.0000\n"
     ]
    }
   ],
   "source": [
    "base_model = DenseNet121(weights=\"imagenet\", include_top=False, input_shape=input_shape)\n",
    "\n",
    "for layer in base_model.layers:\n",
    "    layer.trainable = False\n",
    "    \n",
    "DenseNet121 = Sequential()\n",
    "DenseNet121.add(base_model)\n",
    "DenseNet121.add(Flatten())\n",
    "DenseNet121.add(Dense(128, activation='relu'))\n",
    "DenseNet121.add(Dense(3, activation='softmax'))\n",
    "\n",
    "DenseNet121.compile(\n",
    "    optimizer=\"adam\",\n",
    "    loss=\"sparse_categorical_crossentropy\",\n",
    "    metrics=[\"sparse_categorical_accuracy\"],\n",
    ")\n",
    "\n",
    "DN_history = DenseNet121.fit(train, epochs = 20, validation_data = val, callbacks = [tensorboard_callback])"
   ]
  },
  {
   "cell_type": "code",
   "execution_count": 34,
   "id": "f7fd8c38-41d2-46f2-9112-9f23045cf474",
   "metadata": {},
   "outputs": [],
   "source": [
    "data_dir = \"The IQ-OTHNCCD lung cancer dataset-scaled\""
   ]
  },
  {
   "cell_type": "code",
   "execution_count": 35,
   "id": "c12492d2-c2fa-4b6a-818d-0105dabe2ad0",
   "metadata": {},
   "outputs": [
    {
     "name": "stdout",
     "output_type": "stream",
     "text": [
      "Found 1097 files belonging to 3 classes.\n"
     ]
    }
   ],
   "source": [
    "dataset = tf.keras.utils.image_dataset_from_directory(data_dir,image_size=(224,224))"
   ]
  },
  {
   "cell_type": "code",
   "execution_count": 36,
   "id": "d39723b7-4592-464b-910b-7a1e8469abff",
   "metadata": {},
   "outputs": [],
   "source": [
    "train = dataset.take(train_size)\n",
    "val = dataset.take(val_size)\n",
    "test = dataset.take(test_size)"
   ]
  },
  {
   "cell_type": "code",
   "execution_count": 43,
   "id": "d069147c-b451-41c6-a4be-b21a314e6027",
   "metadata": {},
   "outputs": [
    {
     "name": "stdout",
     "output_type": "stream",
     "text": [
      "Epoch 1/20\n",
      "24/24 [==============================] - 66s 2s/step - loss: 4.1636 - sparse_categorical_accuracy: 0.7227 - val_loss: 553.3798 - val_sparse_categorical_accuracy: 0.4821\n",
      "Epoch 2/20\n",
      "24/24 [==============================] - 56s 2s/step - loss: 0.5202 - sparse_categorical_accuracy: 0.8190 - val_loss: 10540.7334 - val_sparse_categorical_accuracy: 0.4911\n",
      "Epoch 3/20\n",
      "24/24 [==============================] - 57s 2s/step - loss: 0.3668 - sparse_categorical_accuracy: 0.8529 - val_loss: 18.4131 - val_sparse_categorical_accuracy: 0.5491\n",
      "Epoch 4/20\n",
      "24/24 [==============================] - 57s 2s/step - loss: 0.2391 - sparse_categorical_accuracy: 0.8867 - val_loss: 12.7960 - val_sparse_categorical_accuracy: 0.5089\n",
      "Epoch 5/20\n",
      "24/24 [==============================] - 57s 2s/step - loss: 0.2022 - sparse_categorical_accuracy: 0.9128 - val_loss: 2.7069 - val_sparse_categorical_accuracy: 0.4955\n",
      "Epoch 6/20\n",
      "24/24 [==============================] - 57s 2s/step - loss: 0.1056 - sparse_categorical_accuracy: 0.9596 - val_loss: 0.3577 - val_sparse_categorical_accuracy: 0.8795\n",
      "Epoch 7/20\n",
      "24/24 [==============================] - 57s 2s/step - loss: 0.0436 - sparse_categorical_accuracy: 0.9896 - val_loss: 0.4154 - val_sparse_categorical_accuracy: 0.8571\n",
      "Epoch 8/20\n",
      "24/24 [==============================] - 57s 2s/step - loss: 0.0604 - sparse_categorical_accuracy: 0.9831 - val_loss: 15.4983 - val_sparse_categorical_accuracy: 0.5045\n",
      "Epoch 9/20\n",
      "24/24 [==============================] - 57s 2s/step - loss: 0.1491 - sparse_categorical_accuracy: 0.9453 - val_loss: 1.9361 - val_sparse_categorical_accuracy: 0.6295\n",
      "Epoch 10/20\n",
      "24/24 [==============================] - 57s 2s/step - loss: 0.0771 - sparse_categorical_accuracy: 0.9766 - val_loss: 0.6660 - val_sparse_categorical_accuracy: 0.7768\n",
      "Epoch 11/20\n",
      "24/24 [==============================] - 57s 2s/step - loss: 0.0412 - sparse_categorical_accuracy: 0.9896 - val_loss: 1.1052 - val_sparse_categorical_accuracy: 0.8482\n",
      "Epoch 12/20\n",
      "24/24 [==============================] - 57s 2s/step - loss: 0.0381 - sparse_categorical_accuracy: 0.9857 - val_loss: 0.1318 - val_sparse_categorical_accuracy: 0.9464\n",
      "Epoch 13/20\n",
      "24/24 [==============================] - 57s 2s/step - loss: 0.0141 - sparse_categorical_accuracy: 0.9974 - val_loss: 3.3177 - val_sparse_categorical_accuracy: 0.6250\n",
      "Epoch 14/20\n",
      "24/24 [==============================] - 57s 2s/step - loss: 0.1576 - sparse_categorical_accuracy: 0.9544 - val_loss: 2.9161 - val_sparse_categorical_accuracy: 0.4643\n",
      "Epoch 15/20\n",
      "24/24 [==============================] - 57s 2s/step - loss: 0.1567 - sparse_categorical_accuracy: 0.9492 - val_loss: 9.4909 - val_sparse_categorical_accuracy: 0.3393\n",
      "Epoch 16/20\n",
      "24/24 [==============================] - 57s 2s/step - loss: 0.0834 - sparse_categorical_accuracy: 0.9740 - val_loss: 15.0911 - val_sparse_categorical_accuracy: 0.5312\n",
      "Epoch 17/20\n",
      "24/24 [==============================] - 57s 2s/step - loss: 0.1300 - sparse_categorical_accuracy: 0.9518 - val_loss: 0.2423 - val_sparse_categorical_accuracy: 0.9420\n",
      "Epoch 18/20\n",
      "24/24 [==============================] - 57s 2s/step - loss: 0.0560 - sparse_categorical_accuracy: 0.9805 - val_loss: 16.6587 - val_sparse_categorical_accuracy: 0.4196\n",
      "Epoch 19/20\n",
      "24/24 [==============================] - 57s 2s/step - loss: 0.0102 - sparse_categorical_accuracy: 0.9987 - val_loss: 3.3424 - val_sparse_categorical_accuracy: 0.6250\n",
      "Epoch 20/20\n",
      "24/24 [==============================] - 58s 2s/step - loss: 0.0027 - sparse_categorical_accuracy: 1.0000 - val_loss: 1.1569 - val_sparse_categorical_accuracy: 0.7589\n"
     ]
    }
   ],
   "source": [
    "base_model = DenseNet121(weights=\"imagenet\", include_top=False, input_shape=input_shape)\n",
    "\n",
    "DenseNet121 = Sequential()\n",
    "DenseNet121.add(base_model)\n",
    "DenseNet121.add(Flatten())\n",
    "DenseNet121.add(Dense(128, activation='relu'))\n",
    "DenseNet121.add(Dense(3, activation='softmax'))\n",
    "\n",
    "DenseNet121.compile(\n",
    "    optimizer=\"adam\",\n",
    "    loss=\"sparse_categorical_crossentropy\",\n",
    "    metrics=[\"sparse_categorical_accuracy\"],\n",
    ")\n",
    "\n",
    "DN_history = DenseNet121.fit(train, epochs = 20, validation_data = val, callbacks = [tensorboard_callback])"
   ]
  },
  {
   "cell_type": "code",
   "execution_count": 45,
   "id": "acb266b2-3aae-432c-b9d5-df3dbf965912",
   "metadata": {},
   "outputs": [
    {
     "name": "stdout",
     "output_type": "stream",
     "text": [
      "3/3 [==============================] - 2s 682ms/step - loss: 1.0123 - sparse_categorical_accuracy: 0.8021\n"
     ]
    },
    {
     "data": {
      "text/plain": [
       "[1.0123449563980103, 0.8020833134651184]"
      ]
     },
     "execution_count": 45,
     "metadata": {},
     "output_type": "execute_result"
    }
   ],
   "source": [
    "DenseNet121.evaluate(test)"
   ]
  },
  {
   "cell_type": "code",
   "execution_count": 56,
   "id": "a5ac1071-87cd-4cef-a04d-765f2f3b5165",
   "metadata": {},
   "outputs": [
    {
     "name": "stdout",
     "output_type": "stream",
     "text": [
      "Epoch 1/20\n",
      "24/24 [==============================] - 65s 2s/step - loss: 6.2549 - sparse_categorical_accuracy: 0.5365 - val_loss: 31329.2070 - val_sparse_categorical_accuracy: 0.5134\n",
      "Epoch 2/20\n",
      "24/24 [==============================] - 55s 2s/step - loss: 0.6364 - sparse_categorical_accuracy: 0.7643 - val_loss: 4082.1548 - val_sparse_categorical_accuracy: 0.4955\n",
      "Epoch 3/20\n",
      "24/24 [==============================] - 58s 2s/step - loss: 0.5114 - sparse_categorical_accuracy: 0.8034 - val_loss: 372.9387 - val_sparse_categorical_accuracy: 0.5000\n",
      "Epoch 4/20\n",
      "24/24 [==============================] - 56s 2s/step - loss: 0.3136 - sparse_categorical_accuracy: 0.8906 - val_loss: 112.5973 - val_sparse_categorical_accuracy: 0.4598\n",
      "Epoch 5/20\n",
      "24/24 [==============================] - 56s 2s/step - loss: 0.2363 - sparse_categorical_accuracy: 0.9141 - val_loss: 17.4983 - val_sparse_categorical_accuracy: 0.5223\n",
      "Epoch 6/20\n",
      "24/24 [==============================] - 56s 2s/step - loss: 0.1900 - sparse_categorical_accuracy: 0.9167 - val_loss: 5.5855 - val_sparse_categorical_accuracy: 0.5179\n",
      "Epoch 7/20\n",
      "24/24 [==============================] - 56s 2s/step - loss: 0.1683 - sparse_categorical_accuracy: 0.9271 - val_loss: 4.6932 - val_sparse_categorical_accuracy: 0.3929\n",
      "Epoch 8/20\n",
      "24/24 [==============================] - 57s 2s/step - loss: 0.1621 - sparse_categorical_accuracy: 0.9375 - val_loss: 2.6209 - val_sparse_categorical_accuracy: 0.5223\n",
      "Epoch 9/20\n",
      "24/24 [==============================] - 58s 2s/step - loss: 0.0903 - sparse_categorical_accuracy: 0.9701 - val_loss: 2.2265 - val_sparse_categorical_accuracy: 0.4107\n",
      "Epoch 10/20\n",
      "24/24 [==============================] - 57s 2s/step - loss: 0.0685 - sparse_categorical_accuracy: 0.9753 - val_loss: 2.2627 - val_sparse_categorical_accuracy: 0.5491\n",
      "Epoch 11/20\n",
      "24/24 [==============================] - 57s 2s/step - loss: 0.0249 - sparse_categorical_accuracy: 0.9909 - val_loss: 0.3488 - val_sparse_categorical_accuracy: 0.8438\n",
      "Epoch 12/20\n",
      "24/24 [==============================] - 57s 2s/step - loss: 0.0277 - sparse_categorical_accuracy: 0.9948 - val_loss: 0.6784 - val_sparse_categorical_accuracy: 0.7634\n",
      "Epoch 13/20\n",
      "24/24 [==============================] - 57s 2s/step - loss: 0.0150 - sparse_categorical_accuracy: 0.9948 - val_loss: 0.0734 - val_sparse_categorical_accuracy: 0.9777\n",
      "Epoch 14/20\n",
      "24/24 [==============================] - 58s 2s/step - loss: 0.0109 - sparse_categorical_accuracy: 0.9961 - val_loss: 0.0076 - val_sparse_categorical_accuracy: 1.0000\n",
      "Epoch 15/20\n",
      "24/24 [==============================] - 57s 2s/step - loss: 0.0116 - sparse_categorical_accuracy: 0.9974 - val_loss: 0.0485 - val_sparse_categorical_accuracy: 0.9955\n",
      "Epoch 16/20\n",
      "24/24 [==============================] - 56s 2s/step - loss: 0.0061 - sparse_categorical_accuracy: 0.9974 - val_loss: 0.0118 - val_sparse_categorical_accuracy: 0.9955\n",
      "Epoch 17/20\n",
      "24/24 [==============================] - 56s 2s/step - loss: 0.0090 - sparse_categorical_accuracy: 0.9961 - val_loss: 0.2573 - val_sparse_categorical_accuracy: 0.8929\n",
      "Epoch 18/20\n",
      "24/24 [==============================] - 56s 2s/step - loss: 0.0380 - sparse_categorical_accuracy: 0.9909 - val_loss: 0.0177 - val_sparse_categorical_accuracy: 0.9911\n",
      "Epoch 19/20\n",
      "24/24 [==============================] - 56s 2s/step - loss: 0.0396 - sparse_categorical_accuracy: 0.9831 - val_loss: 0.6812 - val_sparse_categorical_accuracy: 0.8214\n",
      "Epoch 20/20\n",
      "24/24 [==============================] - 56s 2s/step - loss: 0.1610 - sparse_categorical_accuracy: 0.9401 - val_loss: 2.6421 - val_sparse_categorical_accuracy: 0.6830\n"
     ]
    }
   ],
   "source": [
    "base_model = DenseNet121(weights=None, include_top=False, input_shape=input_shape)\n",
    "\n",
    "DenseNet121 = Sequential()\n",
    "DenseNet121.add(base_model)\n",
    "DenseNet121.add(Flatten())\n",
    "DenseNet121.add(Dense(128, activation='relu'))\n",
    "DenseNet121.add(Dense(3, activation='softmax'))\n",
    "\n",
    "DenseNet121.compile(\n",
    "    optimizer=\"adam\",\n",
    "    loss=\"sparse_categorical_crossentropy\",\n",
    "    metrics=[\"sparse_categorical_accuracy\"],\n",
    ")\n",
    "\n",
    "DN_history = DenseNet121.fit(train, epochs = 20, validation_data = val, callbacks = [tensorboard_callback])"
   ]
  },
  {
   "cell_type": "code",
   "execution_count": 59,
   "id": "cc60a3fa-d432-46d6-b0e5-bc9f62af5124",
   "metadata": {},
   "outputs": [
    {
     "name": "stdout",
     "output_type": "stream",
     "text": [
      "3/3 [==============================] - 2s 682ms/step - loss: 2.8042 - sparse_categorical_accuracy: 0.6979\n"
     ]
    },
    {
     "data": {
      "text/plain": [
       "[2.8042452335357666, 0.6979166865348816]"
      ]
     },
     "execution_count": 59,
     "metadata": {},
     "output_type": "execute_result"
    }
   ],
   "source": [
    "DenseNet121.evaluate(test)"
   ]
  },
  {
   "cell_type": "code",
   "execution_count": 60,
   "id": "3802fe54-a893-4ee6-825c-d8756d7ac44c",
   "metadata": {},
   "outputs": [
    {
     "name": "stdout",
     "output_type": "stream",
     "text": [
      "Epoch 1/20\n",
      "24/24 [==============================] - 76s 3s/step - loss: 4.2354 - sparse_categorical_accuracy: 0.6823 - val_loss: 1.0987 - val_sparse_categorical_accuracy: 0.1295\n",
      "Epoch 2/20\n",
      "24/24 [==============================] - 70s 3s/step - loss: 0.1916 - sparse_categorical_accuracy: 0.9297 - val_loss: 1.0991 - val_sparse_categorical_accuracy: 0.1027\n",
      "Epoch 3/20\n",
      "24/24 [==============================] - 72s 3s/step - loss: 0.1311 - sparse_categorical_accuracy: 0.9479 - val_loss: 1.0991 - val_sparse_categorical_accuracy: 0.0938\n",
      "Epoch 4/20\n",
      "24/24 [==============================] - 74s 3s/step - loss: 0.0455 - sparse_categorical_accuracy: 0.9870 - val_loss: 1.0990 - val_sparse_categorical_accuracy: 0.1250\n",
      "Epoch 5/20\n",
      "24/24 [==============================] - 72s 3s/step - loss: 0.0297 - sparse_categorical_accuracy: 0.9883 - val_loss: 1.0990 - val_sparse_categorical_accuracy: 0.1339\n",
      "Epoch 6/20\n",
      "24/24 [==============================] - 72s 3s/step - loss: 0.0080 - sparse_categorical_accuracy: 0.9961 - val_loss: 1.0990 - val_sparse_categorical_accuracy: 0.1161\n",
      "Epoch 7/20\n",
      "24/24 [==============================] - 73s 3s/step - loss: 0.0077 - sparse_categorical_accuracy: 0.9987 - val_loss: 1.0989 - val_sparse_categorical_accuracy: 0.1429\n",
      "Epoch 8/20\n",
      "24/24 [==============================] - 74s 3s/step - loss: 0.0175 - sparse_categorical_accuracy: 0.9922 - val_loss: 1.0987 - val_sparse_categorical_accuracy: 0.1295\n",
      "Epoch 9/20\n",
      "24/24 [==============================] - 73s 3s/step - loss: 0.0140 - sparse_categorical_accuracy: 0.9948 - val_loss: 1.0983 - val_sparse_categorical_accuracy: 0.5045\n",
      "Epoch 10/20\n",
      "24/24 [==============================] - 72s 3s/step - loss: 0.1924 - sparse_categorical_accuracy: 0.9609 - val_loss: 1.0974 - val_sparse_categorical_accuracy: 0.4821\n",
      "Epoch 11/20\n",
      "24/24 [==============================] - 72s 3s/step - loss: 0.2905 - sparse_categorical_accuracy: 0.9232 - val_loss: 1.0879 - val_sparse_categorical_accuracy: 0.6250\n",
      "Epoch 12/20\n",
      "24/24 [==============================] - 73s 3s/step - loss: 0.1629 - sparse_categorical_accuracy: 0.9518 - val_loss: 1.0870 - val_sparse_categorical_accuracy: 0.5580\n",
      "Epoch 13/20\n",
      "24/24 [==============================] - 73s 3s/step - loss: 0.2202 - sparse_categorical_accuracy: 0.9388 - val_loss: 1.0598 - val_sparse_categorical_accuracy: 0.5446\n",
      "Epoch 14/20\n",
      "24/24 [==============================] - 74s 3s/step - loss: 0.1568 - sparse_categorical_accuracy: 0.9505 - val_loss: 1.0608 - val_sparse_categorical_accuracy: 0.5089\n",
      "Epoch 15/20\n",
      "24/24 [==============================] - 74s 3s/step - loss: 0.0363 - sparse_categorical_accuracy: 0.9857 - val_loss: 1.0172 - val_sparse_categorical_accuracy: 0.5089\n",
      "Epoch 16/20\n",
      "24/24 [==============================] - 73s 3s/step - loss: 0.0117 - sparse_categorical_accuracy: 0.9948 - val_loss: 1.0123 - val_sparse_categorical_accuracy: 0.4777\n",
      "Epoch 17/20\n",
      "24/24 [==============================] - 73s 3s/step - loss: 0.0289 - sparse_categorical_accuracy: 0.9896 - val_loss: 0.9740 - val_sparse_categorical_accuracy: 0.4777\n",
      "Epoch 18/20\n",
      "24/24 [==============================] - 73s 3s/step - loss: 0.0257 - sparse_categorical_accuracy: 0.9909 - val_loss: 0.9325 - val_sparse_categorical_accuracy: 0.4732\n",
      "Epoch 19/20\n",
      "24/24 [==============================] - 74s 3s/step - loss: 0.0197 - sparse_categorical_accuracy: 0.9961 - val_loss: 0.8375 - val_sparse_categorical_accuracy: 0.5491\n",
      "Epoch 20/20\n",
      "24/24 [==============================] - 75s 3s/step - loss: 0.0086 - sparse_categorical_accuracy: 0.9974 - val_loss: 0.7672 - val_sparse_categorical_accuracy: 0.6920\n"
     ]
    }
   ],
   "source": [
    "base_model = Xception(weights=None, include_top=False, input_shape=input_shape)\n",
    "\n",
    "Xception = Sequential()\n",
    "Xception.add(base_model)\n",
    "Xception.add(Flatten())\n",
    "Xception.add(Dense(128, activation='relu'))\n",
    "Xception.add(Dense(3, activation='softmax'))\n",
    "\n",
    "Xception.compile(\n",
    "    optimizer=\"adam\",\n",
    "    loss=\"sparse_categorical_crossentropy\",\n",
    "    metrics=[\"sparse_categorical_accuracy\"]\n",
    ")\n",
    "\n",
    "Xception_history = Xception.fit(train, epochs = 20, validation_data = val, callbacks = [tensorboard_callback])"
   ]
  },
  {
   "cell_type": "code",
   "execution_count": 61,
   "id": "3c4a8c3c-5c58-4900-ad7d-8ee284d123e6",
   "metadata": {},
   "outputs": [
    {
     "name": "stdout",
     "output_type": "stream",
     "text": [
      "3/3 [==============================] - 2s 765ms/step - loss: 0.7012 - sparse_categorical_accuracy: 0.7396\n"
     ]
    },
    {
     "data": {
      "text/plain": [
       "[0.701207160949707, 0.7395833134651184]"
      ]
     },
     "execution_count": 61,
     "metadata": {},
     "output_type": "execute_result"
    }
   ],
   "source": [
    "Xception.evaluate(test)"
   ]
  },
  {
   "cell_type": "code",
   "execution_count": 64,
   "id": "cc50185f-2722-47e6-a130-d48787306e06",
   "metadata": {},
   "outputs": [
    {
     "name": "stdout",
     "output_type": "stream",
     "text": [
      "Epoch 1/100\n",
      "24/24 [==============================] - 77s 2s/step - loss: 5.3016 - sparse_categorical_accuracy: 0.5312 - val_loss: 69408.0391 - val_sparse_categorical_accuracy: 0.3839\n",
      "Epoch 2/100\n",
      "24/24 [==============================] - 52s 2s/step - loss: 1.8935 - sparse_categorical_accuracy: 0.6146 - val_loss: 1648.4833 - val_sparse_categorical_accuracy: 0.4821\n",
      "Epoch 3/100\n",
      "24/24 [==============================] - 55s 2s/step - loss: 0.9423 - sparse_categorical_accuracy: 0.6940 - val_loss: 77.0103 - val_sparse_categorical_accuracy: 0.5446\n",
      "Epoch 4/100\n",
      "24/24 [==============================] - 56s 2s/step - loss: 1.0134 - sparse_categorical_accuracy: 0.7865 - val_loss: 1412.8182 - val_sparse_categorical_accuracy: 0.4107\n",
      "Epoch 5/100\n",
      "24/24 [==============================] - 56s 2s/step - loss: 1.0174 - sparse_categorical_accuracy: 0.7695 - val_loss: 273.8299 - val_sparse_categorical_accuracy: 0.3884\n",
      "Epoch 6/100\n",
      "24/24 [==============================] - 56s 2s/step - loss: 0.9432 - sparse_categorical_accuracy: 0.7969 - val_loss: 251.0864 - val_sparse_categorical_accuracy: 0.4196\n",
      "Epoch 7/100\n",
      "24/24 [==============================] - 56s 2s/step - loss: 0.4146 - sparse_categorical_accuracy: 0.8451 - val_loss: 20.3435 - val_sparse_categorical_accuracy: 0.4777\n",
      "Epoch 8/100\n",
      "24/24 [==============================] - 56s 2s/step - loss: 0.6905 - sparse_categorical_accuracy: 0.8346 - val_loss: 27.4229 - val_sparse_categorical_accuracy: 0.5179\n",
      "Epoch 9/100\n",
      "24/24 [==============================] - 56s 2s/step - loss: 0.8079 - sparse_categorical_accuracy: 0.8125 - val_loss: 53.0616 - val_sparse_categorical_accuracy: 0.4777\n",
      "Epoch 10/100\n",
      "24/24 [==============================] - 56s 2s/step - loss: 0.8895 - sparse_categorical_accuracy: 0.7995 - val_loss: 8.4115 - val_sparse_categorical_accuracy: 0.5134\n",
      "Epoch 11/100\n",
      "24/24 [==============================] - 56s 2s/step - loss: 0.5300 - sparse_categorical_accuracy: 0.8776 - val_loss: 4.0517 - val_sparse_categorical_accuracy: 0.3125\n",
      "Epoch 12/100\n",
      "24/24 [==============================] - 56s 2s/step - loss: 0.2002 - sparse_categorical_accuracy: 0.9310 - val_loss: 4.6281 - val_sparse_categorical_accuracy: 0.2902\n",
      "Epoch 13/100\n",
      "24/24 [==============================] - 56s 2s/step - loss: 0.3333 - sparse_categorical_accuracy: 0.9180 - val_loss: 2.1516 - val_sparse_categorical_accuracy: 0.4330\n",
      "Epoch 14/100\n",
      "24/24 [==============================] - 56s 2s/step - loss: 0.7041 - sparse_categorical_accuracy: 0.8776 - val_loss: 34.7547 - val_sparse_categorical_accuracy: 0.4062\n",
      "Epoch 15/100\n",
      "24/24 [==============================] - 56s 2s/step - loss: 0.4448 - sparse_categorical_accuracy: 0.8763 - val_loss: 2.9486 - val_sparse_categorical_accuracy: 0.7232\n",
      "Epoch 16/100\n",
      "24/24 [==============================] - 56s 2s/step - loss: 0.3094 - sparse_categorical_accuracy: 0.8945 - val_loss: 12.3475 - val_sparse_categorical_accuracy: 0.4911\n",
      "Epoch 17/100\n",
      "24/24 [==============================] - 56s 2s/step - loss: 0.1777 - sparse_categorical_accuracy: 0.9362 - val_loss: 3.4636 - val_sparse_categorical_accuracy: 0.6250\n",
      "Epoch 18/100\n",
      "24/24 [==============================] - 56s 2s/step - loss: 0.0957 - sparse_categorical_accuracy: 0.9727 - val_loss: 0.1890 - val_sparse_categorical_accuracy: 0.9286\n",
      "Epoch 19/100\n",
      "24/24 [==============================] - 56s 2s/step - loss: 0.0473 - sparse_categorical_accuracy: 0.9831 - val_loss: 0.1450 - val_sparse_categorical_accuracy: 0.9509\n",
      "Epoch 20/100\n",
      "24/24 [==============================] - 56s 2s/step - loss: 0.0196 - sparse_categorical_accuracy: 0.9961 - val_loss: 0.0731 - val_sparse_categorical_accuracy: 0.9821\n",
      "Epoch 21/100\n",
      "24/24 [==============================] - 56s 2s/step - loss: 0.0162 - sparse_categorical_accuracy: 0.9922 - val_loss: 0.0202 - val_sparse_categorical_accuracy: 0.9955\n",
      "Epoch 22/100\n",
      "24/24 [==============================] - 56s 2s/step - loss: 0.0150 - sparse_categorical_accuracy: 0.9961 - val_loss: 0.0367 - val_sparse_categorical_accuracy: 0.9821\n",
      "Epoch 23/100\n",
      "24/24 [==============================] - 56s 2s/step - loss: 0.0190 - sparse_categorical_accuracy: 0.9922 - val_loss: 0.0050 - val_sparse_categorical_accuracy: 1.0000\n",
      "Epoch 24/100\n",
      "24/24 [==============================] - 56s 2s/step - loss: 0.0336 - sparse_categorical_accuracy: 0.9935 - val_loss: 0.0761 - val_sparse_categorical_accuracy: 0.9777\n",
      "Epoch 25/100\n",
      "24/24 [==============================] - 56s 2s/step - loss: 0.0484 - sparse_categorical_accuracy: 0.9909 - val_loss: 0.5768 - val_sparse_categorical_accuracy: 0.8438\n",
      "Epoch 26/100\n",
      "24/24 [==============================] - 56s 2s/step - loss: 0.0676 - sparse_categorical_accuracy: 0.9766 - val_loss: 1.0707 - val_sparse_categorical_accuracy: 0.7902\n",
      "Epoch 27/100\n",
      "24/24 [==============================] - 56s 2s/step - loss: 0.0507 - sparse_categorical_accuracy: 0.9805 - val_loss: 0.1917 - val_sparse_categorical_accuracy: 0.9107\n",
      "Epoch 28/100\n",
      "24/24 [==============================] - 56s 2s/step - loss: 0.0415 - sparse_categorical_accuracy: 0.9896 - val_loss: 0.0702 - val_sparse_categorical_accuracy: 0.9732\n",
      "Epoch 29/100\n",
      "24/24 [==============================] - 56s 2s/step - loss: 0.0375 - sparse_categorical_accuracy: 0.9896 - val_loss: 0.0843 - val_sparse_categorical_accuracy: 0.9821\n",
      "Epoch 30/100\n",
      "24/24 [==============================] - 56s 2s/step - loss: 0.0370 - sparse_categorical_accuracy: 0.9896 - val_loss: 0.0307 - val_sparse_categorical_accuracy: 0.9866\n",
      "Epoch 31/100\n",
      "24/24 [==============================] - 56s 2s/step - loss: 0.0153 - sparse_categorical_accuracy: 0.9935 - val_loss: 0.0651 - val_sparse_categorical_accuracy: 0.9821\n",
      "Epoch 32/100\n",
      "24/24 [==============================] - 56s 2s/step - loss: 0.0156 - sparse_categorical_accuracy: 0.9961 - val_loss: 0.0610 - val_sparse_categorical_accuracy: 0.9821\n",
      "Epoch 33/100\n",
      "24/24 [==============================] - 56s 2s/step - loss: 0.0169 - sparse_categorical_accuracy: 0.9935 - val_loss: 0.0064 - val_sparse_categorical_accuracy: 1.0000\n",
      "Epoch 34/100\n",
      "24/24 [==============================] - 56s 2s/step - loss: 0.0102 - sparse_categorical_accuracy: 0.9961 - val_loss: 0.0017 - val_sparse_categorical_accuracy: 1.0000\n",
      "Epoch 35/100\n",
      "24/24 [==============================] - 56s 2s/step - loss: 0.0244 - sparse_categorical_accuracy: 0.9948 - val_loss: 0.0018 - val_sparse_categorical_accuracy: 1.0000\n",
      "Epoch 36/100\n",
      "24/24 [==============================] - 56s 2s/step - loss: 0.0088 - sparse_categorical_accuracy: 0.9974 - val_loss: 0.0067 - val_sparse_categorical_accuracy: 0.9955\n",
      "Epoch 37/100\n",
      "24/24 [==============================] - 56s 2s/step - loss: 0.0028 - sparse_categorical_accuracy: 1.0000 - val_loss: 4.5760e-04 - val_sparse_categorical_accuracy: 1.0000\n",
      "Epoch 38/100\n",
      "24/24 [==============================] - 56s 2s/step - loss: 0.0365 - sparse_categorical_accuracy: 0.9870 - val_loss: 1.8899 - val_sparse_categorical_accuracy: 0.6429\n",
      "Epoch 39/100\n",
      "24/24 [==============================] - 56s 2s/step - loss: 0.0906 - sparse_categorical_accuracy: 0.9714 - val_loss: 0.8747 - val_sparse_categorical_accuracy: 0.8080\n",
      "Epoch 40/100\n",
      "24/24 [==============================] - 56s 2s/step - loss: 0.0571 - sparse_categorical_accuracy: 0.9831 - val_loss: 4.1757 - val_sparse_categorical_accuracy: 0.4821\n",
      "Epoch 41/100\n",
      "24/24 [==============================] - 56s 2s/step - loss: 0.0297 - sparse_categorical_accuracy: 0.9870 - val_loss: 0.4240 - val_sparse_categorical_accuracy: 0.8929\n",
      "Epoch 42/100\n",
      "24/24 [==============================] - 56s 2s/step - loss: 0.0420 - sparse_categorical_accuracy: 0.9909 - val_loss: 0.0804 - val_sparse_categorical_accuracy: 0.9866\n",
      "Epoch 43/100\n",
      "24/24 [==============================] - 56s 2s/step - loss: 0.0186 - sparse_categorical_accuracy: 0.9909 - val_loss: 0.0392 - val_sparse_categorical_accuracy: 0.9821\n",
      "Epoch 44/100\n",
      "24/24 [==============================] - 56s 2s/step - loss: 0.0104 - sparse_categorical_accuracy: 0.9974 - val_loss: 0.0500 - val_sparse_categorical_accuracy: 0.9821\n",
      "Epoch 45/100\n",
      "24/24 [==============================] - 56s 2s/step - loss: 0.0093 - sparse_categorical_accuracy: 0.9961 - val_loss: 0.0036 - val_sparse_categorical_accuracy: 1.0000\n",
      "Epoch 46/100\n",
      "24/24 [==============================] - 56s 2s/step - loss: 0.0208 - sparse_categorical_accuracy: 0.9922 - val_loss: 0.0139 - val_sparse_categorical_accuracy: 0.9955\n",
      "Epoch 47/100\n",
      "24/24 [==============================] - 56s 2s/step - loss: 0.0282 - sparse_categorical_accuracy: 0.9870 - val_loss: 0.3157 - val_sparse_categorical_accuracy: 0.9330\n",
      "Epoch 48/100\n",
      "24/24 [==============================] - 56s 2s/step - loss: 0.0252 - sparse_categorical_accuracy: 0.9961 - val_loss: 0.1185 - val_sparse_categorical_accuracy: 0.9554\n",
      "Epoch 49/100\n",
      "24/24 [==============================] - 56s 2s/step - loss: 0.0165 - sparse_categorical_accuracy: 0.9935 - val_loss: 0.0012 - val_sparse_categorical_accuracy: 1.0000\n",
      "Epoch 50/100\n",
      "24/24 [==============================] - 56s 2s/step - loss: 0.0089 - sparse_categorical_accuracy: 0.9961 - val_loss: 5.7540e-04 - val_sparse_categorical_accuracy: 1.0000\n",
      "Epoch 51/100\n",
      "24/24 [==============================] - 57s 2s/step - loss: 0.0041 - sparse_categorical_accuracy: 0.9974 - val_loss: 3.2480e-04 - val_sparse_categorical_accuracy: 1.0000\n",
      "Epoch 52/100\n",
      "24/24 [==============================] - 57s 2s/step - loss: 0.0094 - sparse_categorical_accuracy: 0.9974 - val_loss: 0.0060 - val_sparse_categorical_accuracy: 0.9955\n",
      "Epoch 53/100\n",
      "24/24 [==============================] - 56s 2s/step - loss: 0.0083 - sparse_categorical_accuracy: 0.9987 - val_loss: 0.0023 - val_sparse_categorical_accuracy: 1.0000\n",
      "Epoch 54/100\n",
      "24/24 [==============================] - 56s 2s/step - loss: 0.0019 - sparse_categorical_accuracy: 1.0000 - val_loss: 8.8833e-04 - val_sparse_categorical_accuracy: 1.0000\n",
      "Epoch 55/100\n",
      "24/24 [==============================] - 56s 2s/step - loss: 0.0053 - sparse_categorical_accuracy: 0.9974 - val_loss: 0.0094 - val_sparse_categorical_accuracy: 0.9955\n",
      "Epoch 56/100\n",
      "24/24 [==============================] - 56s 2s/step - loss: 0.0057 - sparse_categorical_accuracy: 0.9987 - val_loss: 1.7857e-04 - val_sparse_categorical_accuracy: 1.0000\n",
      "Epoch 57/100\n",
      "24/24 [==============================] - 56s 2s/step - loss: 0.0056 - sparse_categorical_accuracy: 0.9974 - val_loss: 0.0047 - val_sparse_categorical_accuracy: 0.9955\n",
      "Epoch 58/100\n",
      "24/24 [==============================] - 56s 2s/step - loss: 0.0034 - sparse_categorical_accuracy: 0.9987 - val_loss: 0.0021 - val_sparse_categorical_accuracy: 1.0000\n",
      "Epoch 59/100\n",
      "24/24 [==============================] - 56s 2s/step - loss: 0.0040 - sparse_categorical_accuracy: 0.9987 - val_loss: 0.0060 - val_sparse_categorical_accuracy: 0.9955\n",
      "Epoch 60/100\n",
      "24/24 [==============================] - 56s 2s/step - loss: 0.0083 - sparse_categorical_accuracy: 0.9974 - val_loss: 1.4146e-04 - val_sparse_categorical_accuracy: 1.0000\n",
      "Epoch 61/100\n",
      "24/24 [==============================] - 56s 2s/step - loss: 0.0057 - sparse_categorical_accuracy: 0.9987 - val_loss: 0.0035 - val_sparse_categorical_accuracy: 1.0000\n",
      "Epoch 62/100\n",
      "24/24 [==============================] - 56s 2s/step - loss: 0.0069 - sparse_categorical_accuracy: 0.9974 - val_loss: 0.0045 - val_sparse_categorical_accuracy: 0.9955\n",
      "Epoch 63/100\n",
      "24/24 [==============================] - 56s 2s/step - loss: 0.0088 - sparse_categorical_accuracy: 0.9961 - val_loss: 0.1501 - val_sparse_categorical_accuracy: 0.9777\n",
      "Epoch 64/100\n",
      "24/24 [==============================] - 56s 2s/step - loss: 0.0065 - sparse_categorical_accuracy: 0.9948 - val_loss: 7.5079e-04 - val_sparse_categorical_accuracy: 1.0000\n",
      "Epoch 65/100\n",
      "24/24 [==============================] - 56s 2s/step - loss: 0.0081 - sparse_categorical_accuracy: 0.9974 - val_loss: 8.6080e-04 - val_sparse_categorical_accuracy: 1.0000\n",
      "Epoch 66/100\n",
      "24/24 [==============================] - 56s 2s/step - loss: 0.0020 - sparse_categorical_accuracy: 1.0000 - val_loss: 0.0079 - val_sparse_categorical_accuracy: 0.9955\n",
      "Epoch 67/100\n",
      "24/24 [==============================] - 56s 2s/step - loss: 0.0055 - sparse_categorical_accuracy: 0.9987 - val_loss: 0.0117 - val_sparse_categorical_accuracy: 0.9955\n",
      "Epoch 68/100\n",
      "24/24 [==============================] - 56s 2s/step - loss: 0.0036 - sparse_categorical_accuracy: 0.9974 - val_loss: 0.0023 - val_sparse_categorical_accuracy: 1.0000\n",
      "Epoch 69/100\n",
      "24/24 [==============================] - 56s 2s/step - loss: 0.0034 - sparse_categorical_accuracy: 0.9987 - val_loss: 0.0060 - val_sparse_categorical_accuracy: 0.9955\n",
      "Epoch 70/100\n",
      "24/24 [==============================] - 56s 2s/step - loss: 0.0068 - sparse_categorical_accuracy: 0.9961 - val_loss: 0.0594 - val_sparse_categorical_accuracy: 0.9777\n",
      "Epoch 71/100\n",
      "24/24 [==============================] - 56s 2s/step - loss: 0.0146 - sparse_categorical_accuracy: 0.9961 - val_loss: 0.3712 - val_sparse_categorical_accuracy: 0.9062\n",
      "Epoch 72/100\n",
      "24/24 [==============================] - 56s 2s/step - loss: 0.1279 - sparse_categorical_accuracy: 0.9688 - val_loss: 0.9795 - val_sparse_categorical_accuracy: 0.7679\n",
      "Epoch 73/100\n",
      "24/24 [==============================] - 56s 2s/step - loss: 0.0418 - sparse_categorical_accuracy: 0.9870 - val_loss: 3.8431 - val_sparse_categorical_accuracy: 0.7054\n",
      "Epoch 74/100\n",
      "24/24 [==============================] - 56s 2s/step - loss: 0.0179 - sparse_categorical_accuracy: 0.9935 - val_loss: 0.2881 - val_sparse_categorical_accuracy: 0.9196\n",
      "Epoch 75/100\n",
      "24/24 [==============================] - 57s 2s/step - loss: 0.0100 - sparse_categorical_accuracy: 0.9987 - val_loss: 0.1368 - val_sparse_categorical_accuracy: 0.9643\n",
      "Epoch 76/100\n",
      "24/24 [==============================] - 56s 2s/step - loss: 0.0199 - sparse_categorical_accuracy: 0.9922 - val_loss: 0.6660 - val_sparse_categorical_accuracy: 0.8571\n",
      "Epoch 77/100\n",
      "24/24 [==============================] - 56s 2s/step - loss: 0.0174 - sparse_categorical_accuracy: 0.9948 - val_loss: 0.2621 - val_sparse_categorical_accuracy: 0.9152\n",
      "Epoch 78/100\n",
      "24/24 [==============================] - 56s 2s/step - loss: 0.0104 - sparse_categorical_accuracy: 0.9961 - val_loss: 0.0825 - val_sparse_categorical_accuracy: 0.9777\n",
      "Epoch 79/100\n",
      "24/24 [==============================] - 56s 2s/step - loss: 0.0805 - sparse_categorical_accuracy: 0.9792 - val_loss: 0.9656 - val_sparse_categorical_accuracy: 0.7902\n",
      "Epoch 80/100\n",
      "24/24 [==============================] - 56s 2s/step - loss: 0.2766 - sparse_categorical_accuracy: 0.9245 - val_loss: 1.7447 - val_sparse_categorical_accuracy: 0.7411\n",
      "Epoch 81/100\n",
      "24/24 [==============================] - 56s 2s/step - loss: 0.0810 - sparse_categorical_accuracy: 0.9753 - val_loss: 4.9437 - val_sparse_categorical_accuracy: 0.5536\n",
      "Epoch 82/100\n",
      "24/24 [==============================] - 56s 2s/step - loss: 0.1074 - sparse_categorical_accuracy: 0.9727 - val_loss: 18.8304 - val_sparse_categorical_accuracy: 0.4107\n",
      "Epoch 83/100\n",
      "24/24 [==============================] - 56s 2s/step - loss: 0.1314 - sparse_categorical_accuracy: 0.9661 - val_loss: 184.0186 - val_sparse_categorical_accuracy: 0.4955\n",
      "Epoch 84/100\n",
      "24/24 [==============================] - 56s 2s/step - loss: 0.0238 - sparse_categorical_accuracy: 0.9948 - val_loss: 13.2227 - val_sparse_categorical_accuracy: 0.5491\n",
      "Epoch 85/100\n",
      "24/24 [==============================] - 56s 2s/step - loss: 0.0088 - sparse_categorical_accuracy: 0.9987 - val_loss: 0.8509 - val_sparse_categorical_accuracy: 0.8438\n",
      "Epoch 86/100\n",
      "24/24 [==============================] - 56s 2s/step - loss: 0.0089 - sparse_categorical_accuracy: 0.9987 - val_loss: 0.5838 - val_sparse_categorical_accuracy: 0.8616\n",
      "Epoch 87/100\n",
      "24/24 [==============================] - 56s 2s/step - loss: 0.0025 - sparse_categorical_accuracy: 0.9987 - val_loss: 0.1086 - val_sparse_categorical_accuracy: 0.9732\n",
      "Epoch 88/100\n",
      "24/24 [==============================] - 56s 2s/step - loss: 0.0052 - sparse_categorical_accuracy: 0.9987 - val_loss: 0.0798 - val_sparse_categorical_accuracy: 0.9732\n",
      "Epoch 89/100\n",
      "24/24 [==============================] - 56s 2s/step - loss: 0.0044 - sparse_categorical_accuracy: 0.9974 - val_loss: 0.0682 - val_sparse_categorical_accuracy: 0.9732\n",
      "Epoch 90/100\n",
      "24/24 [==============================] - 56s 2s/step - loss: 0.0139 - sparse_categorical_accuracy: 0.9974 - val_loss: 0.0033 - val_sparse_categorical_accuracy: 1.0000\n",
      "Epoch 91/100\n",
      "24/24 [==============================] - 56s 2s/step - loss: 0.0038 - sparse_categorical_accuracy: 0.9974 - val_loss: 0.0021 - val_sparse_categorical_accuracy: 1.0000\n",
      "Epoch 92/100\n",
      "24/24 [==============================] - 56s 2s/step - loss: 0.0032 - sparse_categorical_accuracy: 0.9987 - val_loss: 0.0079 - val_sparse_categorical_accuracy: 0.9911\n",
      "Epoch 93/100\n",
      "24/24 [==============================] - 56s 2s/step - loss: 0.0034 - sparse_categorical_accuracy: 0.9987 - val_loss: 0.0019 - val_sparse_categorical_accuracy: 1.0000\n",
      "Epoch 94/100\n",
      "24/24 [==============================] - 56s 2s/step - loss: 0.0048 - sparse_categorical_accuracy: 0.9974 - val_loss: 0.0036 - val_sparse_categorical_accuracy: 0.9955\n",
      "Epoch 95/100\n",
      "24/24 [==============================] - 56s 2s/step - loss: 0.0014 - sparse_categorical_accuracy: 1.0000 - val_loss: 6.5945e-05 - val_sparse_categorical_accuracy: 1.0000\n",
      "Epoch 96/100\n",
      "24/24 [==============================] - 56s 2s/step - loss: 0.0020 - sparse_categorical_accuracy: 0.9987 - val_loss: 0.0021 - val_sparse_categorical_accuracy: 1.0000\n",
      "Epoch 97/100\n",
      "24/24 [==============================] - 57s 2s/step - loss: 0.0013 - sparse_categorical_accuracy: 1.0000 - val_loss: 0.0018 - val_sparse_categorical_accuracy: 1.0000\n",
      "Epoch 98/100\n",
      "24/24 [==============================] - 58s 2s/step - loss: 4.7793e-04 - sparse_categorical_accuracy: 1.0000 - val_loss: 2.7413e-05 - val_sparse_categorical_accuracy: 1.0000\n",
      "Epoch 99/100\n",
      "24/24 [==============================] - 56s 2s/step - loss: 0.0025 - sparse_categorical_accuracy: 0.9987 - val_loss: 9.1684e-04 - val_sparse_categorical_accuracy: 1.0000\n",
      "Epoch 100/100\n",
      "24/24 [==============================] - 58s 2s/step - loss: 0.0023 - sparse_categorical_accuracy: 0.9987 - val_loss: 6.1863e-04 - val_sparse_categorical_accuracy: 1.0000\n"
     ]
    }
   ],
   "source": [
    "base_model = DenseNet121(weights=None, include_top=False, input_shape=input_shape)\n",
    "\n",
    "DenseNet121 = Sequential()\n",
    "DenseNet121.add(base_model)\n",
    "DenseNet121.add(Flatten())\n",
    "DenseNet121.add(Dense(128, activation='relu'))\n",
    "DenseNet121.add(Dense(3, activation='softmax'))\n",
    "\n",
    "DenseNet121.compile(\n",
    "    optimizer=\"adam\",\n",
    "    loss=\"sparse_categorical_crossentropy\",\n",
    "    metrics=[\"sparse_categorical_accuracy\"],\n",
    ")\n",
    "\n",
    "DN_history = DenseNet121.fit(train, epochs = 100, validation_data = val, callbacks = [tensorboard_callback])"
   ]
  },
  {
   "cell_type": "code",
   "execution_count": 65,
   "id": "20d6660f-ae3d-49fe-8dfd-fa7321550c45",
   "metadata": {},
   "outputs": [
    {
     "name": "stdout",
     "output_type": "stream",
     "text": [
      "3/3 [==============================] - 2s 685ms/step - loss: 3.3639e-04 - sparse_categorical_accuracy: 1.0000\n"
     ]
    },
    {
     "data": {
      "text/plain": [
       "[0.0003363934811204672, 1.0]"
      ]
     },
     "execution_count": 65,
     "metadata": {},
     "output_type": "execute_result"
    }
   ],
   "source": [
    "DenseNet121.evaluate(test)"
   ]
  },
  {
   "cell_type": "code",
   "execution_count": 67,
   "id": "e76b8378-4cf3-4589-82eb-1b1d6fc37cb0",
   "metadata": {},
   "outputs": [
    {
     "data": {
      "image/png": "[encoded data removed]",
      "text/plain": [
       "<Figure size 640x480 with 1 Axes>"
      ]
     },
     "metadata": {},
     "output_type": "display_data"
    }
   ],
   "source": [
    "plt.plot(DN_history.history[\"sparse_categorical_accuracy\"])\n",
    "plt.plot(DN_history.history['val_sparse_categorical_accuracy'])\n",
    "plt.title('model accuracy')\n",
    "plt.ylabel('accuracy')\n",
    "plt.xlabel('epoch')\n",
    "plt.legend(['train', 'val'], loc='upper left')\n",
    "plt.show()"
   ]
  },
  {
   "cell_type": "code",
   "execution_count": 68,
   "id": "7ba963ce-784a-492d-b2cb-e48b5ed3530e",
   "metadata": {},
   "outputs": [
    {
     "data": {
      "image/png": "[encoded data removed]",
      "text/plain": [
       "<Figure size 640x480 with 1 Axes>"
      ]
     },
     "metadata": {},
     "output_type": "display_data"
    }
   ],
   "source": [
    "plt.plot(DN_history.history['loss'])\n",
    "plt.plot(DN_history.history['val_loss'])\n",
    "plt.title('model loss')\n",
    "plt.ylabel('loss')\n",
    "plt.xlabel('epoch')\n",
    "plt.legend(['train', 'val'], loc='upper left')\n",
    "plt.show()"
   ]
  },
  {
   "cell_type": "code",
   "execution_count": 74,
   "id": "bab96d51-aee8-4d5e-9c1e-b8760c1971d9",
   "metadata": {},
   "outputs": [
    {
     "name": "stdout",
     "output_type": "stream",
     "text": [
      "Epoch 1/100\n",
      "24/24 [==============================] - 78s 2s/step - loss: 6.6531 - sparse_categorical_accuracy: 0.6120 - val_loss: 81451.1953 - val_sparse_categorical_accuracy: 0.4911\n",
      "Epoch 2/100\n",
      "24/24 [==============================] - 52s 2s/step - loss: 0.8708 - sparse_categorical_accuracy: 0.6914 - val_loss: 4299.8809 - val_sparse_categorical_accuracy: 0.5402\n",
      "Epoch 3/100\n",
      "24/24 [==============================] - 60s 3s/step - loss: 0.6146 - sparse_categorical_accuracy: 0.7656 - val_loss: 743.3874 - val_sparse_categorical_accuracy: 0.5446\n",
      "Epoch 4/100\n",
      "24/24 [==============================] - 61s 3s/step - loss: 0.4041 - sparse_categorical_accuracy: 0.8503 - val_loss: 170.4469 - val_sparse_categorical_accuracy: 0.5759\n",
      "Epoch 5/100\n",
      "24/24 [==============================] - 57s 2s/step - loss: 0.2971 - sparse_categorical_accuracy: 0.8867 - val_loss: 49.0659 - val_sparse_categorical_accuracy: 0.5670\n",
      "Epoch 6/100\n",
      "24/24 [==============================] - 66s 3s/step - loss: 0.2139 - sparse_categorical_accuracy: 0.9232 - val_loss: 26.5577 - val_sparse_categorical_accuracy: 0.5223\n",
      "Epoch 7/100\n",
      "24/24 [==============================] - 68s 3s/step - loss: 0.2301 - sparse_categorical_accuracy: 0.8984 - val_loss: 13.0989 - val_sparse_categorical_accuracy: 0.5223\n",
      "Epoch 8/100\n",
      "24/24 [==============================] - 69s 3s/step - loss: 0.1968 - sparse_categorical_accuracy: 0.9323 - val_loss: 5.8350 - val_sparse_categorical_accuracy: 0.4821\n",
      "Epoch 9/100\n",
      "24/24 [==============================] - 66s 3s/step - loss: 0.1835 - sparse_categorical_accuracy: 0.9388 - val_loss: 1.7536 - val_sparse_categorical_accuracy: 0.4375\n",
      "Epoch 10/100\n",
      "24/24 [==============================] - 65s 3s/step - loss: 0.1267 - sparse_categorical_accuracy: 0.9622 - val_loss: 1.9002 - val_sparse_categorical_accuracy: 0.4330\n",
      "Epoch 11/100\n",
      "24/24 [==============================] - 57s 2s/step - loss: 0.0544 - sparse_categorical_accuracy: 0.9831 - val_loss: 1.0460 - val_sparse_categorical_accuracy: 0.5848\n",
      "Epoch 12/100\n",
      "24/24 [==============================] - 62s 3s/step - loss: 0.0617 - sparse_categorical_accuracy: 0.9831 - val_loss: 0.1485 - val_sparse_categorical_accuracy: 0.9598\n",
      "Epoch 13/100\n",
      "24/24 [==============================] - 64s 3s/step - loss: 0.0965 - sparse_categorical_accuracy: 0.9701 - val_loss: 1.0549 - val_sparse_categorical_accuracy: 0.7054\n",
      "Epoch 14/100\n",
      "24/24 [==============================] - 63s 3s/step - loss: 0.1866 - sparse_categorical_accuracy: 0.9401 - val_loss: 4.0866 - val_sparse_categorical_accuracy: 0.3080\n",
      "Epoch 15/100\n",
      "24/24 [==============================] - 66s 3s/step - loss: 0.0671 - sparse_categorical_accuracy: 0.9818 - val_loss: 0.6142 - val_sparse_categorical_accuracy: 0.6964\n",
      "Epoch 16/100\n",
      "24/24 [==============================] - 64s 3s/step - loss: 0.0297 - sparse_categorical_accuracy: 0.9909 - val_loss: 0.0878 - val_sparse_categorical_accuracy: 0.9688\n",
      "Epoch 17/100\n",
      "24/24 [==============================] - 63s 3s/step - loss: 0.0598 - sparse_categorical_accuracy: 0.9805 - val_loss: 19.4950 - val_sparse_categorical_accuracy: 0.1473\n",
      "Epoch 18/100\n",
      "24/24 [==============================] - 59s 2s/step - loss: 0.1495 - sparse_categorical_accuracy: 0.9492 - val_loss: 32.9838 - val_sparse_categorical_accuracy: 0.1830\n",
      "Epoch 19/100\n",
      "24/24 [==============================] - 63s 3s/step - loss: 0.0587 - sparse_categorical_accuracy: 0.9779 - val_loss: 2.3985 - val_sparse_categorical_accuracy: 0.5089\n",
      "Epoch 20/100\n",
      "24/24 [==============================] - 62s 3s/step - loss: 0.0427 - sparse_categorical_accuracy: 0.9870 - val_loss: 3.5224 - val_sparse_categorical_accuracy: 0.3170\n",
      "Epoch 21/100\n",
      "24/24 [==============================] - 62s 3s/step - loss: 0.1271 - sparse_categorical_accuracy: 0.9544 - val_loss: 1.4218 - val_sparse_categorical_accuracy: 0.5759\n",
      "Epoch 22/100\n",
      "24/24 [==============================] - 65s 3s/step - loss: 0.0786 - sparse_categorical_accuracy: 0.9740 - val_loss: 1.9991 - val_sparse_categorical_accuracy: 0.5893\n",
      "Epoch 23/100\n",
      "24/24 [==============================] - 66s 3s/step - loss: 0.0438 - sparse_categorical_accuracy: 0.9896 - val_loss: 0.2945 - val_sparse_categorical_accuracy: 0.9286\n",
      "Epoch 24/100\n",
      "24/24 [==============================] - 64s 3s/step - loss: 0.0229 - sparse_categorical_accuracy: 0.9922 - val_loss: 0.8038 - val_sparse_categorical_accuracy: 0.7589\n",
      "Epoch 25/100\n",
      "24/24 [==============================] - 64s 3s/step - loss: 0.0226 - sparse_categorical_accuracy: 0.9922 - val_loss: 0.9268 - val_sparse_categorical_accuracy: 0.7545\n",
      "Epoch 26/100\n",
      "24/24 [==============================] - 65s 3s/step - loss: 0.0144 - sparse_categorical_accuracy: 0.9948 - val_loss: 0.2307 - val_sparse_categorical_accuracy: 0.9107\n",
      "Epoch 27/100\n",
      "24/24 [==============================] - 63s 3s/step - loss: 0.0084 - sparse_categorical_accuracy: 0.9935 - val_loss: 0.0499 - val_sparse_categorical_accuracy: 0.9777\n",
      "Epoch 28/100\n",
      "24/24 [==============================] - 58s 2s/step - loss: 0.0161 - sparse_categorical_accuracy: 0.9974 - val_loss: 0.0058 - val_sparse_categorical_accuracy: 1.0000\n",
      "Epoch 29/100\n",
      "24/24 [==============================] - 63s 3s/step - loss: 0.0145 - sparse_categorical_accuracy: 0.9974 - val_loss: 0.0053 - val_sparse_categorical_accuracy: 1.0000\n",
      "Epoch 30/100\n",
      "24/24 [==============================] - 61s 3s/step - loss: 0.0076 - sparse_categorical_accuracy: 0.9974 - val_loss: 0.0020 - val_sparse_categorical_accuracy: 1.0000\n",
      "Epoch 31/100\n",
      "24/24 [==============================] - 58s 2s/step - loss: 0.0150 - sparse_categorical_accuracy: 0.9961 - val_loss: 0.0170 - val_sparse_categorical_accuracy: 0.9955\n",
      "Epoch 32/100\n",
      "24/24 [==============================] - 63s 3s/step - loss: 0.0041 - sparse_categorical_accuracy: 0.9987 - val_loss: 0.0264 - val_sparse_categorical_accuracy: 0.9911\n",
      "Epoch 33/100\n",
      "24/24 [==============================] - 65s 3s/step - loss: 0.0062 - sparse_categorical_accuracy: 0.9987 - val_loss: 0.0067 - val_sparse_categorical_accuracy: 1.0000\n",
      "Epoch 34/100\n",
      "24/24 [==============================] - 66s 3s/step - loss: 0.0013 - sparse_categorical_accuracy: 1.0000 - val_loss: 5.9963e-04 - val_sparse_categorical_accuracy: 1.0000\n",
      "Epoch 35/100\n",
      "24/24 [==============================] - 64s 3s/step - loss: 8.2856e-04 - sparse_categorical_accuracy: 1.0000 - val_loss: 8.0651e-04 - val_sparse_categorical_accuracy: 1.0000\n",
      "Epoch 36/100\n",
      "24/24 [==============================] - 64s 3s/step - loss: 6.8698e-04 - sparse_categorical_accuracy: 1.0000 - val_loss: 7.4468e-04 - val_sparse_categorical_accuracy: 1.0000\n",
      "Epoch 37/100\n",
      "24/24 [==============================] - 64s 3s/step - loss: 8.9712e-04 - sparse_categorical_accuracy: 1.0000 - val_loss: 8.7036e-04 - val_sparse_categorical_accuracy: 1.0000\n",
      "Epoch 38/100\n",
      "24/24 [==============================] - 64s 3s/step - loss: 3.9475e-04 - sparse_categorical_accuracy: 1.0000 - val_loss: 3.7217e-04 - val_sparse_categorical_accuracy: 1.0000\n",
      "Epoch 39/100\n",
      "24/24 [==============================] - 65s 3s/step - loss: 3.3021e-04 - sparse_categorical_accuracy: 1.0000 - val_loss: 1.4856e-04 - val_sparse_categorical_accuracy: 1.0000\n",
      "Epoch 40/100\n",
      "24/24 [==============================] - 59s 2s/step - loss: 1.9472e-04 - sparse_categorical_accuracy: 1.0000 - val_loss: 2.6091e-04 - val_sparse_categorical_accuracy: 1.0000\n",
      "Epoch 41/100\n",
      "24/24 [==============================] - 64s 3s/step - loss: 2.0890e-04 - sparse_categorical_accuracy: 1.0000 - val_loss: 1.3802e-04 - val_sparse_categorical_accuracy: 1.0000\n",
      "Epoch 42/100\n",
      "24/24 [==============================] - 56s 2s/step - loss: 1.6027e-04 - sparse_categorical_accuracy: 1.0000 - val_loss: 1.6032e-04 - val_sparse_categorical_accuracy: 1.0000\n",
      "Epoch 43/100\n",
      "24/24 [==============================] - 63s 3s/step - loss: 1.3774e-04 - sparse_categorical_accuracy: 1.0000 - val_loss: 1.1049e-04 - val_sparse_categorical_accuracy: 1.0000\n",
      "Epoch 44/100\n",
      "24/24 [==============================] - 64s 3s/step - loss: 1.8854e-04 - sparse_categorical_accuracy: 1.0000 - val_loss: 1.1095e-04 - val_sparse_categorical_accuracy: 1.0000\n",
      "Epoch 45/100\n",
      "24/24 [==============================] - 64s 3s/step - loss: 1.1510e-04 - sparse_categorical_accuracy: 1.0000 - val_loss: 9.5990e-05 - val_sparse_categorical_accuracy: 1.0000\n",
      "Epoch 46/100\n",
      "24/24 [==============================] - 60s 2s/step - loss: 1.2565e-04 - sparse_categorical_accuracy: 1.0000 - val_loss: 9.5556e-05 - val_sparse_categorical_accuracy: 1.0000\n",
      "Epoch 47/100\n",
      "24/24 [==============================] - 56s 2s/step - loss: 1.1502e-04 - sparse_categorical_accuracy: 1.0000 - val_loss: 5.9962e-05 - val_sparse_categorical_accuracy: 1.0000\n",
      "Epoch 48/100\n",
      "24/24 [==============================] - 56s 2s/step - loss: 8.9943e-05 - sparse_categorical_accuracy: 1.0000 - val_loss: 7.7638e-05 - val_sparse_categorical_accuracy: 1.0000\n",
      "Epoch 49/100\n",
      "24/24 [==============================] - 56s 2s/step - loss: 1.1578e-04 - sparse_categorical_accuracy: 1.0000 - val_loss: 5.2217e-05 - val_sparse_categorical_accuracy: 1.0000\n",
      "Epoch 50/100\n",
      "24/24 [==============================] - 56s 2s/step - loss: 9.3277e-05 - sparse_categorical_accuracy: 1.0000 - val_loss: 7.4602e-05 - val_sparse_categorical_accuracy: 1.0000\n",
      "Epoch 51/100\n",
      "24/24 [==============================] - 56s 2s/step - loss: 9.0043e-05 - sparse_categorical_accuracy: 1.0000 - val_loss: 6.1393e-05 - val_sparse_categorical_accuracy: 1.0000\n",
      "Epoch 52/100\n",
      "24/24 [==============================] - 56s 2s/step - loss: 7.9974e-05 - sparse_categorical_accuracy: 1.0000 - val_loss: 6.6817e-05 - val_sparse_categorical_accuracy: 1.0000\n",
      "Epoch 53/100\n",
      "24/24 [==============================] - 56s 2s/step - loss: 5.9503e-05 - sparse_categorical_accuracy: 1.0000 - val_loss: 4.8099e-05 - val_sparse_categorical_accuracy: 1.0000\n",
      "Epoch 54/100\n",
      "24/24 [==============================] - 56s 2s/step - loss: 7.9421e-05 - sparse_categorical_accuracy: 1.0000 - val_loss: 6.2077e-05 - val_sparse_categorical_accuracy: 1.0000\n",
      "Epoch 55/100\n",
      "24/24 [==============================] - 56s 2s/step - loss: 7.4881e-05 - sparse_categorical_accuracy: 1.0000 - val_loss: 6.0120e-05 - val_sparse_categorical_accuracy: 1.0000\n",
      "Epoch 56/100\n",
      "24/24 [==============================] - 57s 2s/step - loss: 5.1084e-05 - sparse_categorical_accuracy: 1.0000 - val_loss: 4.0967e-05 - val_sparse_categorical_accuracy: 1.0000\n",
      "Epoch 57/100\n",
      "24/24 [==============================] - 57s 2s/step - loss: 6.3736e-05 - sparse_categorical_accuracy: 1.0000 - val_loss: 4.2835e-05 - val_sparse_categorical_accuracy: 1.0000\n",
      "Epoch 58/100\n",
      "24/24 [==============================] - 58s 2s/step - loss: 7.6000e-05 - sparse_categorical_accuracy: 1.0000 - val_loss: 3.4645e-05 - val_sparse_categorical_accuracy: 1.0000\n",
      "Epoch 59/100\n",
      "24/24 [==============================] - 59s 2s/step - loss: 4.4181e-05 - sparse_categorical_accuracy: 1.0000 - val_loss: 4.0069e-05 - val_sparse_categorical_accuracy: 1.0000\n",
      "Epoch 60/100\n",
      "24/24 [==============================] - 59s 2s/step - loss: 6.3233e-05 - sparse_categorical_accuracy: 1.0000 - val_loss: 3.1740e-05 - val_sparse_categorical_accuracy: 1.0000\n",
      "Epoch 61/100\n",
      "24/24 [==============================] - 59s 2s/step - loss: 4.1710e-05 - sparse_categorical_accuracy: 1.0000 - val_loss: 2.8071e-05 - val_sparse_categorical_accuracy: 1.0000\n",
      "Epoch 62/100\n",
      "24/24 [==============================] - 59s 2s/step - loss: 4.8197e-05 - sparse_categorical_accuracy: 1.0000 - val_loss: 2.0301e-05 - val_sparse_categorical_accuracy: 1.0000\n",
      "Epoch 63/100\n",
      "24/24 [==============================] - 59s 2s/step - loss: 4.5837e-05 - sparse_categorical_accuracy: 1.0000 - val_loss: 3.4307e-05 - val_sparse_categorical_accuracy: 1.0000\n",
      "Epoch 64/100\n",
      "24/24 [==============================] - 61s 3s/step - loss: 5.5897e-05 - sparse_categorical_accuracy: 1.0000 - val_loss: 2.6265e-05 - val_sparse_categorical_accuracy: 1.0000\n",
      "Epoch 65/100\n",
      "24/24 [==============================] - 65s 3s/step - loss: 3.9473e-05 - sparse_categorical_accuracy: 1.0000 - val_loss: 3.4163e-05 - val_sparse_categorical_accuracy: 1.0000\n",
      "Epoch 66/100\n",
      "24/24 [==============================] - 66s 3s/step - loss: 3.7007e-05 - sparse_categorical_accuracy: 1.0000 - val_loss: 1.3741e-05 - val_sparse_categorical_accuracy: 1.0000\n",
      "Epoch 67/100\n",
      "24/24 [==============================] - 62s 3s/step - loss: 2.9515e-05 - sparse_categorical_accuracy: 1.0000 - val_loss: 2.3246e-05 - val_sparse_categorical_accuracy: 1.0000\n",
      "Epoch 68/100\n",
      "24/24 [==============================] - 64s 3s/step - loss: 3.1736e-05 - sparse_categorical_accuracy: 1.0000 - val_loss: 3.1417e-05 - val_sparse_categorical_accuracy: 1.0000\n",
      "Epoch 69/100\n",
      "24/24 [==============================] - 63s 3s/step - loss: 3.0201e-05 - sparse_categorical_accuracy: 1.0000 - val_loss: 2.4737e-05 - val_sparse_categorical_accuracy: 1.0000\n",
      "Epoch 70/100\n",
      "24/24 [==============================] - 63s 3s/step - loss: 3.0314e-05 - sparse_categorical_accuracy: 1.0000 - val_loss: 3.5437e-05 - val_sparse_categorical_accuracy: 1.0000\n",
      "Epoch 71/100\n",
      "24/24 [==============================] - 61s 3s/step - loss: 3.5644e-05 - sparse_categorical_accuracy: 1.0000 - val_loss: 1.4409e-05 - val_sparse_categorical_accuracy: 1.0000\n",
      "Epoch 72/100\n",
      "24/24 [==============================] - 60s 2s/step - loss: 2.9066e-05 - sparse_categorical_accuracy: 1.0000 - val_loss: 1.6981e-05 - val_sparse_categorical_accuracy: 1.0000\n",
      "Epoch 73/100\n",
      "24/24 [==============================] - 58s 2s/step - loss: 3.5990e-05 - sparse_categorical_accuracy: 1.0000 - val_loss: 1.3356e-05 - val_sparse_categorical_accuracy: 1.0000\n",
      "Epoch 74/100\n",
      "24/24 [==============================] - 67s 3s/step - loss: 3.2113e-05 - sparse_categorical_accuracy: 1.0000 - val_loss: 1.3859e-05 - val_sparse_categorical_accuracy: 1.0000\n",
      "Epoch 75/100\n",
      "24/24 [==============================] - 67s 3s/step - loss: 2.6952e-05 - sparse_categorical_accuracy: 1.0000 - val_loss: 1.3364e-05 - val_sparse_categorical_accuracy: 1.0000\n",
      "Epoch 76/100\n",
      "24/24 [==============================] - 66s 3s/step - loss: 2.7399e-05 - sparse_categorical_accuracy: 1.0000 - val_loss: 1.7159e-05 - val_sparse_categorical_accuracy: 1.0000\n",
      "Epoch 77/100\n",
      "24/24 [==============================] - 67s 3s/step - loss: 2.6545e-05 - sparse_categorical_accuracy: 1.0000 - val_loss: 2.1461e-05 - val_sparse_categorical_accuracy: 1.0000\n",
      "Epoch 78/100\n",
      "24/24 [==============================] - 60s 2s/step - loss: 1.9424e-05 - sparse_categorical_accuracy: 1.0000 - val_loss: 2.4120e-05 - val_sparse_categorical_accuracy: 1.0000\n",
      "Epoch 79/100\n",
      "24/24 [==============================] - 64s 3s/step - loss: 2.4801e-05 - sparse_categorical_accuracy: 1.0000 - val_loss: 1.6185e-05 - val_sparse_categorical_accuracy: 1.0000\n",
      "Epoch 80/100\n",
      "24/24 [==============================] - 61s 3s/step - loss: 3.0925e-05 - sparse_categorical_accuracy: 1.0000 - val_loss: 1.6543e-05 - val_sparse_categorical_accuracy: 1.0000\n",
      "Epoch 81/100\n",
      "24/24 [==============================] - 66s 3s/step - loss: 4.1757e-05 - sparse_categorical_accuracy: 1.0000 - val_loss: 1.1794e-05 - val_sparse_categorical_accuracy: 1.0000\n",
      "Epoch 82/100\n",
      "24/24 [==============================] - 66s 3s/step - loss: 2.3530e-05 - sparse_categorical_accuracy: 1.0000 - val_loss: 1.4070e-05 - val_sparse_categorical_accuracy: 1.0000\n",
      "Epoch 83/100\n",
      "24/24 [==============================] - 63s 3s/step - loss: 1.6570e-05 - sparse_categorical_accuracy: 1.0000 - val_loss: 1.6764e-05 - val_sparse_categorical_accuracy: 1.0000\n",
      "Epoch 84/100\n",
      "24/24 [==============================] - 64s 3s/step - loss: 3.0834e-05 - sparse_categorical_accuracy: 1.0000 - val_loss: 1.9490e-05 - val_sparse_categorical_accuracy: 1.0000\n",
      "Epoch 85/100\n",
      "24/24 [==============================] - 59s 2s/step - loss: 1.3828e-05 - sparse_categorical_accuracy: 1.0000 - val_loss: 9.5969e-06 - val_sparse_categorical_accuracy: 1.0000\n",
      "Epoch 86/100\n",
      "24/24 [==============================] - 62s 3s/step - loss: 1.7040e-05 - sparse_categorical_accuracy: 1.0000 - val_loss: 1.0416e-05 - val_sparse_categorical_accuracy: 1.0000\n",
      "Epoch 87/100\n",
      "24/24 [==============================] - 61s 3s/step - loss: 1.8825e-05 - sparse_categorical_accuracy: 1.0000 - val_loss: 8.2607e-06 - val_sparse_categorical_accuracy: 1.0000\n",
      "Epoch 88/100\n",
      "24/24 [==============================] - 62s 3s/step - loss: 2.0555e-05 - sparse_categorical_accuracy: 1.0000 - val_loss: 8.1556e-06 - val_sparse_categorical_accuracy: 1.0000\n",
      "Epoch 89/100\n",
      "24/24 [==============================] - 58s 2s/step - loss: 1.4068e-05 - sparse_categorical_accuracy: 1.0000 - val_loss: 9.1107e-06 - val_sparse_categorical_accuracy: 1.0000\n",
      "Epoch 90/100\n",
      "24/24 [==============================] - 62s 3s/step - loss: 1.6259e-05 - sparse_categorical_accuracy: 1.0000 - val_loss: 6.2534e-06 - val_sparse_categorical_accuracy: 1.0000\n",
      "Epoch 91/100\n",
      "24/24 [==============================] - 60s 3s/step - loss: 1.7416e-05 - sparse_categorical_accuracy: 1.0000 - val_loss: 1.0828e-05 - val_sparse_categorical_accuracy: 1.0000\n",
      "Epoch 92/100\n",
      "24/24 [==============================] - 60s 3s/step - loss: 2.0578e-05 - sparse_categorical_accuracy: 1.0000 - val_loss: 6.5237e-06 - val_sparse_categorical_accuracy: 1.0000\n",
      "Epoch 93/100\n",
      "24/24 [==============================] - 58s 2s/step - loss: 1.5334e-05 - sparse_categorical_accuracy: 1.0000 - val_loss: 6.4844e-06 - val_sparse_categorical_accuracy: 1.0000\n",
      "Epoch 94/100\n",
      "24/24 [==============================] - 57s 2s/step - loss: 1.7930e-05 - sparse_categorical_accuracy: 1.0000 - val_loss: 1.2254e-05 - val_sparse_categorical_accuracy: 1.0000\n",
      "Epoch 95/100\n",
      "24/24 [==============================] - 57s 2s/step - loss: 1.6568e-05 - sparse_categorical_accuracy: 1.0000 - val_loss: 9.3678e-06 - val_sparse_categorical_accuracy: 1.0000\n",
      "Epoch 96/100\n",
      "24/24 [==============================] - 59s 2s/step - loss: 1.4742e-05 - sparse_categorical_accuracy: 1.0000 - val_loss: 4.8336e-06 - val_sparse_categorical_accuracy: 1.0000\n",
      "Epoch 97/100\n",
      "24/24 [==============================] - 57s 2s/step - loss: 1.3544e-05 - sparse_categorical_accuracy: 1.0000 - val_loss: 9.6046e-06 - val_sparse_categorical_accuracy: 1.0000\n",
      "Epoch 98/100\n",
      "24/24 [==============================] - 59s 2s/step - loss: 8.6843e-06 - sparse_categorical_accuracy: 1.0000 - val_loss: 7.4897e-06 - val_sparse_categorical_accuracy: 1.0000\n",
      "Epoch 99/100\n",
      "24/24 [==============================] - 57s 2s/step - loss: 1.1391e-05 - sparse_categorical_accuracy: 1.0000 - val_loss: 1.0794e-05 - val_sparse_categorical_accuracy: 1.0000\n",
      "Epoch 100/100\n",
      "24/24 [==============================] - 59s 2s/step - loss: 2.7138e-05 - sparse_categorical_accuracy: 1.0000 - val_loss: 8.8839e-06 - val_sparse_categorical_accuracy: 1.0000\n"
     ]
    }
   ],
   "source": [
    "base_model = DenseNet121(weights=None, include_top=False, input_shape=input_shape)\n",
    "\n",
    "DenseNet121 = Sequential()\n",
    "DenseNet121.add(base_model)\n",
    "DenseNet121.add(Flatten())\n",
    "DenseNet121.add(Dense(128, activation='relu'))\n",
    "DenseNet121.add(Dense(3, activation='softmax'))\n",
    "\n",
    "DenseNet121.compile(\n",
    "    optimizer=\"adam\",\n",
    "    loss=\"sparse_categorical_crossentropy\",\n",
    "    metrics=[\"sparse_categorical_accuracy\"],\n",
    ")\n",
    "\n",
    "DN_history = DenseNet121.fit(train, epochs = 100, validation_data = val, callbacks = [tensorboard_callback])"
   ]
  },
  {
   "cell_type": "code",
   "execution_count": 79,
   "id": "3596156c-29f8-4515-a69f-ddd92dd6b97d",
   "metadata": {},
   "outputs": [
    {
     "name": "stdout",
     "output_type": "stream",
     "text": [
      "3/3 [==============================] - 2s 715ms/step - loss: 1.3902e-05 - sparse_categorical_accuracy: 1.0000\n"
     ]
    }
   ],
   "source": [
    "loss, accuracy = DenseNet121.evaluate(test)\n",
    "DN_Metrics = {\"Accuracy\":0, \"Loss\":0, \"Recall\":0, \"Precision\":0, \"F1\":0}"
   ]
  },
  {
   "cell_type": "code",
   "execution_count": 82,
   "id": "3a125e75-807c-404c-b9d4-f9828c72dec3",
   "metadata": {},
   "outputs": [
    {
     "name": "stdout",
     "output_type": "stream",
     "text": [
      "{'Accuracy': 0, 'Loss': 1.3902026694267988e-05, 'Recall': 0, 'Precision': 0, 'F1': 0}\n"
     ]
    }
   ],
   "source": [
    "DN_Metrics[\"Loss\"] = loss\n",
    "print(DN_Metrics)"
   ]
  },
  {
   "cell_type": "markdown",
   "id": "9b3e020e-be94-40b9-8071-af71625b4f8d",
   "metadata": {},
   "source": [
    "# Segmentated Results."
   ]
  },
  {
   "cell_type": "code",
   "execution_count": null,
   "id": "19fa2acb-924e-4056-ba20-75417133276f",
   "metadata": {},
   "outputs": [],
   "source": [
    "data_dir = \"The IQ-OTHNCCD lung cancer dataset-segmentated\"\n",
    "dataset = tf.keras.utils.image_dataset_from_directory(data_dir,image_size=(224,224))"
   ]
  },
  {
   "cell_type": "code",
   "execution_count": null,
   "id": "2f8ac2ab-bac4-49c4-abc2-6a59e4fed9b9",
   "metadata": {},
   "outputs": [],
   "source": [
    "train_size = int(len(dataset)*.7)\n",
    "val_size = int(len(dataset)*.20)\n",
    "test_size = int(len(dataset)*.10)"
   ]
  },
  {
   "cell_type": "code",
   "execution_count": null,
   "id": "3774e355-9730-463f-bebf-d90272d60743",
   "metadata": {},
   "outputs": [],
   "source": [
    "train = dataset.take(train_size)\n",
    "val = dataset.take(val_size)\n",
    "test = dataset.take(test_size)"
   ]
  },
  {
   "cell_type": "code",
   "execution_count": null,
   "id": "c8393c06-3ccb-4fae-b4ca-8664f849901e",
   "metadata": {},
   "outputs": [],
   "source": [
    "input_shape= (224,224, 3)"
   ]
  },
  {
   "cell_type": "code",
   "execution_count": null,
   "id": "61b2dbf5-c2a0-4996-a906-47a99f9feddc",
   "metadata": {},
   "outputs": [],
   "source": [
    "logdir = \"logs\""
   ]
  },
  {
   "cell_type": "code",
   "execution_count": null,
   "id": "203b100a-e8c8-4f28-8766-e17755f7df20",
   "metadata": {},
   "outputs": [],
   "source": [
    "tensorboard_callback = tf.keras.callbacks.TensorBoard(log_dir = logdir)"
   ]
  },
  {
   "cell_type": "markdown",
   "id": "3a6de58d-5fcd-453a-8216-9af66d48daaf",
   "metadata": {
    "jp-MarkdownHeadingCollapsed": true
   },
   "source": [
    "## Scenario  1: Pre-trained / Training frozen on base model."
   ]
  },
  {
   "cell_type": "markdown",
   "id": "69405def-da46-43bd-9993-52b22125558a",
   "metadata": {},
   "source": [
    "### DenseNet121 Results."
   ]
  },
  {
   "cell_type": "code",
   "execution_count": 110,
   "id": "c2e3daed-478f-4a8d-8ec4-23b76a080d4b",
   "metadata": {},
   "outputs": [
    {
     "name": "stdout",
     "output_type": "stream",
     "text": [
      "Epoch 1/100\n",
      "24/24 [==============================] - 26s 985ms/step - loss: 68.0020 - sparse_categorical_accuracy: 0.5560 - val_loss: 10.3014 - val_sparse_categorical_accuracy: 0.7634\n",
      "Epoch 2/100\n",
      "24/24 [==============================] - 24s 988ms/step - loss: 4.8037 - sparse_categorical_accuracy: 0.8372 - val_loss: 1.9558 - val_sparse_categorical_accuracy: 0.8482\n",
      "Epoch 3/100\n",
      "24/24 [==============================] - 23s 951ms/step - loss: 1.4194 - sparse_categorical_accuracy: 0.8164 - val_loss: 0.9521 - val_sparse_categorical_accuracy: 0.7589\n",
      "Epoch 4/100\n",
      "24/24 [==============================] - 22s 917ms/step - loss: 0.6236 - sparse_categorical_accuracy: 0.8555 - val_loss: 0.3657 - val_sparse_categorical_accuracy: 0.8839\n",
      "Epoch 5/100\n",
      "24/24 [==============================] - 23s 965ms/step - loss: 0.2248 - sparse_categorical_accuracy: 0.9154 - val_loss: 0.1853 - val_sparse_categorical_accuracy: 0.9152\n",
      "Epoch 6/100\n",
      "24/24 [==============================] - 24s 995ms/step - loss: 0.1691 - sparse_categorical_accuracy: 0.9258 - val_loss: 0.1347 - val_sparse_categorical_accuracy: 0.9330\n",
      "Epoch 7/100\n",
      "24/24 [==============================] - 24s 989ms/step - loss: 0.1580 - sparse_categorical_accuracy: 0.9336 - val_loss: 0.2114 - val_sparse_categorical_accuracy: 0.8839\n",
      "Epoch 8/100\n",
      "24/24 [==============================] - 24s 995ms/step - loss: 0.1585 - sparse_categorical_accuracy: 0.9323 - val_loss: 0.1614 - val_sparse_categorical_accuracy: 0.9420\n",
      "Epoch 9/100\n",
      "24/24 [==============================] - 24s 991ms/step - loss: 0.0920 - sparse_categorical_accuracy: 0.9648 - val_loss: 0.0601 - val_sparse_categorical_accuracy: 0.9821\n",
      "Epoch 10/100\n",
      "24/24 [==============================] - 23s 985ms/step - loss: 0.0681 - sparse_categorical_accuracy: 0.9792 - val_loss: 0.0556 - val_sparse_categorical_accuracy: 0.9821\n",
      "Epoch 11/100\n",
      "24/24 [==============================] - 24s 992ms/step - loss: 0.0581 - sparse_categorical_accuracy: 0.9844 - val_loss: 0.0423 - val_sparse_categorical_accuracy: 0.9866\n",
      "Epoch 12/100\n",
      "24/24 [==============================] - 23s 978ms/step - loss: 0.0583 - sparse_categorical_accuracy: 0.9844 - val_loss: 0.0400 - val_sparse_categorical_accuracy: 0.9911\n",
      "Epoch 13/100\n",
      "24/24 [==============================] - 23s 982ms/step - loss: 0.0594 - sparse_categorical_accuracy: 0.9831 - val_loss: 0.0344 - val_sparse_categorical_accuracy: 1.0000\n",
      "Epoch 14/100\n",
      "24/24 [==============================] - 23s 986ms/step - loss: 0.0390 - sparse_categorical_accuracy: 0.9961 - val_loss: 0.0400 - val_sparse_categorical_accuracy: 0.9911\n",
      "Epoch 15/100\n",
      "24/24 [==============================] - 24s 988ms/step - loss: 0.0370 - sparse_categorical_accuracy: 0.9961 - val_loss: 0.0238 - val_sparse_categorical_accuracy: 1.0000\n",
      "Epoch 16/100\n",
      "24/24 [==============================] - 23s 985ms/step - loss: 0.0399 - sparse_categorical_accuracy: 0.9935 - val_loss: 0.0275 - val_sparse_categorical_accuracy: 0.9955\n",
      "Epoch 17/100\n",
      "24/24 [==============================] - 24s 990ms/step - loss: 0.0433 - sparse_categorical_accuracy: 0.9909 - val_loss: 0.0250 - val_sparse_categorical_accuracy: 0.9955\n",
      "Epoch 18/100\n",
      "24/24 [==============================] - 24s 1s/step - loss: 0.0411 - sparse_categorical_accuracy: 0.9883 - val_loss: 0.0318 - val_sparse_categorical_accuracy: 0.9955\n",
      "Epoch 19/100\n",
      "24/24 [==============================] - 24s 1s/step - loss: 0.0319 - sparse_categorical_accuracy: 0.9935 - val_loss: 0.0237 - val_sparse_categorical_accuracy: 0.9955\n",
      "Epoch 20/100\n",
      "24/24 [==============================] - 23s 980ms/step - loss: 0.0244 - sparse_categorical_accuracy: 0.9961 - val_loss: 0.0307 - val_sparse_categorical_accuracy: 0.9955\n",
      "Epoch 21/100\n",
      "24/24 [==============================] - 24s 990ms/step - loss: 0.0340 - sparse_categorical_accuracy: 0.9961 - val_loss: 0.0160 - val_sparse_categorical_accuracy: 1.0000\n",
      "Epoch 22/100\n",
      "24/24 [==============================] - 23s 974ms/step - loss: 0.0209 - sparse_categorical_accuracy: 0.9961 - val_loss: 0.0314 - val_sparse_categorical_accuracy: 0.9955\n",
      "Epoch 23/100\n",
      "24/24 [==============================] - 23s 973ms/step - loss: 0.0228 - sparse_categorical_accuracy: 0.9974 - val_loss: 0.0235 - val_sparse_categorical_accuracy: 0.9955\n",
      "Epoch 24/100\n",
      "24/24 [==============================] - 23s 973ms/step - loss: 0.0209 - sparse_categorical_accuracy: 0.9987 - val_loss: 0.0241 - val_sparse_categorical_accuracy: 1.0000\n",
      "Epoch 25/100\n",
      "24/24 [==============================] - 23s 974ms/step - loss: 0.0225 - sparse_categorical_accuracy: 0.9974 - val_loss: 0.0181 - val_sparse_categorical_accuracy: 0.9955\n",
      "Epoch 26/100\n",
      "24/24 [==============================] - 23s 975ms/step - loss: 0.0174 - sparse_categorical_accuracy: 0.9974 - val_loss: 0.0126 - val_sparse_categorical_accuracy: 1.0000\n",
      "Epoch 27/100\n",
      "24/24 [==============================] - 23s 973ms/step - loss: 0.0207 - sparse_categorical_accuracy: 0.9961 - val_loss: 0.0159 - val_sparse_categorical_accuracy: 0.9955\n",
      "Epoch 28/100\n",
      "24/24 [==============================] - 23s 972ms/step - loss: 0.0549 - sparse_categorical_accuracy: 0.9870 - val_loss: 0.0205 - val_sparse_categorical_accuracy: 0.9955\n",
      "Epoch 29/100\n",
      "24/24 [==============================] - 23s 975ms/step - loss: 0.0429 - sparse_categorical_accuracy: 0.9870 - val_loss: 0.0141 - val_sparse_categorical_accuracy: 0.9955\n",
      "Epoch 30/100\n",
      "24/24 [==============================] - 23s 973ms/step - loss: 0.0144 - sparse_categorical_accuracy: 0.9987 - val_loss: 0.0139 - val_sparse_categorical_accuracy: 0.9955\n",
      "Epoch 31/100\n",
      "24/24 [==============================] - 23s 972ms/step - loss: 0.0143 - sparse_categorical_accuracy: 0.9987 - val_loss: 0.0098 - val_sparse_categorical_accuracy: 1.0000\n",
      "Epoch 32/100\n",
      "24/24 [==============================] - 23s 975ms/step - loss: 0.0183 - sparse_categorical_accuracy: 0.9974 - val_loss: 0.0217 - val_sparse_categorical_accuracy: 0.9955\n",
      "Epoch 33/100\n",
      "24/24 [==============================] - 23s 974ms/step - loss: 0.0111 - sparse_categorical_accuracy: 0.9974 - val_loss: 0.0096 - val_sparse_categorical_accuracy: 0.9955\n",
      "Epoch 34/100\n",
      "24/24 [==============================] - 23s 974ms/step - loss: 0.0105 - sparse_categorical_accuracy: 1.0000 - val_loss: 0.0074 - val_sparse_categorical_accuracy: 1.0000\n",
      "Epoch 35/100\n",
      "24/24 [==============================] - 23s 974ms/step - loss: 0.0197 - sparse_categorical_accuracy: 0.9935 - val_loss: 0.0163 - val_sparse_categorical_accuracy: 0.9955\n",
      "Epoch 36/100\n",
      "24/24 [==============================] - 23s 973ms/step - loss: 0.0163 - sparse_categorical_accuracy: 0.9987 - val_loss: 0.0086 - val_sparse_categorical_accuracy: 1.0000\n",
      "Epoch 37/100\n",
      "24/24 [==============================] - 23s 979ms/step - loss: 0.0115 - sparse_categorical_accuracy: 0.9961 - val_loss: 0.0069 - val_sparse_categorical_accuracy: 1.0000\n",
      "Epoch 38/100\n",
      "24/24 [==============================] - 23s 986ms/step - loss: 0.0130 - sparse_categorical_accuracy: 0.9961 - val_loss: 0.0056 - val_sparse_categorical_accuracy: 1.0000\n",
      "Epoch 39/100\n",
      "24/24 [==============================] - 23s 980ms/step - loss: 0.0089 - sparse_categorical_accuracy: 0.9987 - val_loss: 0.0069 - val_sparse_categorical_accuracy: 1.0000\n",
      "Epoch 40/100\n",
      "24/24 [==============================] - 23s 979ms/step - loss: 0.0100 - sparse_categorical_accuracy: 0.9987 - val_loss: 0.0068 - val_sparse_categorical_accuracy: 1.0000\n",
      "Epoch 41/100\n",
      "24/24 [==============================] - 23s 978ms/step - loss: 0.0099 - sparse_categorical_accuracy: 0.9987 - val_loss: 0.0083 - val_sparse_categorical_accuracy: 0.9955\n",
      "Epoch 42/100\n",
      "24/24 [==============================] - 23s 980ms/step - loss: 0.0099 - sparse_categorical_accuracy: 0.9974 - val_loss: 0.0098 - val_sparse_categorical_accuracy: 1.0000\n",
      "Epoch 43/100\n",
      "24/24 [==============================] - 23s 978ms/step - loss: 0.0126 - sparse_categorical_accuracy: 0.9961 - val_loss: 0.0189 - val_sparse_categorical_accuracy: 0.9955\n",
      "Epoch 44/100\n",
      "24/24 [==============================] - 23s 979ms/step - loss: 0.0100 - sparse_categorical_accuracy: 1.0000 - val_loss: 0.0069 - val_sparse_categorical_accuracy: 1.0000\n",
      "Epoch 45/100\n",
      "24/24 [==============================] - 23s 979ms/step - loss: 0.0150 - sparse_categorical_accuracy: 0.9948 - val_loss: 0.0079 - val_sparse_categorical_accuracy: 0.9955\n",
      "Epoch 46/100\n",
      "24/24 [==============================] - 23s 978ms/step - loss: 0.0079 - sparse_categorical_accuracy: 0.9987 - val_loss: 0.0172 - val_sparse_categorical_accuracy: 1.0000\n",
      "Epoch 47/100\n",
      "24/24 [==============================] - 23s 985ms/step - loss: 0.0075 - sparse_categorical_accuracy: 0.9987 - val_loss: 0.0035 - val_sparse_categorical_accuracy: 1.0000\n",
      "Epoch 48/100\n",
      "24/24 [==============================] - 23s 981ms/step - loss: 0.0075 - sparse_categorical_accuracy: 0.9987 - val_loss: 0.0079 - val_sparse_categorical_accuracy: 1.0000\n",
      "Epoch 49/100\n",
      "24/24 [==============================] - 23s 979ms/step - loss: 0.0110 - sparse_categorical_accuracy: 0.9974 - val_loss: 0.0043 - val_sparse_categorical_accuracy: 1.0000\n",
      "Epoch 50/100\n",
      "24/24 [==============================] - 23s 980ms/step - loss: 0.0108 - sparse_categorical_accuracy: 1.0000 - val_loss: 0.0079 - val_sparse_categorical_accuracy: 0.9955\n",
      "Epoch 51/100\n",
      "24/24 [==============================] - 23s 978ms/step - loss: 0.0088 - sparse_categorical_accuracy: 0.9987 - val_loss: 0.0050 - val_sparse_categorical_accuracy: 1.0000\n",
      "Epoch 52/100\n",
      "24/24 [==============================] - 23s 979ms/step - loss: 0.0067 - sparse_categorical_accuracy: 1.0000 - val_loss: 0.0098 - val_sparse_categorical_accuracy: 0.9955\n",
      "Epoch 53/100\n",
      "24/24 [==============================] - 23s 978ms/step - loss: 0.0039 - sparse_categorical_accuracy: 1.0000 - val_loss: 0.0049 - val_sparse_categorical_accuracy: 1.0000\n",
      "Epoch 54/100\n",
      "24/24 [==============================] - 23s 980ms/step - loss: 0.0125 - sparse_categorical_accuracy: 0.9987 - val_loss: 0.0098 - val_sparse_categorical_accuracy: 1.0000\n",
      "Epoch 55/100\n",
      "24/24 [==============================] - 23s 980ms/step - loss: 0.0120 - sparse_categorical_accuracy: 0.9974 - val_loss: 0.0156 - val_sparse_categorical_accuracy: 0.9955\n",
      "Epoch 56/100\n",
      "24/24 [==============================] - 23s 980ms/step - loss: 0.0079 - sparse_categorical_accuracy: 1.0000 - val_loss: 0.0031 - val_sparse_categorical_accuracy: 1.0000\n",
      "Epoch 57/100\n",
      "24/24 [==============================] - 23s 979ms/step - loss: 0.0064 - sparse_categorical_accuracy: 0.9974 - val_loss: 0.0036 - val_sparse_categorical_accuracy: 1.0000\n",
      "Epoch 58/100\n",
      "24/24 [==============================] - 23s 980ms/step - loss: 0.0109 - sparse_categorical_accuracy: 0.9948 - val_loss: 0.0051 - val_sparse_categorical_accuracy: 1.0000\n",
      "Epoch 59/100\n",
      "24/24 [==============================] - 23s 979ms/step - loss: 0.0166 - sparse_categorical_accuracy: 0.9948 - val_loss: 0.0142 - val_sparse_categorical_accuracy: 0.9955\n",
      "Epoch 60/100\n",
      "24/24 [==============================] - 23s 979ms/step - loss: 0.0131 - sparse_categorical_accuracy: 0.9961 - val_loss: 0.0040 - val_sparse_categorical_accuracy: 1.0000\n",
      "Epoch 61/100\n",
      "24/24 [==============================] - 23s 979ms/step - loss: 0.0168 - sparse_categorical_accuracy: 0.9974 - val_loss: 0.0194 - val_sparse_categorical_accuracy: 0.9955\n",
      "Epoch 62/100\n",
      "24/24 [==============================] - 23s 980ms/step - loss: 0.0116 - sparse_categorical_accuracy: 0.9961 - val_loss: 0.0032 - val_sparse_categorical_accuracy: 1.0000\n",
      "Epoch 63/100\n",
      "24/24 [==============================] - 23s 980ms/step - loss: 0.0042 - sparse_categorical_accuracy: 0.9987 - val_loss: 0.0015 - val_sparse_categorical_accuracy: 1.0000\n",
      "Epoch 64/100\n",
      "24/24 [==============================] - 23s 977ms/step - loss: 0.0055 - sparse_categorical_accuracy: 1.0000 - val_loss: 0.0056 - val_sparse_categorical_accuracy: 1.0000\n",
      "Epoch 65/100\n",
      "24/24 [==============================] - 23s 973ms/step - loss: 0.0060 - sparse_categorical_accuracy: 0.9987 - val_loss: 0.0010 - val_sparse_categorical_accuracy: 1.0000\n",
      "Epoch 66/100\n",
      "24/24 [==============================] - 23s 974ms/step - loss: 0.0094 - sparse_categorical_accuracy: 0.9961 - val_loss: 0.0093 - val_sparse_categorical_accuracy: 1.0000\n",
      "Epoch 67/100\n",
      "24/24 [==============================] - 23s 975ms/step - loss: 0.0166 - sparse_categorical_accuracy: 0.9961 - val_loss: 0.0089 - val_sparse_categorical_accuracy: 0.9955\n",
      "Epoch 68/100\n",
      "24/24 [==============================] - 23s 977ms/step - loss: 0.0032 - sparse_categorical_accuracy: 1.0000 - val_loss: 0.0020 - val_sparse_categorical_accuracy: 1.0000\n",
      "Epoch 69/100\n",
      "24/24 [==============================] - 23s 976ms/step - loss: 0.0020 - sparse_categorical_accuracy: 1.0000 - val_loss: 0.0024 - val_sparse_categorical_accuracy: 1.0000\n",
      "Epoch 70/100\n",
      "24/24 [==============================] - 23s 975ms/step - loss: 0.0022 - sparse_categorical_accuracy: 1.0000 - val_loss: 0.0021 - val_sparse_categorical_accuracy: 1.0000\n",
      "Epoch 71/100\n",
      "24/24 [==============================] - 23s 974ms/step - loss: 0.0040 - sparse_categorical_accuracy: 0.9974 - val_loss: 0.0013 - val_sparse_categorical_accuracy: 1.0000\n",
      "Epoch 72/100\n",
      "24/24 [==============================] - 23s 976ms/step - loss: 0.0058 - sparse_categorical_accuracy: 0.9987 - val_loss: 0.0213 - val_sparse_categorical_accuracy: 1.0000\n",
      "Epoch 73/100\n",
      "24/24 [==============================] - 23s 976ms/step - loss: 0.0215 - sparse_categorical_accuracy: 0.9935 - val_loss: 0.0040 - val_sparse_categorical_accuracy: 1.0000\n",
      "Epoch 74/100\n",
      "24/24 [==============================] - 23s 976ms/step - loss: 0.0262 - sparse_categorical_accuracy: 0.9935 - val_loss: 0.0053 - val_sparse_categorical_accuracy: 1.0000\n",
      "Epoch 75/100\n",
      "24/24 [==============================] - 23s 974ms/step - loss: 0.0089 - sparse_categorical_accuracy: 0.9974 - val_loss: 0.0060 - val_sparse_categorical_accuracy: 1.0000\n",
      "Epoch 76/100\n",
      "24/24 [==============================] - 23s 975ms/step - loss: 0.0023 - sparse_categorical_accuracy: 1.0000 - val_loss: 0.0019 - val_sparse_categorical_accuracy: 1.0000\n",
      "Epoch 77/100\n",
      "24/24 [==============================] - 23s 975ms/step - loss: 0.0014 - sparse_categorical_accuracy: 1.0000 - val_loss: 0.0025 - val_sparse_categorical_accuracy: 1.0000\n",
      "Epoch 78/100\n",
      "24/24 [==============================] - 23s 973ms/step - loss: 0.0016 - sparse_categorical_accuracy: 1.0000 - val_loss: 0.0013 - val_sparse_categorical_accuracy: 1.0000\n",
      "Epoch 79/100\n",
      "24/24 [==============================] - 23s 975ms/step - loss: 0.0014 - sparse_categorical_accuracy: 1.0000 - val_loss: 0.0020 - val_sparse_categorical_accuracy: 1.0000\n",
      "Epoch 80/100\n",
      "24/24 [==============================] - 23s 974ms/step - loss: 0.0020 - sparse_categorical_accuracy: 1.0000 - val_loss: 0.0049 - val_sparse_categorical_accuracy: 0.9955\n",
      "Epoch 81/100\n",
      "24/24 [==============================] - 23s 974ms/step - loss: 0.0075 - sparse_categorical_accuracy: 0.9987 - val_loss: 0.0013 - val_sparse_categorical_accuracy: 1.0000\n",
      "Epoch 82/100\n",
      "24/24 [==============================] - 23s 974ms/step - loss: 0.0400 - sparse_categorical_accuracy: 0.9844 - val_loss: 0.0025 - val_sparse_categorical_accuracy: 1.0000\n",
      "Epoch 83/100\n",
      "24/24 [==============================] - 23s 973ms/step - loss: 0.0083 - sparse_categorical_accuracy: 0.9974 - val_loss: 0.0035 - val_sparse_categorical_accuracy: 1.0000\n",
      "Epoch 84/100\n",
      "24/24 [==============================] - 23s 976ms/step - loss: 0.0033 - sparse_categorical_accuracy: 1.0000 - val_loss: 0.0019 - val_sparse_categorical_accuracy: 1.0000\n",
      "Epoch 85/100\n",
      "24/24 [==============================] - 23s 976ms/step - loss: 0.0013 - sparse_categorical_accuracy: 1.0000 - val_loss: 0.0011 - val_sparse_categorical_accuracy: 1.0000\n",
      "Epoch 86/100\n",
      "24/24 [==============================] - 23s 978ms/step - loss: 0.0015 - sparse_categorical_accuracy: 1.0000 - val_loss: 0.0011 - val_sparse_categorical_accuracy: 1.0000\n",
      "Epoch 87/100\n",
      "24/24 [==============================] - 23s 974ms/step - loss: 0.0012 - sparse_categorical_accuracy: 1.0000 - val_loss: 7.7998e-04 - val_sparse_categorical_accuracy: 1.0000\n",
      "Epoch 88/100\n",
      "24/24 [==============================] - 23s 975ms/step - loss: 0.0011 - sparse_categorical_accuracy: 1.0000 - val_loss: 8.1614e-04 - val_sparse_categorical_accuracy: 1.0000\n",
      "Epoch 89/100\n",
      "24/24 [==============================] - 23s 974ms/step - loss: 9.6752e-04 - sparse_categorical_accuracy: 1.0000 - val_loss: 5.8375e-04 - val_sparse_categorical_accuracy: 1.0000\n",
      "Epoch 90/100\n",
      "24/24 [==============================] - 23s 974ms/step - loss: 0.0015 - sparse_categorical_accuracy: 1.0000 - val_loss: 0.0011 - val_sparse_categorical_accuracy: 1.0000\n",
      "Epoch 91/100\n",
      "24/24 [==============================] - 23s 974ms/step - loss: 9.7916e-04 - sparse_categorical_accuracy: 1.0000 - val_loss: 6.1461e-04 - val_sparse_categorical_accuracy: 1.0000\n",
      "Epoch 92/100\n",
      "24/24 [==============================] - 23s 974ms/step - loss: 0.0015 - sparse_categorical_accuracy: 1.0000 - val_loss: 7.3676e-04 - val_sparse_categorical_accuracy: 1.0000\n",
      "Epoch 93/100\n",
      "24/24 [==============================] - 23s 974ms/step - loss: 0.0011 - sparse_categorical_accuracy: 1.0000 - val_loss: 0.0016 - val_sparse_categorical_accuracy: 1.0000\n",
      "Epoch 94/100\n",
      "24/24 [==============================] - 23s 975ms/step - loss: 0.0013 - sparse_categorical_accuracy: 1.0000 - val_loss: 3.4230e-04 - val_sparse_categorical_accuracy: 1.0000\n",
      "Epoch 95/100\n",
      "24/24 [==============================] - 23s 974ms/step - loss: 0.0022 - sparse_categorical_accuracy: 1.0000 - val_loss: 0.0036 - val_sparse_categorical_accuracy: 1.0000\n",
      "Epoch 96/100\n",
      "24/24 [==============================] - 23s 975ms/step - loss: 0.0052 - sparse_categorical_accuracy: 0.9987 - val_loss: 5.9663e-04 - val_sparse_categorical_accuracy: 1.0000\n",
      "Epoch 97/100\n",
      "24/24 [==============================] - 23s 975ms/step - loss: 9.2000e-04 - sparse_categorical_accuracy: 1.0000 - val_loss: 3.9239e-04 - val_sparse_categorical_accuracy: 1.0000\n",
      "Epoch 98/100\n",
      "24/24 [==============================] - 23s 975ms/step - loss: 8.1406e-04 - sparse_categorical_accuracy: 1.0000 - val_loss: 3.4994e-04 - val_sparse_categorical_accuracy: 1.0000\n",
      "Epoch 99/100\n",
      "24/24 [==============================] - 23s 975ms/step - loss: 6.8998e-04 - sparse_categorical_accuracy: 1.0000 - val_loss: 4.5603e-04 - val_sparse_categorical_accuracy: 1.0000\n",
      "Epoch 100/100\n",
      "24/24 [==============================] - 23s 977ms/step - loss: 8.1399e-04 - sparse_categorical_accuracy: 1.0000 - val_loss: 2.9885e-04 - val_sparse_categorical_accuracy: 1.0000\n"
     ]
    }
   ],
   "source": [
    "base_model = DenseNet121(weights=\"imagenet\", include_top=False, input_shape=input_shape)\n",
    "\n",
    "for layer in base_model.layers:\n",
    "    layer.trainable = False\n",
    "    \n",
    "DenseNet121 = Sequential()\n",
    "DenseNet121.add(base_model)\n",
    "DenseNet121.add(Flatten())\n",
    "DenseNet121.add(Dense(128, activation='relu'))\n",
    "DenseNet121.add(Dense(3, activation='softmax'))\n",
    "\n",
    "DenseNet121.compile(\n",
    "    optimizer=\"adam\",\n",
    "    loss=\"sparse_categorical_crossentropy\",\n",
    "    metrics=[\"sparse_categorical_accuracy\"],\n",
    ")\n",
    "\n",
    "DN_history = DenseNet121.fit(train, epochs = 100, validation_data = val, callbacks = [tensorboard_callback])"
   ]
  },
  {
   "cell_type": "code",
   "execution_count": 111,
   "id": "85cf3c62-88a5-4b49-bdb6-05875537c898",
   "metadata": {},
   "outputs": [],
   "source": [
    "DN_Metrics = {\"Accuracy\":0, \"Loss\":0 , \"Recall\":0, \"Precision\":0, \"F1\":0}"
   ]
  },
  {
   "cell_type": "code",
   "execution_count": 112,
   "id": "4277c065-f076-4bf2-908f-1f6e7532a402",
   "metadata": {},
   "outputs": [
    {
     "name": "stdout",
     "output_type": "stream",
     "text": [
      "3/3 [==============================] - 2s 738ms/step - loss: 4.8635e-04 - sparse_categorical_accuracy: 1.0000\n"
     ]
    }
   ],
   "source": [
    "loss, accuracy = DenseNet121.evaluate(test) "
   ]
  },
  {
   "cell_type": "code",
   "execution_count": 113,
   "id": "a6e62a4e-3175-44ad-b8c9-59f0998d0a86",
   "metadata": {},
   "outputs": [
    {
     "name": "stdout",
     "output_type": "stream",
     "text": [
      "1/1 [==============================] - 1s 1s/step\n",
      "1/1 [==============================] - 1s 732ms/step\n",
      "1/1 [==============================] - 1s 734ms/step\n",
      "96\n"
     ]
    }
   ],
   "source": [
    "labels = []\n",
    "y_pred = []\n",
    "for batch in test.as_numpy_iterator():\n",
    "    X,y = batch\n",
    "    labels.append(y)\n",
    "    y_predictions = tf.argmax(DenseNet121.predict(X), axis=1)\n",
    "    for pred in y_predictions: \n",
    "        y_pred.append(pred)\n",
    "y_true = []\n",
    "for label in labels:\n",
    "    for i in label:\n",
    "        y_true.append(i)\n",
    "\n",
    "print(len(y_true))"
   ]
  },
  {
   "cell_type": "code",
   "execution_count": 114,
   "id": "08f93c23-8697-449c-ab77-6b08c5f818dd",
   "metadata": {},
   "outputs": [],
   "source": [
    "precision = precision_score(y_true, y_pred, average='weighted')\n",
    "recall = recall_score(y_true, y_pred, average = \"weighted\")\n",
    "f1 = f1_score(y_true, y_pred, average='weighted')"
   ]
  },
  {
   "cell_type": "code",
   "execution_count": 115,
   "id": "695d7b49-4594-4f0f-ba69-f8f052e3c185",
   "metadata": {},
   "outputs": [],
   "source": [
    "DN_Metrics[\"Accuracy\"] = accuracy\n",
    "DN_Metrics[\"Loss\"] = loss\n",
    "DN_Metrics[\"Precision\"] = precision\n",
    "DN_Metrics[\"Recall\"] = recall\n",
    "DN_Metrics[\"F1\"] = f1"
   ]
  },
  {
   "cell_type": "code",
   "execution_count": 116,
   "id": "033ee953-4ff8-455c-8610-3d5af61156ca",
   "metadata": {},
   "outputs": [
    {
     "name": "stdout",
     "output_type": "stream",
     "text": [
      "{'Accuracy': 1.0, 'Loss': 0.00048634500126354396, 'Recall': 1.0, 'Precision': 1.0, 'F1': 1.0}\n"
     ]
    }
   ],
   "source": [
    "print(DN_Metrics)"
   ]
  },
  {
   "cell_type": "markdown",
   "id": "3f647f4d-ca50-401d-a198-2952dfde62e7",
   "metadata": {},
   "source": [
    "### ResNet50 Results."
   ]
  },
  {
   "cell_type": "code",
   "execution_count": 117,
   "id": "c3d37b04-e1ff-44c0-bf68-f9475ce9045a",
   "metadata": {},
   "outputs": [
    {
     "name": "stdout",
     "output_type": "stream",
     "text": [
      "Downloading data from https://storage.googleapis.com/tensorflow/keras-applications/resnet/resnet50_weights_tf_dim_ordering_tf_kernels_notop.h5\n",
      "94765736/94765736 [==============================] - 13s 0us/step\n",
      "Epoch 1/100\n",
      "24/24 [==============================] - 26s 1s/step - loss: 22.1625 - sparse_categorical_accuracy: 0.7474 - val_loss: 1.3704 - val_sparse_categorical_accuracy: 0.7768\n",
      "Epoch 2/100\n",
      "24/24 [==============================] - 24s 1s/step - loss: 1.3471 - sparse_categorical_accuracy: 0.9102 - val_loss: 0.1105 - val_sparse_categorical_accuracy: 0.9821\n",
      "Epoch 3/100\n",
      "24/24 [==============================] - 24s 1s/step - loss: 0.3360 - sparse_categorical_accuracy: 0.9648 - val_loss: 0.0313 - val_sparse_categorical_accuracy: 0.9955\n",
      "Epoch 4/100\n",
      "24/24 [==============================] - 24s 1s/step - loss: 0.0507 - sparse_categorical_accuracy: 0.9922 - val_loss: 0.0041 - val_sparse_categorical_accuracy: 0.9955\n",
      "Epoch 5/100\n",
      "24/24 [==============================] - 25s 1s/step - loss: 0.0046 - sparse_categorical_accuracy: 0.9987 - val_loss: 7.7936e-04 - val_sparse_categorical_accuracy: 1.0000\n",
      "Epoch 6/100\n",
      "24/24 [==============================] - 26s 1s/step - loss: 0.0262 - sparse_categorical_accuracy: 0.9948 - val_loss: 0.0089 - val_sparse_categorical_accuracy: 0.9955\n",
      "Epoch 7/100\n",
      "24/24 [==============================] - 26s 1s/step - loss: 0.0388 - sparse_categorical_accuracy: 0.9896 - val_loss: 6.1762e-04 - val_sparse_categorical_accuracy: 1.0000\n",
      "Epoch 8/100\n",
      "24/24 [==============================] - 27s 1s/step - loss: 0.0613 - sparse_categorical_accuracy: 0.9935 - val_loss: 4.6321e-04 - val_sparse_categorical_accuracy: 1.0000\n",
      "Epoch 9/100\n",
      "24/24 [==============================] - 26s 1s/step - loss: 0.1415 - sparse_categorical_accuracy: 0.9870 - val_loss: 0.0172 - val_sparse_categorical_accuracy: 0.9911\n",
      "Epoch 10/100\n",
      "24/24 [==============================] - 26s 1s/step - loss: 0.0598 - sparse_categorical_accuracy: 0.9948 - val_loss: 0.0368 - val_sparse_categorical_accuracy: 0.9955\n",
      "Epoch 11/100\n",
      "24/24 [==============================] - 26s 1s/step - loss: 0.0262 - sparse_categorical_accuracy: 0.9974 - val_loss: 0.0023 - val_sparse_categorical_accuracy: 1.0000\n",
      "Epoch 12/100\n",
      "24/24 [==============================] - 26s 1s/step - loss: 0.0300 - sparse_categorical_accuracy: 0.9948 - val_loss: 0.1523 - val_sparse_categorical_accuracy: 0.9821\n",
      "Epoch 13/100\n",
      "24/24 [==============================] - 26s 1s/step - loss: 0.0381 - sparse_categorical_accuracy: 0.9961 - val_loss: 0.0101 - val_sparse_categorical_accuracy: 0.9955\n",
      "Epoch 14/100\n",
      "24/24 [==============================] - 26s 1s/step - loss: 0.0177 - sparse_categorical_accuracy: 0.9961 - val_loss: 0.0056 - val_sparse_categorical_accuracy: 0.9955\n",
      "Epoch 15/100\n",
      "24/24 [==============================] - 26s 1s/step - loss: 0.0277 - sparse_categorical_accuracy: 0.9961 - val_loss: 2.2017e-04 - val_sparse_categorical_accuracy: 1.0000\n",
      "Epoch 16/100\n",
      "24/24 [==============================] - 27s 1s/step - loss: 1.4732e-04 - sparse_categorical_accuracy: 1.0000 - val_loss: 6.6041e-05 - val_sparse_categorical_accuracy: 1.0000\n",
      "Epoch 17/100\n",
      "24/24 [==============================] - 27s 1s/step - loss: 1.1868e-04 - sparse_categorical_accuracy: 1.0000 - val_loss: 4.6571e-05 - val_sparse_categorical_accuracy: 1.0000\n",
      "Epoch 18/100\n",
      "24/24 [==============================] - 26s 1s/step - loss: 7.6416e-04 - sparse_categorical_accuracy: 1.0000 - val_loss: 1.8292e-04 - val_sparse_categorical_accuracy: 1.0000\n",
      "Epoch 19/100\n",
      "24/24 [==============================] - 27s 1s/step - loss: 0.0140 - sparse_categorical_accuracy: 0.9961 - val_loss: 5.5217e-05 - val_sparse_categorical_accuracy: 1.0000\n",
      "Epoch 20/100\n",
      "24/24 [==============================] - 27s 1s/step - loss: 0.0418 - sparse_categorical_accuracy: 0.9909 - val_loss: 0.0202 - val_sparse_categorical_accuracy: 0.9911\n",
      "Epoch 21/100\n",
      "24/24 [==============================] - 27s 1s/step - loss: 0.0249 - sparse_categorical_accuracy: 0.9961 - val_loss: 0.0180 - val_sparse_categorical_accuracy: 0.9955\n",
      "Epoch 22/100\n",
      "24/24 [==============================] - 27s 1s/step - loss: 0.0370 - sparse_categorical_accuracy: 0.9896 - val_loss: 0.0125 - val_sparse_categorical_accuracy: 0.9955\n",
      "Epoch 23/100\n",
      "24/24 [==============================] - 27s 1s/step - loss: 0.0340 - sparse_categorical_accuracy: 0.9935 - val_loss: 0.6105 - val_sparse_categorical_accuracy: 0.9509\n",
      "Epoch 24/100\n",
      "24/24 [==============================] - 26s 1s/step - loss: 0.2574 - sparse_categorical_accuracy: 0.9805 - val_loss: 0.0705 - val_sparse_categorical_accuracy: 0.9955\n",
      "Epoch 25/100\n",
      "24/24 [==============================] - 26s 1s/step - loss: 0.1630 - sparse_categorical_accuracy: 0.9883 - val_loss: 0.1094 - val_sparse_categorical_accuracy: 0.9866\n",
      "Epoch 26/100\n",
      "24/24 [==============================] - 26s 1s/step - loss: 0.0474 - sparse_categorical_accuracy: 0.9948 - val_loss: 0.0937 - val_sparse_categorical_accuracy: 0.9911\n",
      "Epoch 27/100\n",
      "24/24 [==============================] - 26s 1s/step - loss: 0.1158 - sparse_categorical_accuracy: 0.9948 - val_loss: 0.0894 - val_sparse_categorical_accuracy: 0.9911\n",
      "Epoch 28/100\n",
      "24/24 [==============================] - 26s 1s/step - loss: 7.6888e-05 - sparse_categorical_accuracy: 1.0000 - val_loss: 9.4685e-04 - val_sparse_categorical_accuracy: 1.0000\n",
      "Epoch 29/100\n",
      "24/24 [==============================] - 27s 1s/step - loss: 9.1986e-04 - sparse_categorical_accuracy: 0.9987 - val_loss: 1.1484e-06 - val_sparse_categorical_accuracy: 1.0000\n",
      "Epoch 30/100\n",
      "24/24 [==============================] - 27s 1s/step - loss: 1.1734e-05 - sparse_categorical_accuracy: 1.0000 - val_loss: 5.3939e-06 - val_sparse_categorical_accuracy: 1.0000\n",
      "Epoch 31/100\n",
      "24/24 [==============================] - 27s 1s/step - loss: 1.0877e-05 - sparse_categorical_accuracy: 1.0000 - val_loss: 3.9907e-06 - val_sparse_categorical_accuracy: 1.0000\n",
      "Epoch 32/100\n",
      "24/24 [==============================] - 27s 1s/step - loss: 1.4765e-05 - sparse_categorical_accuracy: 1.0000 - val_loss: 7.3494e-07 - val_sparse_categorical_accuracy: 1.0000\n",
      "Epoch 33/100\n",
      "24/24 [==============================] - 27s 1s/step - loss: 1.3640e-05 - sparse_categorical_accuracy: 1.0000 - val_loss: 9.2437e-06 - val_sparse_categorical_accuracy: 1.0000\n",
      "Epoch 34/100\n",
      "24/24 [==============================] - 27s 1s/step - loss: 7.5323e-05 - sparse_categorical_accuracy: 1.0000 - val_loss: 1.4799e-06 - val_sparse_categorical_accuracy: 1.0000\n",
      "Epoch 35/100\n",
      "24/24 [==============================] - 27s 1s/step - loss: 8.7792e-06 - sparse_categorical_accuracy: 1.0000 - val_loss: 2.5775e-06 - val_sparse_categorical_accuracy: 1.0000\n",
      "Epoch 36/100\n",
      "24/24 [==============================] - 27s 1s/step - loss: 9.0885e-06 - sparse_categorical_accuracy: 1.0000 - val_loss: 7.3387e-07 - val_sparse_categorical_accuracy: 1.0000\n",
      "Epoch 37/100\n",
      "24/24 [==============================] - 27s 1s/step - loss: 7.3546e-06 - sparse_categorical_accuracy: 1.0000 - val_loss: 2.4217e-06 - val_sparse_categorical_accuracy: 1.0000\n",
      "Epoch 38/100\n",
      "24/24 [==============================] - 27s 1s/step - loss: 3.3968e-06 - sparse_categorical_accuracy: 1.0000 - val_loss: 1.4651e-06 - val_sparse_categorical_accuracy: 1.0000\n",
      "Epoch 39/100\n",
      "24/24 [==============================] - 27s 1s/step - loss: 1.8085e-06 - sparse_categorical_accuracy: 1.0000 - val_loss: 5.9603e-07 - val_sparse_categorical_accuracy: 1.0000\n",
      "Epoch 40/100\n",
      "24/24 [==============================] - 27s 1s/step - loss: 1.1697e-05 - sparse_categorical_accuracy: 1.0000 - val_loss: 7.9773e-07 - val_sparse_categorical_accuracy: 1.0000\n",
      "Epoch 41/100\n",
      "24/24 [==============================] - 29s 1s/step - loss: 6.9634e-06 - sparse_categorical_accuracy: 1.0000 - val_loss: 5.5347e-07 - val_sparse_categorical_accuracy: 1.0000\n",
      "Epoch 42/100\n",
      "24/24 [==============================] - 29s 1s/step - loss: 3.3144e-06 - sparse_categorical_accuracy: 1.0000 - val_loss: 6.9076e-07 - val_sparse_categorical_accuracy: 1.0000\n",
      "Epoch 43/100\n",
      "24/24 [==============================] - 28s 1s/step - loss: 3.2714e-06 - sparse_categorical_accuracy: 1.0000 - val_loss: 6.1509e-06 - val_sparse_categorical_accuracy: 1.0000\n",
      "Epoch 44/100\n",
      "24/24 [==============================] - 27s 1s/step - loss: 1.0140e-05 - sparse_categorical_accuracy: 1.0000 - val_loss: 1.1575e-06 - val_sparse_categorical_accuracy: 1.0000\n",
      "Epoch 45/100\n",
      "24/24 [==============================] - 26s 1s/step - loss: 3.1364e-06 - sparse_categorical_accuracy: 1.0000 - val_loss: 6.9874e-07 - val_sparse_categorical_accuracy: 1.0000\n",
      "Epoch 46/100\n",
      "24/24 [==============================] - 27s 1s/step - loss: 3.2649e-06 - sparse_categorical_accuracy: 1.0000 - val_loss: 6.3043e-06 - val_sparse_categorical_accuracy: 1.0000\n",
      "Epoch 47/100\n",
      "24/24 [==============================] - 27s 1s/step - loss: 5.6623e-06 - sparse_categorical_accuracy: 1.0000 - val_loss: 8.9458e-07 - val_sparse_categorical_accuracy: 1.0000\n",
      "Epoch 48/100\n",
      "24/24 [==============================] - 28s 1s/step - loss: 6.2873e-06 - sparse_categorical_accuracy: 1.0000 - val_loss: 2.2142e-06 - val_sparse_categorical_accuracy: 1.0000\n",
      "Epoch 49/100\n",
      "24/24 [==============================] - 28s 1s/step - loss: 5.2593e-06 - sparse_categorical_accuracy: 1.0000 - val_loss: 7.5942e-07 - val_sparse_categorical_accuracy: 1.0000\n",
      "Epoch 50/100\n",
      "24/24 [==============================] - 27s 1s/step - loss: 2.7997e-06 - sparse_categorical_accuracy: 1.0000 - val_loss: 6.6521e-07 - val_sparse_categorical_accuracy: 1.0000\n",
      "Epoch 51/100\n",
      "24/24 [==============================] - 26s 1s/step - loss: 5.9631e-06 - sparse_categorical_accuracy: 1.0000 - val_loss: 1.8556e-06 - val_sparse_categorical_accuracy: 1.0000\n",
      "Epoch 52/100\n",
      "24/24 [==============================] - 26s 1s/step - loss: 2.4795e-06 - sparse_categorical_accuracy: 1.0000 - val_loss: 1.0351e-06 - val_sparse_categorical_accuracy: 1.0000\n",
      "Epoch 53/100\n",
      "24/24 [==============================] - 26s 1s/step - loss: 3.8357e-06 - sparse_categorical_accuracy: 1.0000 - val_loss: 6.0402e-07 - val_sparse_categorical_accuracy: 1.0000\n",
      "Epoch 54/100\n",
      "24/24 [==============================] - 26s 1s/step - loss: 5.9316e-06 - sparse_categorical_accuracy: 1.0000 - val_loss: 1.1160e-06 - val_sparse_categorical_accuracy: 1.0000\n",
      "Epoch 55/100\n",
      "24/24 [==============================] - 26s 1s/step - loss: 5.1217e-06 - sparse_categorical_accuracy: 1.0000 - val_loss: 6.3276e-07 - val_sparse_categorical_accuracy: 1.0000\n",
      "Epoch 56/100\n",
      "24/24 [==============================] - 26s 1s/step - loss: 6.9665e-06 - sparse_categorical_accuracy: 1.0000 - val_loss: 8.0997e-07 - val_sparse_categorical_accuracy: 1.0000\n",
      "Epoch 57/100\n",
      "24/24 [==============================] - 26s 1s/step - loss: 2.6708e-06 - sparse_categorical_accuracy: 1.0000 - val_loss: 6.0615e-07 - val_sparse_categorical_accuracy: 1.0000\n",
      "Epoch 58/100\n",
      "24/24 [==============================] - 26s 1s/step - loss: 2.5284e-06 - sparse_categorical_accuracy: 1.0000 - val_loss: 5.9522e-06 - val_sparse_categorical_accuracy: 1.0000\n",
      "Epoch 59/100\n",
      "24/24 [==============================] - 26s 1s/step - loss: 2.7586e-06 - sparse_categorical_accuracy: 1.0000 - val_loss: 6.9928e-07 - val_sparse_categorical_accuracy: 1.0000\n",
      "Epoch 60/100\n",
      "24/24 [==============================] - 28s 1s/step - loss: 2.5181e-06 - sparse_categorical_accuracy: 1.0000 - val_loss: 4.9105e-06 - val_sparse_categorical_accuracy: 1.0000\n",
      "Epoch 61/100\n",
      "24/24 [==============================] - 28s 1s/step - loss: 2.4172e-06 - sparse_categorical_accuracy: 1.0000 - val_loss: 6.5245e-07 - val_sparse_categorical_accuracy: 1.0000\n",
      "Epoch 62/100\n",
      "24/24 [==============================] - 27s 1s/step - loss: 4.1199e-06 - sparse_categorical_accuracy: 1.0000 - val_loss: 4.8596e-06 - val_sparse_categorical_accuracy: 1.0000\n",
      "Epoch 63/100\n",
      "24/24 [==============================] - 27s 1s/step - loss: 6.9256e-06 - sparse_categorical_accuracy: 1.0000 - val_loss: 3.8370e-07 - val_sparse_categorical_accuracy: 1.0000\n",
      "Epoch 64/100\n",
      "24/24 [==============================] - 26s 1s/step - loss: 2.7571e-06 - sparse_categorical_accuracy: 1.0000 - val_loss: 1.9850e-07 - val_sparse_categorical_accuracy: 1.0000\n",
      "Epoch 65/100\n",
      "24/24 [==============================] - 26s 1s/step - loss: 0.0301 - sparse_categorical_accuracy: 0.9987 - val_loss: 3.4432e-07 - val_sparse_categorical_accuracy: 1.0000\n",
      "Epoch 66/100\n",
      "24/24 [==============================] - 26s 1s/step - loss: 0.1485 - sparse_categorical_accuracy: 0.9844 - val_loss: 0.7871 - val_sparse_categorical_accuracy: 0.9464\n",
      "Epoch 67/100\n",
      "24/24 [==============================] - 27s 1s/step - loss: 0.5857 - sparse_categorical_accuracy: 0.9570 - val_loss: 0.4262 - val_sparse_categorical_accuracy: 0.9911\n",
      "Epoch 68/100\n",
      "24/24 [==============================] - 26s 1s/step - loss: 0.5204 - sparse_categorical_accuracy: 0.9766 - val_loss: 0.0530 - val_sparse_categorical_accuracy: 0.9955\n",
      "Epoch 69/100\n",
      "24/24 [==============================] - 26s 1s/step - loss: 0.1305 - sparse_categorical_accuracy: 0.9909 - val_loss: 0.0636 - val_sparse_categorical_accuracy: 0.9955\n",
      "Epoch 70/100\n",
      "24/24 [==============================] - 27s 1s/step - loss: 0.1833 - sparse_categorical_accuracy: 0.9896 - val_loss: 0.0036 - val_sparse_categorical_accuracy: 1.0000\n",
      "Epoch 71/100\n",
      "24/24 [==============================] - 27s 1s/step - loss: 0.1280 - sparse_categorical_accuracy: 0.9922 - val_loss: 0.2314 - val_sparse_categorical_accuracy: 0.9911\n",
      "Epoch 72/100\n",
      "24/24 [==============================] - 27s 1s/step - loss: 0.1226 - sparse_categorical_accuracy: 0.9935 - val_loss: 0.1202 - val_sparse_categorical_accuracy: 0.9911\n",
      "Epoch 73/100\n",
      "24/24 [==============================] - 28s 1s/step - loss: 0.0505 - sparse_categorical_accuracy: 0.9935 - val_loss: 0.0614 - val_sparse_categorical_accuracy: 0.9866\n",
      "Epoch 74/100\n",
      "24/24 [==============================] - 28s 1s/step - loss: 0.1095 - sparse_categorical_accuracy: 0.9961 - val_loss: 2.1181e-07 - val_sparse_categorical_accuracy: 1.0000\n",
      "Epoch 75/100\n",
      "24/24 [==============================] - 28s 1s/step - loss: 0.0589 - sparse_categorical_accuracy: 0.9948 - val_loss: 0.0388 - val_sparse_categorical_accuracy: 0.9955\n",
      "Epoch 76/100\n",
      "24/24 [==============================] - 27s 1s/step - loss: 0.0402 - sparse_categorical_accuracy: 0.9987 - val_loss: 7.4506e-09 - val_sparse_categorical_accuracy: 1.0000\n",
      "Epoch 77/100\n",
      "24/24 [==============================] - 27s 1s/step - loss: 0.0423 - sparse_categorical_accuracy: 0.9987 - val_loss: 1.2772e-08 - val_sparse_categorical_accuracy: 1.0000\n",
      "Epoch 78/100\n",
      "24/24 [==============================] - 26s 1s/step - loss: 0.0231 - sparse_categorical_accuracy: 0.9961 - val_loss: 7.2105e-07 - val_sparse_categorical_accuracy: 1.0000\n",
      "Epoch 79/100\n",
      "24/24 [==============================] - 26s 1s/step - loss: 0.0364 - sparse_categorical_accuracy: 0.9974 - val_loss: 8.9939e-08 - val_sparse_categorical_accuracy: 1.0000\n",
      "Epoch 80/100\n",
      "24/24 [==============================] - 27s 1s/step - loss: 9.7138e-04 - sparse_categorical_accuracy: 0.9987 - val_loss: 1.4969e-06 - val_sparse_categorical_accuracy: 1.0000\n",
      "Epoch 81/100\n",
      "24/24 [==============================] - 27s 1s/step - loss: 1.2707e-06 - sparse_categorical_accuracy: 1.0000 - val_loss: 0.0640 - val_sparse_categorical_accuracy: 0.9955\n",
      "Epoch 82/100\n",
      "24/24 [==============================] - 27s 1s/step - loss: 0.0207 - sparse_categorical_accuracy: 0.9987 - val_loss: 1.9061e-06 - val_sparse_categorical_accuracy: 1.0000\n",
      "Epoch 83/100\n",
      "24/24 [==============================] - 26s 1s/step - loss: 0.0401 - sparse_categorical_accuracy: 0.9974 - val_loss: 1.1941e-06 - val_sparse_categorical_accuracy: 1.0000\n",
      "Epoch 84/100\n",
      "24/24 [==============================] - 26s 1s/step - loss: 0.1101 - sparse_categorical_accuracy: 0.9948 - val_loss: 0.3582 - val_sparse_categorical_accuracy: 0.9911\n",
      "Epoch 85/100\n",
      "24/24 [==============================] - 27s 1s/step - loss: 0.1883 - sparse_categorical_accuracy: 0.9935 - val_loss: 0.0077 - val_sparse_categorical_accuracy: 0.9955\n",
      "Epoch 86/100\n",
      "24/24 [==============================] - 27s 1s/step - loss: 0.0511 - sparse_categorical_accuracy: 0.9974 - val_loss: 4.3603e-04 - val_sparse_categorical_accuracy: 1.0000\n",
      "Epoch 87/100\n",
      "24/24 [==============================] - 27s 1s/step - loss: 1.8345e-04 - sparse_categorical_accuracy: 1.0000 - val_loss: 1.0465e-04 - val_sparse_categorical_accuracy: 1.0000\n",
      "Epoch 88/100\n",
      "24/24 [==============================] - 27s 1s/step - loss: 3.4698e-05 - sparse_categorical_accuracy: 1.0000 - val_loss: 2.8837e-05 - val_sparse_categorical_accuracy: 1.0000\n",
      "Epoch 89/100\n",
      "24/24 [==============================] - 27s 1s/step - loss: 2.3309e-05 - sparse_categorical_accuracy: 1.0000 - val_loss: 2.1901e-05 - val_sparse_categorical_accuracy: 1.0000\n",
      "Epoch 90/100\n",
      "24/24 [==============================] - 27s 1s/step - loss: 1.0476e-05 - sparse_categorical_accuracy: 1.0000 - val_loss: 1.6585e-05 - val_sparse_categorical_accuracy: 1.0000\n",
      "Epoch 91/100\n",
      "24/24 [==============================] - 27s 1s/step - loss: 1.4899e-05 - sparse_categorical_accuracy: 1.0000 - val_loss: 1.4645e-05 - val_sparse_categorical_accuracy: 1.0000\n",
      "Epoch 92/100\n",
      "24/24 [==============================] - 27s 1s/step - loss: 1.2568e-05 - sparse_categorical_accuracy: 1.0000 - val_loss: 1.3313e-05 - val_sparse_categorical_accuracy: 1.0000\n",
      "Epoch 93/100\n",
      "24/24 [==============================] - 27s 1s/step - loss: 1.2156e-05 - sparse_categorical_accuracy: 1.0000 - val_loss: 6.1092e-06 - val_sparse_categorical_accuracy: 1.0000\n",
      "Epoch 94/100\n",
      "24/24 [==============================] - 27s 1s/step - loss: 1.1517e-05 - sparse_categorical_accuracy: 1.0000 - val_loss: 1.8657e-06 - val_sparse_categorical_accuracy: 1.0000\n",
      "Epoch 95/100\n",
      "24/24 [==============================] - 27s 1s/step - loss: 6.8246e-06 - sparse_categorical_accuracy: 1.0000 - val_loss: 4.2453e-06 - val_sparse_categorical_accuracy: 1.0000\n",
      "Epoch 96/100\n",
      "24/24 [==============================] - 27s 1s/step - loss: 7.7708e-06 - sparse_categorical_accuracy: 1.0000 - val_loss: 6.8868e-06 - val_sparse_categorical_accuracy: 1.0000\n",
      "Epoch 97/100\n",
      "24/24 [==============================] - 27s 1s/step - loss: 5.3958e-06 - sparse_categorical_accuracy: 1.0000 - val_loss: 6.2469e-06 - val_sparse_categorical_accuracy: 1.0000\n",
      "Epoch 98/100\n",
      "24/24 [==============================] - 27s 1s/step - loss: 6.4145e-06 - sparse_categorical_accuracy: 1.0000 - val_loss: 5.1488e-06 - val_sparse_categorical_accuracy: 1.0000\n",
      "Epoch 99/100\n",
      "24/24 [==============================] - 27s 1s/step - loss: 3.3715e-06 - sparse_categorical_accuracy: 1.0000 - val_loss: 5.8560e-06 - val_sparse_categorical_accuracy: 1.0000\n",
      "Epoch 100/100\n",
      "24/24 [==============================] - 27s 1s/step - loss: 5.3152e-06 - sparse_categorical_accuracy: 1.0000 - val_loss: 4.0884e-06 - val_sparse_categorical_accuracy: 1.0000\n"
     ]
    }
   ],
   "source": [
    "base_model = ResNet50(weights=\"imagenet\", include_top=False, input_shape=input_shape)\n",
    "\n",
    "for layer in base_model.layers:\n",
    "    layer.trainable = False\n",
    "\n",
    "ResNet50 = Sequential()\n",
    "ResNet50.add(base_model)\n",
    "ResNet50.add(Flatten())\n",
    "ResNet50.add(Dense(128, activation='relu'))\n",
    "ResNet50.add(Dense(3, activation='softmax'))\n",
    "\n",
    "ResNet50.compile(\n",
    "    optimizer=\"adam\",\n",
    "    loss=\"sparse_categorical_crossentropy\",\n",
    "    metrics=[\"sparse_categorical_accuracy\"],\n",
    ")\n",
    "\n",
    "RN_history = ResNet50.fit(train, epochs = 100, validation_data = val, callbacks = [tensorboard_callback])"
   ]
  },
  {
   "cell_type": "code",
   "execution_count": 118,
   "id": "e53f516d-8a6a-483a-8983-c17aa8e370c3",
   "metadata": {},
   "outputs": [],
   "source": [
    "RN_Metrics = {\"Accuracy\":0, \"Loss\":0, \"Recall\":0, \"Precision\":0, \"F1\":0}"
   ]
  },
  {
   "cell_type": "code",
   "execution_count": 119,
   "id": "49d01129-ad3d-4630-99c9-1e29c5ecfe2d",
   "metadata": {},
   "outputs": [
    {
     "name": "stdout",
     "output_type": "stream",
     "text": [
      "3/3 [==============================] - 2s 723ms/step - loss: 2.5740e-06 - sparse_categorical_accuracy: 1.0000\n"
     ]
    }
   ],
   "source": [
    "loss, accuracy = ResNet50.evaluate(test)"
   ]
  },
  {
   "cell_type": "code",
   "execution_count": 128,
   "id": "53405c78-4d3b-414f-b307-fd85dff62aa1",
   "metadata": {},
   "outputs": [
    {
     "name": "stdout",
     "output_type": "stream",
     "text": [
      "1/1 [==============================] - 2s 2s/step\n",
      "1/1 [==============================] - 1s 757ms/step\n",
      "1/1 [==============================] - 1s 732ms/step\n"
     ]
    }
   ],
   "source": [
    "labels = []\n",
    "y_pred = []\n",
    "for batch in test.as_numpy_iterator():\n",
    "    X,y = batch\n",
    "    labels.append(y)\n",
    "    y_predictions = tf.argmax(ResNet50.predict(X), axis=1)\n",
    "    for pred in y_predictions: \n",
    "        y_pred.append(pred)\n",
    "y_true = []\n",
    "for label in labels:\n",
    "    for i in label:\n",
    "        y_true.append(i)"
   ]
  },
  {
   "cell_type": "code",
   "execution_count": 129,
   "id": "714145bb-dc58-45fd-944f-3f62468f60f5",
   "metadata": {},
   "outputs": [],
   "source": [
    "precision = precision_score(y_true, y_pred, average='weighted')\n",
    "recall = recall_score(y_true, y_pred, average = \"weighted\")\n",
    "f1 = f1_score(y_true, y_pred, average='weighted')"
   ]
  },
  {
   "cell_type": "code",
   "execution_count": 130,
   "id": "d2089966-96dd-4882-b371-8bf4c6cabe33",
   "metadata": {},
   "outputs": [],
   "source": [
    "RN_Metrics[\"Accuracy\"] = accuracy\n",
    "RN_Metrics[\"Loss\"] = loss\n",
    "RN_Metrics[\"Precision\"] = precision\n",
    "RN_Metrics[\"Recall\"] = recall\n",
    "RN_Metrics[\"F1\"] = f1"
   ]
  },
  {
   "cell_type": "code",
   "execution_count": 131,
   "id": "22f37286-9268-4089-9425-497e6de3426c",
   "metadata": {},
   "outputs": [
    {
     "name": "stdout",
     "output_type": "stream",
     "text": [
      "{'Accuracy': 1.0, 'Loss': 8.443964816251537e-08, 'Recall': 1.0, 'Precision': 1.0, 'F1': 1.0}\n"
     ]
    }
   ],
   "source": [
    "print(RN_Metrics)"
   ]
  },
  {
   "cell_type": "markdown",
   "id": "b2281320-30bd-4e37-81c3-660f69705b3e",
   "metadata": {},
   "source": [
    "### Xception Results."
   ]
  },
  {
   "cell_type": "code",
   "execution_count": 124,
   "id": "e0ed643d-cc35-477f-abbd-5eb8ff61fd0b",
   "metadata": {},
   "outputs": [
    {
     "name": "stdout",
     "output_type": "stream",
     "text": [
      "Epoch 1/100\n",
      "24/24 [==============================] - 29s 1s/step - loss: 71.0077 - sparse_categorical_accuracy: 0.6237 - val_loss: 5.8168 - val_sparse_categorical_accuracy: 0.8571\n",
      "Epoch 2/100\n",
      "24/24 [==============================] - 26s 1s/step - loss: 4.1802 - sparse_categorical_accuracy: 0.8086 - val_loss: 0.5342 - val_sparse_categorical_accuracy: 0.9196\n",
      "Epoch 3/100\n",
      "24/24 [==============================] - 26s 1s/step - loss: 0.8104 - sparse_categorical_accuracy: 0.9271 - val_loss: 0.1994 - val_sparse_categorical_accuracy: 0.9688\n",
      "Epoch 4/100\n",
      "24/24 [==============================] - 27s 1s/step - loss: 0.2972 - sparse_categorical_accuracy: 0.9688 - val_loss: 0.1544 - val_sparse_categorical_accuracy: 0.9821\n",
      "Epoch 5/100\n",
      "24/24 [==============================] - 28s 1s/step - loss: 0.3512 - sparse_categorical_accuracy: 0.9740 - val_loss: 9.7193e-04 - val_sparse_categorical_accuracy: 1.0000\n",
      "Epoch 6/100\n",
      "24/24 [==============================] - 28s 1s/step - loss: 0.2274 - sparse_categorical_accuracy: 0.9818 - val_loss: 0.1533 - val_sparse_categorical_accuracy: 0.9777\n",
      "Epoch 7/100\n",
      "24/24 [==============================] - 28s 1s/step - loss: 0.0543 - sparse_categorical_accuracy: 0.9857 - val_loss: 1.0167e-04 - val_sparse_categorical_accuracy: 1.0000\n",
      "Epoch 8/100\n",
      "24/24 [==============================] - 28s 1s/step - loss: 0.1170 - sparse_categorical_accuracy: 0.9857 - val_loss: 0.0116 - val_sparse_categorical_accuracy: 0.9955\n",
      "Epoch 9/100\n",
      "24/24 [==============================] - 28s 1s/step - loss: 0.2102 - sparse_categorical_accuracy: 0.9661 - val_loss: 0.3076 - val_sparse_categorical_accuracy: 0.9732\n",
      "Epoch 10/100\n",
      "24/24 [==============================] - 28s 1s/step - loss: 0.2172 - sparse_categorical_accuracy: 0.9831 - val_loss: 0.1558 - val_sparse_categorical_accuracy: 0.9777\n",
      "Epoch 11/100\n",
      "24/24 [==============================] - 28s 1s/step - loss: 0.1372 - sparse_categorical_accuracy: 0.9818 - val_loss: 0.0914 - val_sparse_categorical_accuracy: 0.9911\n",
      "Epoch 12/100\n",
      "24/24 [==============================] - 28s 1s/step - loss: 0.3489 - sparse_categorical_accuracy: 0.9727 - val_loss: 0.0445 - val_sparse_categorical_accuracy: 0.9955\n",
      "Epoch 13/100\n",
      "24/24 [==============================] - 28s 1s/step - loss: 0.2055 - sparse_categorical_accuracy: 0.9792 - val_loss: 0.0143 - val_sparse_categorical_accuracy: 0.9911\n",
      "Epoch 14/100\n",
      "24/24 [==============================] - 28s 1s/step - loss: 0.4600 - sparse_categorical_accuracy: 0.9714 - val_loss: 0.0871 - val_sparse_categorical_accuracy: 0.9955\n",
      "Epoch 15/100\n",
      "24/24 [==============================] - 28s 1s/step - loss: 0.8830 - sparse_categorical_accuracy: 0.9401 - val_loss: 3.0602 - val_sparse_categorical_accuracy: 0.8571\n",
      "Epoch 16/100\n",
      "24/24 [==============================] - 28s 1s/step - loss: 2.5987 - sparse_categorical_accuracy: 0.8906 - val_loss: 0.1873 - val_sparse_categorical_accuracy: 0.9821\n",
      "Epoch 17/100\n",
      "24/24 [==============================] - 28s 1s/step - loss: 0.7646 - sparse_categorical_accuracy: 0.9557 - val_loss: 0.6237 - val_sparse_categorical_accuracy: 0.9643\n",
      "Epoch 18/100\n",
      "24/24 [==============================] - 28s 1s/step - loss: 0.4797 - sparse_categorical_accuracy: 0.9714 - val_loss: 0.1037 - val_sparse_categorical_accuracy: 0.9911\n",
      "Epoch 19/100\n",
      "24/24 [==============================] - 28s 1s/step - loss: 0.2611 - sparse_categorical_accuracy: 0.9805 - val_loss: 0.0014 - val_sparse_categorical_accuracy: 1.0000\n",
      "Epoch 20/100\n",
      "24/24 [==============================] - 28s 1s/step - loss: 0.0686 - sparse_categorical_accuracy: 0.9922 - val_loss: 1.8360e-07 - val_sparse_categorical_accuracy: 1.0000\n",
      "Epoch 21/100\n",
      "24/24 [==============================] - 28s 1s/step - loss: 0.1340 - sparse_categorical_accuracy: 0.9870 - val_loss: 0.0105 - val_sparse_categorical_accuracy: 0.9955\n",
      "Epoch 22/100\n",
      "24/24 [==============================] - 29s 1s/step - loss: 0.2527 - sparse_categorical_accuracy: 0.9857 - val_loss: 0.0036 - val_sparse_categorical_accuracy: 1.0000\n",
      "Epoch 23/100\n",
      "24/24 [==============================] - 28s 1s/step - loss: 0.3081 - sparse_categorical_accuracy: 0.9831 - val_loss: 0.5589 - val_sparse_categorical_accuracy: 0.9420\n",
      "Epoch 24/100\n",
      "24/24 [==============================] - 28s 1s/step - loss: 0.2738 - sparse_categorical_accuracy: 0.9818 - val_loss: 0.0341 - val_sparse_categorical_accuracy: 0.9955\n",
      "Epoch 25/100\n",
      "24/24 [==============================] - 28s 1s/step - loss: 0.0102 - sparse_categorical_accuracy: 0.9987 - val_loss: 0.1926 - val_sparse_categorical_accuracy: 0.9866\n",
      "Epoch 26/100\n",
      "24/24 [==============================] - 28s 1s/step - loss: 0.1360 - sparse_categorical_accuracy: 0.9857 - val_loss: 0.2833 - val_sparse_categorical_accuracy: 0.9643\n",
      "Epoch 27/100\n",
      "24/24 [==============================] - 28s 1s/step - loss: 0.1153 - sparse_categorical_accuracy: 0.9922 - val_loss: 0.1167 - val_sparse_categorical_accuracy: 0.9911\n",
      "Epoch 28/100\n",
      "24/24 [==============================] - 28s 1s/step - loss: 0.0495 - sparse_categorical_accuracy: 0.9974 - val_loss: 0.0000e+00 - val_sparse_categorical_accuracy: 1.0000\n",
      "Epoch 29/100\n",
      "24/24 [==============================] - 28s 1s/step - loss: 0.0950 - sparse_categorical_accuracy: 0.9922 - val_loss: 0.0000e+00 - val_sparse_categorical_accuracy: 1.0000\n",
      "Epoch 30/100\n",
      "24/24 [==============================] - 28s 1s/step - loss: 0.2713 - sparse_categorical_accuracy: 0.9922 - val_loss: 2.8041e-06 - val_sparse_categorical_accuracy: 1.0000\n",
      "Epoch 31/100\n",
      "24/24 [==============================] - 28s 1s/step - loss: 0.0214 - sparse_categorical_accuracy: 0.9974 - val_loss: 0.0000e+00 - val_sparse_categorical_accuracy: 1.0000\n",
      "Epoch 32/100\n",
      "24/24 [==============================] - 28s 1s/step - loss: 0.0576 - sparse_categorical_accuracy: 0.9961 - val_loss: 0.1262 - val_sparse_categorical_accuracy: 0.9955\n",
      "Epoch 33/100\n",
      "24/24 [==============================] - 28s 1s/step - loss: 0.0363 - sparse_categorical_accuracy: 0.9961 - val_loss: 0.1603 - val_sparse_categorical_accuracy: 0.9911\n",
      "Epoch 34/100\n",
      "24/24 [==============================] - 28s 1s/step - loss: 0.0754 - sparse_categorical_accuracy: 0.9909 - val_loss: 0.0046 - val_sparse_categorical_accuracy: 0.9955\n",
      "Epoch 35/100\n",
      "24/24 [==============================] - 28s 1s/step - loss: 0.0070 - sparse_categorical_accuracy: 0.9987 - val_loss: 0.0000e+00 - val_sparse_categorical_accuracy: 1.0000\n",
      "Epoch 36/100\n",
      "24/24 [==============================] - 28s 1s/step - loss: 0.0056 - sparse_categorical_accuracy: 0.9974 - val_loss: 5.6491e-04 - val_sparse_categorical_accuracy: 1.0000\n",
      "Epoch 37/100\n",
      "24/24 [==============================] - 28s 1s/step - loss: 0.0835 - sparse_categorical_accuracy: 0.9935 - val_loss: 1.0644e-09 - val_sparse_categorical_accuracy: 1.0000\n",
      "Epoch 38/100\n",
      "24/24 [==============================] - 28s 1s/step - loss: 0.0567 - sparse_categorical_accuracy: 0.9948 - val_loss: 7.6978e-06 - val_sparse_categorical_accuracy: 1.0000\n",
      "Epoch 39/100\n",
      "24/24 [==============================] - 28s 1s/step - loss: 7.2757e-07 - sparse_categorical_accuracy: 1.0000 - val_loss: 2.0528e-06 - val_sparse_categorical_accuracy: 1.0000\n",
      "Epoch 40/100\n",
      "24/24 [==============================] - 28s 1s/step - loss: 1.9510e-05 - sparse_categorical_accuracy: 1.0000 - val_loss: 4.2238e-05 - val_sparse_categorical_accuracy: 1.0000\n",
      "Epoch 41/100\n",
      "24/24 [==============================] - 28s 1s/step - loss: 6.1664e-06 - sparse_categorical_accuracy: 1.0000 - val_loss: 7.5568e-07 - val_sparse_categorical_accuracy: 1.0000\n",
      "Epoch 42/100\n",
      "24/24 [==============================] - 28s 1s/step - loss: 6.1920e-06 - sparse_categorical_accuracy: 1.0000 - val_loss: 5.7485e-06 - val_sparse_categorical_accuracy: 1.0000\n",
      "Epoch 43/100\n",
      "24/24 [==============================] - 28s 1s/step - loss: 6.0940e-06 - sparse_categorical_accuracy: 1.0000 - val_loss: 4.3884e-06 - val_sparse_categorical_accuracy: 1.0000\n",
      "Epoch 44/100\n",
      "24/24 [==============================] - 28s 1s/step - loss: 2.9768e-06 - sparse_categorical_accuracy: 1.0000 - val_loss: 4.0513e-06 - val_sparse_categorical_accuracy: 1.0000\n",
      "Epoch 45/100\n",
      "24/24 [==============================] - 28s 1s/step - loss: 4.0755e-06 - sparse_categorical_accuracy: 1.0000 - val_loss: 3.3846e-07 - val_sparse_categorical_accuracy: 1.0000\n",
      "Epoch 46/100\n",
      "24/24 [==============================] - 28s 1s/step - loss: 1.8737e-06 - sparse_categorical_accuracy: 1.0000 - val_loss: 5.3962e-07 - val_sparse_categorical_accuracy: 1.0000\n",
      "Epoch 47/100\n",
      "24/24 [==============================] - 28s 1s/step - loss: 1.3232e-06 - sparse_categorical_accuracy: 1.0000 - val_loss: 2.2634e-06 - val_sparse_categorical_accuracy: 1.0000\n",
      "Epoch 48/100\n",
      "24/24 [==============================] - 28s 1s/step - loss: 1.2793e-06 - sparse_categorical_accuracy: 1.0000 - val_loss: 1.9628e-06 - val_sparse_categorical_accuracy: 1.0000\n",
      "Epoch 49/100\n",
      "24/24 [==============================] - 28s 1s/step - loss: 1.5974e-06 - sparse_categorical_accuracy: 1.0000 - val_loss: 2.0565e-06 - val_sparse_categorical_accuracy: 1.0000\n",
      "Epoch 50/100\n",
      "24/24 [==============================] - 28s 1s/step - loss: 2.4443e-06 - sparse_categorical_accuracy: 1.0000 - val_loss: 1.9991e-06 - val_sparse_categorical_accuracy: 1.0000\n",
      "Epoch 51/100\n",
      "24/24 [==============================] - 28s 1s/step - loss: 3.8083e-06 - sparse_categorical_accuracy: 1.0000 - val_loss: 1.5468e-06 - val_sparse_categorical_accuracy: 1.0000\n",
      "Epoch 52/100\n",
      "24/24 [==============================] - 28s 1s/step - loss: 2.0323e-06 - sparse_categorical_accuracy: 1.0000 - val_loss: 1.6049e-06 - val_sparse_categorical_accuracy: 1.0000\n",
      "Epoch 53/100\n",
      "24/24 [==============================] - 28s 1s/step - loss: 2.1906e-06 - sparse_categorical_accuracy: 1.0000 - val_loss: 1.3585e-06 - val_sparse_categorical_accuracy: 1.0000\n",
      "Epoch 54/100\n",
      "24/24 [==============================] - 28s 1s/step - loss: 2.0084e-06 - sparse_categorical_accuracy: 1.0000 - val_loss: 1.3644e-06 - val_sparse_categorical_accuracy: 1.0000\n",
      "Epoch 55/100\n",
      "24/24 [==============================] - 28s 1s/step - loss: 2.5804e-06 - sparse_categorical_accuracy: 1.0000 - val_loss: 9.1899e-07 - val_sparse_categorical_accuracy: 1.0000\n",
      "Epoch 56/100\n",
      "24/24 [==============================] - 28s 1s/step - loss: 9.1929e-07 - sparse_categorical_accuracy: 1.0000 - val_loss: 9.5307e-07 - val_sparse_categorical_accuracy: 1.0000\n",
      "Epoch 57/100\n",
      "24/24 [==============================] - 28s 1s/step - loss: 1.6630e-06 - sparse_categorical_accuracy: 1.0000 - val_loss: 2.1234e-07 - val_sparse_categorical_accuracy: 1.0000\n",
      "Epoch 58/100\n",
      "24/24 [==============================] - 28s 1s/step - loss: 5.8157e-07 - sparse_categorical_accuracy: 1.0000 - val_loss: 2.3629e-07 - val_sparse_categorical_accuracy: 1.0000\n",
      "Epoch 59/100\n",
      "24/24 [==============================] - 28s 1s/step - loss: 1.0476e-06 - sparse_categorical_accuracy: 1.0000 - val_loss: 8.0408e-07 - val_sparse_categorical_accuracy: 1.0000\n",
      "Epoch 60/100\n",
      "24/24 [==============================] - 28s 1s/step - loss: 1.4944e-06 - sparse_categorical_accuracy: 1.0000 - val_loss: 1.5380e-07 - val_sparse_categorical_accuracy: 1.0000\n",
      "Epoch 61/100\n",
      "24/24 [==============================] - 28s 1s/step - loss: 7.3709e-07 - sparse_categorical_accuracy: 1.0000 - val_loss: 2.0116e-07 - val_sparse_categorical_accuracy: 1.0000\n",
      "Epoch 62/100\n",
      "24/24 [==============================] - 28s 1s/step - loss: 1.3581e-06 - sparse_categorical_accuracy: 1.0000 - val_loss: 8.7221e-07 - val_sparse_categorical_accuracy: 1.0000\n",
      "Epoch 63/100\n",
      "24/24 [==============================] - 28s 1s/step - loss: 1.4288e-06 - sparse_categorical_accuracy: 1.0000 - val_loss: 9.5792e-08 - val_sparse_categorical_accuracy: 1.0000\n",
      "Epoch 64/100\n",
      "24/24 [==============================] - 28s 1s/step - loss: 1.0218e-06 - sparse_categorical_accuracy: 1.0000 - val_loss: 1.1389e-07 - val_sparse_categorical_accuracy: 1.0000\n",
      "Epoch 65/100\n",
      "24/24 [==============================] - 28s 1s/step - loss: 9.4485e-07 - sparse_categorical_accuracy: 1.0000 - val_loss: 5.9549e-07 - val_sparse_categorical_accuracy: 1.0000\n",
      "Epoch 66/100\n",
      "24/24 [==============================] - 28s 1s/step - loss: 9.9592e-07 - sparse_categorical_accuracy: 1.0000 - val_loss: 1.7349e-07 - val_sparse_categorical_accuracy: 1.0000\n",
      "Epoch 67/100\n",
      "24/24 [==============================] - 28s 1s/step - loss: 9.1009e-07 - sparse_categorical_accuracy: 1.0000 - val_loss: 6.3008e-07 - val_sparse_categorical_accuracy: 1.0000\n",
      "Epoch 68/100\n",
      "24/24 [==============================] - 28s 1s/step - loss: 1.5206e-06 - sparse_categorical_accuracy: 1.0000 - val_loss: 4.3371e-07 - val_sparse_categorical_accuracy: 1.0000\n",
      "Epoch 69/100\n",
      "24/24 [==============================] - 28s 1s/step - loss: 9.6909e-07 - sparse_categorical_accuracy: 1.0000 - val_loss: 4.9492e-07 - val_sparse_categorical_accuracy: 1.0000\n",
      "Epoch 70/100\n",
      "24/24 [==============================] - 28s 1s/step - loss: 9.3759e-07 - sparse_categorical_accuracy: 1.0000 - val_loss: 1.1123e-07 - val_sparse_categorical_accuracy: 1.0000\n",
      "Epoch 71/100\n",
      "24/24 [==============================] - 28s 1s/step - loss: 3.5823e-07 - sparse_categorical_accuracy: 1.0000 - val_loss: 4.7310e-07 - val_sparse_categorical_accuracy: 1.0000\n",
      "Epoch 72/100\n",
      "24/24 [==============================] - 28s 1s/step - loss: 8.5736e-07 - sparse_categorical_accuracy: 1.0000 - val_loss: 5.8008e-08 - val_sparse_categorical_accuracy: 1.0000\n",
      "Epoch 73/100\n",
      "24/24 [==============================] - 28s 1s/step - loss: 8.5161e-07 - sparse_categorical_accuracy: 1.0000 - val_loss: 3.7412e-07 - val_sparse_categorical_accuracy: 1.0000\n",
      "Epoch 74/100\n",
      "24/24 [==============================] - 28s 1s/step - loss: 6.3216e-07 - sparse_categorical_accuracy: 1.0000 - val_loss: 4.5980e-07 - val_sparse_categorical_accuracy: 1.0000\n",
      "Epoch 75/100\n",
      "24/24 [==============================] - 28s 1s/step - loss: 1.3861e-07 - sparse_categorical_accuracy: 1.0000 - val_loss: 3.7518e-07 - val_sparse_categorical_accuracy: 1.0000\n",
      "Epoch 76/100\n",
      "24/24 [==============================] - 28s 1s/step - loss: 5.2757e-07 - sparse_categorical_accuracy: 1.0000 - val_loss: 3.1398e-07 - val_sparse_categorical_accuracy: 1.0000\n",
      "Epoch 77/100\n",
      "24/24 [==============================] - 28s 1s/step - loss: 4.1675e-07 - sparse_categorical_accuracy: 1.0000 - val_loss: 9.2067e-08 - val_sparse_categorical_accuracy: 1.0000\n",
      "Epoch 78/100\n",
      "24/24 [==============================] - 28s 1s/step - loss: 7.7992e-07 - sparse_categorical_accuracy: 1.0000 - val_loss: 1.6870e-07 - val_sparse_categorical_accuracy: 1.0000\n",
      "Epoch 79/100\n",
      "24/24 [==============================] - 28s 1s/step - loss: 6.3107e-07 - sparse_categorical_accuracy: 1.0000 - val_loss: 3.5390e-07 - val_sparse_categorical_accuracy: 1.0000\n",
      "Epoch 80/100\n",
      "24/24 [==============================] - 28s 1s/step - loss: 4.4482e-07 - sparse_categorical_accuracy: 1.0000 - val_loss: 8.5149e-08 - val_sparse_categorical_accuracy: 1.0000\n",
      "Epoch 81/100\n",
      "24/24 [==============================] - 28s 1s/step - loss: 3.7764e-07 - sparse_categorical_accuracy: 1.0000 - val_loss: 3.3367e-07 - val_sparse_categorical_accuracy: 1.0000\n",
      "Epoch 82/100\n",
      "24/24 [==============================] - 28s 1s/step - loss: 6.8152e-07 - sparse_categorical_accuracy: 1.0000 - val_loss: 3.6081e-07 - val_sparse_categorical_accuracy: 1.0000\n",
      "Epoch 83/100\n",
      "24/24 [==============================] - 28s 1s/step - loss: 2.3267e-07 - sparse_categorical_accuracy: 1.0000 - val_loss: 3.1984e-07 - val_sparse_categorical_accuracy: 1.0000\n",
      "Epoch 84/100\n",
      "24/24 [==============================] - 28s 1s/step - loss: 3.1571e-07 - sparse_categorical_accuracy: 1.0000 - val_loss: 2.3841e-07 - val_sparse_categorical_accuracy: 1.0000\n",
      "Epoch 85/100\n",
      "24/24 [==============================] - 28s 1s/step - loss: 6.5095e-07 - sparse_categorical_accuracy: 1.0000 - val_loss: 2.3682e-07 - val_sparse_categorical_accuracy: 1.0000\n",
      "Epoch 86/100\n",
      "24/24 [==============================] - 28s 1s/step - loss: 6.1991e-07 - sparse_categorical_accuracy: 1.0000 - val_loss: 1.5220e-07 - val_sparse_categorical_accuracy: 1.0000\n",
      "Epoch 87/100\n",
      "24/24 [==============================] - 28s 1s/step - loss: 5.1980e-07 - sparse_categorical_accuracy: 1.0000 - val_loss: 2.7620e-07 - val_sparse_categorical_accuracy: 1.0000\n",
      "Epoch 88/100\n",
      "24/24 [==============================] - 28s 1s/step - loss: 7.4329e-07 - sparse_categorical_accuracy: 1.0000 - val_loss: 6.9184e-08 - val_sparse_categorical_accuracy: 1.0000\n",
      "Epoch 89/100\n",
      "24/24 [==============================] - 28s 1s/step - loss: 3.0872e-07 - sparse_categorical_accuracy: 1.0000 - val_loss: 1.9850e-07 - val_sparse_categorical_accuracy: 1.0000\n",
      "Epoch 90/100\n",
      "24/24 [==============================] - 28s 1s/step - loss: 4.4204e-07 - sparse_categorical_accuracy: 1.0000 - val_loss: 3.1186e-07 - val_sparse_categorical_accuracy: 1.0000\n",
      "Epoch 91/100\n",
      "24/24 [==============================] - 28s 1s/step - loss: 5.4324e-07 - sparse_categorical_accuracy: 1.0000 - val_loss: 1.9158e-07 - val_sparse_categorical_accuracy: 1.0000\n",
      "Epoch 92/100\n",
      "24/24 [==============================] - 28s 1s/step - loss: 4.1519e-07 - sparse_categorical_accuracy: 1.0000 - val_loss: 5.4283e-08 - val_sparse_categorical_accuracy: 1.0000\n",
      "Epoch 93/100\n",
      "24/24 [==============================] - 28s 1s/step - loss: 2.8125e-07 - sparse_categorical_accuracy: 1.0000 - val_loss: 8.8342e-08 - val_sparse_categorical_accuracy: 1.0000\n",
      "Epoch 94/100\n",
      "24/24 [==============================] - 28s 1s/step - loss: 3.8570e-07 - sparse_categorical_accuracy: 1.0000 - val_loss: 2.0329e-07 - val_sparse_categorical_accuracy: 1.0000\n",
      "Epoch 95/100\n",
      "24/24 [==============================] - 28s 1s/step - loss: 3.8260e-07 - sparse_categorical_accuracy: 1.0000 - val_loss: 5.4815e-08 - val_sparse_categorical_accuracy: 1.0000\n",
      "Epoch 96/100\n",
      "24/24 [==============================] - 28s 1s/step - loss: 3.8338e-07 - sparse_categorical_accuracy: 1.0000 - val_loss: 2.4054e-07 - val_sparse_categorical_accuracy: 1.0000\n",
      "Epoch 97/100\n",
      "24/24 [==============================] - 28s 1s/step - loss: 3.7949e-07 - sparse_categorical_accuracy: 1.0000 - val_loss: 2.8897e-07 - val_sparse_categorical_accuracy: 1.0000\n",
      "Epoch 98/100\n",
      "24/24 [==============================] - 28s 1s/step - loss: 4.5648e-07 - sparse_categorical_accuracy: 1.0000 - val_loss: 2.7088e-07 - val_sparse_categorical_accuracy: 1.0000\n",
      "Epoch 99/100\n",
      "24/24 [==============================] - 28s 1s/step - loss: 6.2038e-07 - sparse_categorical_accuracy: 1.0000 - val_loss: 1.3571e-07 - val_sparse_categorical_accuracy: 1.0000\n",
      "Epoch 100/100\n",
      "24/24 [==============================] - 28s 1s/step - loss: 5.0801e-07 - sparse_categorical_accuracy: 1.0000 - val_loss: 2.6290e-07 - val_sparse_categorical_accuracy: 1.0000\n"
     ]
    }
   ],
   "source": [
    "base_model = Xception(weights=\"imagenet\", include_top=False, input_shape=input_shape)\n",
    "\n",
    "for layer in base_model.layers:\n",
    "    layer.trainable = False\n",
    "    \n",
    "Xception = Sequential()\n",
    "Xception.add(base_model)\n",
    "Xception.add(Flatten())\n",
    "Xception.add(Dense(128, activation='relu'))\n",
    "Xception.add(Dense(3, activation='softmax'))\n",
    "\n",
    "Xception.compile(\n",
    "    optimizer=\"adam\",\n",
    "    loss=\"sparse_categorical_crossentropy\",\n",
    "    metrics=[\"sparse_categorical_accuracy\"]\n",
    ")\n",
    "\n",
    "Xception_history = Xception.fit(train, epochs = 100, validation_data = val, callbacks = [tensorboard_callback])"
   ]
  },
  {
   "cell_type": "code",
   "execution_count": 125,
   "id": "616a8257-2b57-411b-a45a-7ee738204492",
   "metadata": {},
   "outputs": [],
   "source": [
    "X_Metrics = {\"Accuracy\":0, \"Loss\":0, \"Recall\":0, \"Precision\":0, \"F1\":0}"
   ]
  },
  {
   "cell_type": "code",
   "execution_count": 126,
   "id": "81018250-c316-439a-9b70-0023146f8ca5",
   "metadata": {},
   "outputs": [
    {
     "name": "stdout",
     "output_type": "stream",
     "text": [
      "3/3 [==============================] - 2s 773ms/step - loss: 8.4440e-08 - sparse_categorical_accuracy: 1.0000\n"
     ]
    }
   ],
   "source": [
    "loss, accuracy = Xception.evaluate(test)"
   ]
  },
  {
   "cell_type": "code",
   "execution_count": 132,
   "id": "bee3af54-1330-42df-8ad1-da39699da007",
   "metadata": {},
   "outputs": [
    {
     "name": "stdout",
     "output_type": "stream",
     "text": [
      "1/1 [==============================] - 1s 1s/step\n",
      "1/1 [==============================] - 1s 804ms/step\n",
      "1/1 [==============================] - 1s 776ms/step\n"
     ]
    }
   ],
   "source": [
    "labels = []\n",
    "y_pred = []\n",
    "for batch in test.as_numpy_iterator():\n",
    "    X,y = batch\n",
    "    labels.append(y)\n",
    "    y_predictions = tf.argmax(Xception.predict(X), axis=1)\n",
    "    for pred in y_predictions: \n",
    "        y_pred.append(pred)\n",
    "y_true = []\n",
    "for label in labels:\n",
    "    for i in label:\n",
    "        y_true.append(i)"
   ]
  },
  {
   "cell_type": "code",
   "execution_count": 133,
   "id": "b25505f1-f5e6-49f3-ba71-99b9da39a7d3",
   "metadata": {},
   "outputs": [],
   "source": [
    "precision = precision_score(y_true, y_pred, average='weighted')\n",
    "recall = recall_score(y_true, y_pred, average = \"weighted\")\n",
    "f1 = f1_score(y_true, y_pred, average='weighted')"
   ]
  },
  {
   "cell_type": "code",
   "execution_count": 134,
   "id": "e6b51884-5603-4d61-a7ba-a3488fe9bba2",
   "metadata": {},
   "outputs": [],
   "source": [
    "X_Metrics[\"Accuracy\"] = accuracy\n",
    "X_Metrics[\"Loss\"] = loss\n",
    "X_Metrics[\"Precision\"] = precision\n",
    "X_Metrics[\"Recall\"] = recall\n",
    "X_Metrics[\"F1\"] = f1"
   ]
  },
  {
   "cell_type": "code",
   "execution_count": 135,
   "id": "944deb25-ab95-444a-a422-446f7db3f52d",
   "metadata": {},
   "outputs": [
    {
     "name": "stdout",
     "output_type": "stream",
     "text": [
      "{'Accuracy': 1.0, 'Loss': 8.443964816251537e-08, 'Recall': 1.0, 'Precision': 1.0, 'F1': 1.0}\n"
     ]
    }
   ],
   "source": [
    "print(X_Metrics)"
   ]
  },
  {
   "cell_type": "markdown",
   "id": "ea06a2bf-fe3d-45fe-996e-46c76fb7e9bc",
   "metadata": {
    "jp-MarkdownHeadingCollapsed": true
   },
   "source": [
    "## Scernario 2: Not Pre-trained / Training frozen on base model."
   ]
  },
  {
   "cell_type": "markdown",
   "id": "1722d9ad-4252-49e4-93c5-c2d560b103ab",
   "metadata": {},
   "source": [
    "### DenseNet121 Results."
   ]
  },
  {
   "cell_type": "code",
   "execution_count": null,
   "id": "12615e79-b433-468d-b15d-1606bd4b882c",
   "metadata": {},
   "outputs": [],
   "source": [
    "base_model = DenseNet121(weights=None, include_top=False, input_shape=input_shape)\n",
    "\n",
    "for layer in base_model.layers:\n",
    "    layer.trainable = False\n",
    "    \n",
    "DenseNet121 = Sequential()\n",
    "DenseNet121.add(base_model)\n",
    "DenseNet121.add(Flatten())\n",
    "DenseNet121.add(Dense(128, activation='relu'))\n",
    "DenseNet121.add(Dense(3, activation='softmax'))\n",
    "\n",
    "DenseNet121.compile(\n",
    "    optimizer=\"adam\",\n",
    "    loss=\"sparse_categorical_crossentropy\",\n",
    "    metrics=[\"sparse_categorical_accuracy\"],\n",
    ")\n",
    "\n",
    "DN_history = DenseNet121.fit(train, epochs = 100, validation_data = val, callbacks = [tensorboard_callback])"
   ]
  },
  {
   "cell_type": "code",
   "execution_count": null,
   "id": "31d278c5-a46a-4565-a7b4-bf21749b3139",
   "metadata": {},
   "outputs": [],
   "source": []
  },
  {
   "cell_type": "markdown",
   "id": "540b139f-480d-49a8-bcbe-073d991f2a86",
   "metadata": {},
   "source": [
    "### ResNet50 Results."
   ]
  },
  {
   "cell_type": "code",
   "execution_count": null,
   "id": "042c3fc1-2f09-45ff-afb0-39a45eb6caf1",
   "metadata": {},
   "outputs": [],
   "source": [
    "base_model = ResNet50(weights = None, include_top=False, input_shape=input_shape)\n",
    "\n",
    "for layer in base_model.layers:\n",
    "    layer.trainable = False\n",
    "\n",
    "ResNet50 = Sequential()\n",
    "ResNet50.add(base_model)\n",
    "ResNet50.add(Flatten())\n",
    "ResNet50.add(Dense(128, activation='relu'))\n",
    "ResNet50.add(Dense(3, activation='softmax'))\n",
    "\n",
    "ResNet50.compile(\n",
    "    optimizer=\"adam\",\n",
    "    loss=\"sparse_categorical_crossentropy\",\n",
    "    metrics=[\"sparse_categorical_accuracy\"],\n",
    ")\n",
    "\n",
    "RN_history = ResNet50.fit(train, epochs = 100, validation_data = val, callbacks = [tensorboard_callback])"
   ]
  },
  {
   "cell_type": "markdown",
   "id": "da4abf5f-bc0c-4a92-a7b4-2159d73826dc",
   "metadata": {},
   "source": [
    "### Xception Results."
   ]
  },
  {
   "cell_type": "code",
   "execution_count": null,
   "id": "78491e1d-c813-4111-a215-87ce604cc96c",
   "metadata": {},
   "outputs": [],
   "source": [
    "base_model = Xception(weights=None, include_top=False, input_shape=input_shape)\n",
    "\n",
    "for layer in base_model.layers:\n",
    "    layer.trainable = False\n",
    "    \n",
    "Xception = Sequential()\n",
    "Xception.add(base_model)\n",
    "Xception.add(Flatten())\n",
    "Xception.add(Dense(128, activation='relu'))\n",
    "Xception.add(Dense(3, activation='softmax'))\n",
    "\n",
    "Xception.compile(\n",
    "    optimizer=\"adam\",\n",
    "    loss=\"sparse_categorical_crossentropy\",\n",
    "    metrics=[\"sparse_categorical_accuracy\"]\n",
    ")\n",
    "\n",
    "Xception_history = Xception.fit(train, epochs = 100, validation_data = val, callbacks = [tensorboard_callback])"
   ]
  },
  {
   "cell_type": "code",
   "execution_count": null,
   "id": "bda4d3bd-35de-4117-9a4c-2b038d1ececd",
   "metadata": {},
   "outputs": [],
   "source": []
  },
  {
   "cell_type": "markdown",
   "id": "9fe8a7cc-79d3-42e4-9699-0074ffaf233f",
   "metadata": {
    "jp-MarkdownHeadingCollapsed": true
   },
   "source": [
    "## Scernario 3: Pre-trained  / Training not frozen on base model."
   ]
  },
  {
   "cell_type": "markdown",
   "id": "19ed282a-f92a-4951-8430-8af262907b47",
   "metadata": {},
   "source": [
    "### DenseNet121 Results."
   ]
  },
  {
   "cell_type": "code",
   "execution_count": null,
   "id": "10ca6a9d-c992-4d65-a4c7-219ee983cd7a",
   "metadata": {},
   "outputs": [],
   "source": [
    "base_model = DenseNet121(weights=\"imagenet\", include_top=False, input_shape=input_shape)\n",
    "\n",
    "DenseNet121 = Sequential()\n",
    "DenseNet121.add(base_model)\n",
    "DenseNet121.add(Flatten())\n",
    "DenseNet121.add(Dense(128, activation='relu'))\n",
    "DenseNet121.add(Dense(3, activation='softmax'))\n",
    "\n",
    "DenseNet121.compile(\n",
    "    optimizer=\"adam\",\n",
    "    loss=\"sparse_categorical_crossentropy\",\n",
    "    metrics=[\"sparse_categorical_accuracy\"],\n",
    ")\n",
    "\n",
    "DN_history = DenseNet121.fit(train, epochs = 100, validation_data = val, callbacks = [tensorboard_callback])"
   ]
  },
  {
   "cell_type": "code",
   "execution_count": null,
   "id": "09fc27bd-2ae9-4972-a099-8cb9b1255c10",
   "metadata": {},
   "outputs": [],
   "source": []
  },
  {
   "cell_type": "markdown",
   "id": "98d0cf55-62ca-4ce8-9415-5b9dd3105e10",
   "metadata": {},
   "source": [
    "### ResNet50 Results."
   ]
  },
  {
   "cell_type": "code",
   "execution_count": null,
   "id": "f28a893e-0590-4232-a585-747203587fb6",
   "metadata": {},
   "outputs": [],
   "source": [
    "base_model = ResNet50(weights=\"imagenet\", include_top=False, input_shape=input_shape)\n",
    "\n",
    "\n",
    "ResNet50 = Sequential()\n",
    "ResNet50.add(base_model)\n",
    "ResNet50.add(Flatten())\n",
    "ResNet50.add(Dense(128, activation='relu'))\n",
    "ResNet50.add(Dense(3, activation='softmax'))\n",
    "\n",
    "ResNet50.compile(\n",
    "    optimizer=\"adam\",\n",
    "    loss=\"sparse_categorical_crossentropy\",\n",
    "    metrics=[\"sparse_categorical_accuracy\"],\n",
    ")\n",
    "\n",
    "RN_history = ResNet50.fit(train, epochs = 100, validation_data = val, callbacks = [tensorboard_callback])"
   ]
  },
  {
   "cell_type": "code",
   "execution_count": null,
   "id": "52b3e86d-06a9-4f86-bf61-0432dee9cd19",
   "metadata": {},
   "outputs": [],
   "source": []
  },
  {
   "cell_type": "markdown",
   "id": "80a5e976-6cc0-4a2c-bafd-9716fca020f2",
   "metadata": {},
   "source": [
    "### Xception Results."
   ]
  },
  {
   "cell_type": "code",
   "execution_count": null,
   "id": "aeca001a-50b0-492a-9c0e-ebc6602db8e1",
   "metadata": {},
   "outputs": [],
   "source": [
    "base_model = Xception(weights=\"imagenet\", include_top=False, input_shape=input_shape)\n",
    "\n",
    "\n",
    "Xception = Sequential()\n",
    "Xception.add(base_model)\n",
    "Xception.add(Flatten())\n",
    "Xception.add(Dense(128, activation='relu'))\n",
    "Xception.add(Dense(3, activation='softmax'))\n",
    "\n",
    "Xception.compile(\n",
    "    optimizer=\"adam\",\n",
    "    loss=\"sparse_categorical_crossentropy\",\n",
    "    metrics=[\"sparse_categorical_accuracy\"]\n",
    ")\n",
    "\n",
    "Xception_history = Xception.fit(train, epochs = 100, validation_data = val, callbacks = [tensorboard_callback])"
   ]
  },
  {
   "cell_type": "markdown",
   "id": "353524a1-19b5-496b-a8c9-9da5a11ab445",
   "metadata": {},
   "source": [
    "## Scernario 4: Not Pre-trained / Training not frozen on base model."
   ]
  },
  {
   "cell_type": "markdown",
   "id": "875a2d88-af14-424b-ae39-11f8d4fcf1cf",
   "metadata": {},
   "source": [
    "### DenseNet121 Results."
   ]
  },
  {
   "cell_type": "code",
   "execution_count": 138,
   "id": "fcd2254e-7fe5-4325-864b-dfee832b3e47",
   "metadata": {},
   "outputs": [
    {
     "name": "stdout",
     "output_type": "stream",
     "text": [
      "Epoch 1/100\n",
      "24/24 [==============================] - 71s 2s/step - loss: 9.0431 - sparse_categorical_accuracy: 0.5182 - val_loss: 42144.8828 - val_sparse_categorical_accuracy: 0.1071\n",
      "Epoch 2/100\n",
      "24/24 [==============================] - 54s 2s/step - loss: 0.8061 - sparse_categorical_accuracy: 0.7305 - val_loss: 10270.2490 - val_sparse_categorical_accuracy: 0.1295\n",
      "Epoch 3/100\n",
      "24/24 [==============================] - 57s 2s/step - loss: 0.4809 - sparse_categorical_accuracy: 0.8138 - val_loss: 1127.5929 - val_sparse_categorical_accuracy: 0.1027\n",
      "Epoch 4/100\n",
      "24/24 [==============================] - 57s 2s/step - loss: 0.3608 - sparse_categorical_accuracy: 0.8542 - val_loss: 87.8844 - val_sparse_categorical_accuracy: 0.3259\n",
      "Epoch 5/100\n",
      "24/24 [==============================] - 57s 2s/step - loss: 0.2388 - sparse_categorical_accuracy: 0.9036 - val_loss: 70.7682 - val_sparse_categorical_accuracy: 0.1696\n",
      "Epoch 6/100\n",
      "24/24 [==============================] - 57s 2s/step - loss: 0.1414 - sparse_categorical_accuracy: 0.9544 - val_loss: 22.7209 - val_sparse_categorical_accuracy: 0.4509\n",
      "Epoch 7/100\n",
      "24/24 [==============================] - 57s 2s/step - loss: 0.0944 - sparse_categorical_accuracy: 0.9674 - val_loss: 4.4011 - val_sparse_categorical_accuracy: 0.4554\n",
      "Epoch 8/100\n",
      "24/24 [==============================] - 57s 2s/step - loss: 0.0668 - sparse_categorical_accuracy: 0.9805 - val_loss: 1.2562 - val_sparse_categorical_accuracy: 0.6518\n",
      "Epoch 9/100\n",
      "24/24 [==============================] - 57s 2s/step - loss: 0.0643 - sparse_categorical_accuracy: 0.9844 - val_loss: 0.3352 - val_sparse_categorical_accuracy: 0.8750\n",
      "Epoch 10/100\n",
      "24/24 [==============================] - 56s 2s/step - loss: 0.0527 - sparse_categorical_accuracy: 0.9831 - val_loss: 0.0497 - val_sparse_categorical_accuracy: 0.9955\n",
      "Epoch 11/100\n",
      "24/24 [==============================] - 56s 2s/step - loss: 0.0406 - sparse_categorical_accuracy: 0.9870 - val_loss: 0.2891 - val_sparse_categorical_accuracy: 0.8795\n",
      "Epoch 12/100\n",
      "24/24 [==============================] - 57s 2s/step - loss: 0.0838 - sparse_categorical_accuracy: 0.9753 - val_loss: 0.3524 - val_sparse_categorical_accuracy: 0.8571\n",
      "Epoch 13/100\n",
      "24/24 [==============================] - 58s 2s/step - loss: 0.0805 - sparse_categorical_accuracy: 0.9753 - val_loss: 1.2754 - val_sparse_categorical_accuracy: 0.6786\n",
      "Epoch 14/100\n",
      "24/24 [==============================] - 58s 2s/step - loss: 0.0374 - sparse_categorical_accuracy: 0.9922 - val_loss: 0.1463 - val_sparse_categorical_accuracy: 0.9509\n",
      "Epoch 15/100\n",
      "24/24 [==============================] - 58s 2s/step - loss: 0.0210 - sparse_categorical_accuracy: 0.9909 - val_loss: 0.1150 - val_sparse_categorical_accuracy: 0.9643\n",
      "Epoch 16/100\n",
      "24/24 [==============================] - 58s 2s/step - loss: 0.0284 - sparse_categorical_accuracy: 0.9935 - val_loss: 0.0272 - val_sparse_categorical_accuracy: 0.9911\n",
      "Epoch 17/100\n",
      "24/24 [==============================] - 57s 2s/step - loss: 0.0117 - sparse_categorical_accuracy: 0.9961 - val_loss: 0.0236 - val_sparse_categorical_accuracy: 0.9911\n",
      "Epoch 18/100\n",
      "24/24 [==============================] - 57s 2s/step - loss: 0.0234 - sparse_categorical_accuracy: 0.9922 - val_loss: 0.0139 - val_sparse_categorical_accuracy: 0.9955\n",
      "Epoch 19/100\n",
      "24/24 [==============================] - 58s 2s/step - loss: 0.0121 - sparse_categorical_accuracy: 0.9974 - val_loss: 0.0110 - val_sparse_categorical_accuracy: 1.0000\n",
      "Epoch 20/100\n",
      "24/24 [==============================] - 58s 2s/step - loss: 0.0116 - sparse_categorical_accuracy: 0.9948 - val_loss: 0.0079 - val_sparse_categorical_accuracy: 0.9955\n",
      "Epoch 21/100\n",
      "24/24 [==============================] - 57s 2s/step - loss: 0.0108 - sparse_categorical_accuracy: 0.9961 - val_loss: 0.0098 - val_sparse_categorical_accuracy: 0.9955\n",
      "Epoch 22/100\n",
      "24/24 [==============================] - 57s 2s/step - loss: 0.0037 - sparse_categorical_accuracy: 0.9974 - val_loss: 0.0027 - val_sparse_categorical_accuracy: 1.0000\n",
      "Epoch 23/100\n",
      "24/24 [==============================] - 57s 2s/step - loss: 0.0043 - sparse_categorical_accuracy: 0.9987 - val_loss: 0.0102 - val_sparse_categorical_accuracy: 0.9955\n",
      "Epoch 24/100\n",
      "24/24 [==============================] - 57s 2s/step - loss: 0.0126 - sparse_categorical_accuracy: 0.9974 - val_loss: 0.0056 - val_sparse_categorical_accuracy: 1.0000\n",
      "Epoch 25/100\n",
      "24/24 [==============================] - 57s 2s/step - loss: 0.0107 - sparse_categorical_accuracy: 0.9974 - val_loss: 0.0024 - val_sparse_categorical_accuracy: 1.0000\n",
      "Epoch 26/100\n",
      "24/24 [==============================] - 57s 2s/step - loss: 0.0040 - sparse_categorical_accuracy: 0.9974 - val_loss: 0.0075 - val_sparse_categorical_accuracy: 1.0000\n",
      "Epoch 27/100\n",
      "24/24 [==============================] - 57s 2s/step - loss: 0.0012 - sparse_categorical_accuracy: 1.0000 - val_loss: 0.0018 - val_sparse_categorical_accuracy: 1.0000\n",
      "Epoch 28/100\n",
      "24/24 [==============================] - 57s 2s/step - loss: 0.0038 - sparse_categorical_accuracy: 0.9974 - val_loss: 0.0012 - val_sparse_categorical_accuracy: 1.0000\n",
      "Epoch 29/100\n",
      "24/24 [==============================] - 57s 2s/step - loss: 0.0320 - sparse_categorical_accuracy: 0.9922 - val_loss: 0.2531 - val_sparse_categorical_accuracy: 0.9196\n",
      "Epoch 30/100\n",
      "24/24 [==============================] - 56s 2s/step - loss: 0.0398 - sparse_categorical_accuracy: 0.9857 - val_loss: 2.2925 - val_sparse_categorical_accuracy: 0.7589\n",
      "Epoch 31/100\n",
      "24/24 [==============================] - 64s 3s/step - loss: 0.0965 - sparse_categorical_accuracy: 0.9648 - val_loss: 0.3846 - val_sparse_categorical_accuracy: 0.9152\n",
      "Epoch 32/100\n",
      "24/24 [==============================] - 68s 3s/step - loss: 0.0545 - sparse_categorical_accuracy: 0.9857 - val_loss: 0.0743 - val_sparse_categorical_accuracy: 0.9643\n",
      "Epoch 33/100\n",
      "24/24 [==============================] - 71s 3s/step - loss: 0.1225 - sparse_categorical_accuracy: 0.9544 - val_loss: 3.7980 - val_sparse_categorical_accuracy: 0.6875\n",
      "Epoch 34/100\n",
      "24/24 [==============================] - 68s 3s/step - loss: 0.0691 - sparse_categorical_accuracy: 0.9766 - val_loss: 3.2182 - val_sparse_categorical_accuracy: 0.4821\n",
      "Epoch 35/100\n",
      "24/24 [==============================] - 66s 3s/step - loss: 0.0360 - sparse_categorical_accuracy: 0.9857 - val_loss: 4.2192 - val_sparse_categorical_accuracy: 0.5179\n",
      "Epoch 36/100\n",
      "24/24 [==============================] - 68s 3s/step - loss: 0.0802 - sparse_categorical_accuracy: 0.9818 - val_loss: 33.2898 - val_sparse_categorical_accuracy: 0.6027\n",
      "Epoch 37/100\n",
      "24/24 [==============================] - 64s 3s/step - loss: 0.0331 - sparse_categorical_accuracy: 0.9870 - val_loss: 1.3515 - val_sparse_categorical_accuracy: 0.6339\n",
      "Epoch 38/100\n",
      "24/24 [==============================] - 57s 2s/step - loss: 0.4156 - sparse_categorical_accuracy: 0.9310 - val_loss: 1.7672 - val_sparse_categorical_accuracy: 0.7366\n",
      "Epoch 39/100\n",
      "24/24 [==============================] - 57s 2s/step - loss: 0.8545 - sparse_categorical_accuracy: 0.7812 - val_loss: 12538.0850 - val_sparse_categorical_accuracy: 0.5580\n",
      "Epoch 40/100\n",
      "24/24 [==============================] - 58s 2s/step - loss: 0.2489 - sparse_categorical_accuracy: 0.9062 - val_loss: 172.8168 - val_sparse_categorical_accuracy: 0.5089\n",
      "Epoch 41/100\n",
      "24/24 [==============================] - 57s 2s/step - loss: 0.1132 - sparse_categorical_accuracy: 0.9661 - val_loss: 11.0113 - val_sparse_categorical_accuracy: 0.6071\n",
      "Epoch 42/100\n",
      "24/24 [==============================] - 57s 2s/step - loss: 0.0490 - sparse_categorical_accuracy: 0.9844 - val_loss: 17.0732 - val_sparse_categorical_accuracy: 0.4509\n",
      "Epoch 43/100\n",
      "24/24 [==============================] - 56s 2s/step - loss: 0.0582 - sparse_categorical_accuracy: 0.9831 - val_loss: 2.7054 - val_sparse_categorical_accuracy: 0.7098\n",
      "Epoch 44/100\n",
      "24/24 [==============================] - 56s 2s/step - loss: 0.0516 - sparse_categorical_accuracy: 0.9831 - val_loss: 1.4826 - val_sparse_categorical_accuracy: 0.7054\n",
      "Epoch 45/100\n",
      "24/24 [==============================] - 56s 2s/step - loss: 0.0164 - sparse_categorical_accuracy: 0.9961 - val_loss: 0.6103 - val_sparse_categorical_accuracy: 0.8214\n",
      "Epoch 46/100\n",
      "24/24 [==============================] - 56s 2s/step - loss: 0.0215 - sparse_categorical_accuracy: 0.9909 - val_loss: 0.2085 - val_sparse_categorical_accuracy: 0.9107\n",
      "Epoch 47/100\n",
      "24/24 [==============================] - 56s 2s/step - loss: 0.0233 - sparse_categorical_accuracy: 0.9935 - val_loss: 0.1073 - val_sparse_categorical_accuracy: 0.9464\n",
      "Epoch 48/100\n",
      "24/24 [==============================] - 56s 2s/step - loss: 0.0100 - sparse_categorical_accuracy: 0.9974 - val_loss: 0.0167 - val_sparse_categorical_accuracy: 0.9955\n",
      "Epoch 49/100\n",
      "24/24 [==============================] - 56s 2s/step - loss: 0.0088 - sparse_categorical_accuracy: 0.9961 - val_loss: 0.0030 - val_sparse_categorical_accuracy: 1.0000\n",
      "Epoch 50/100\n",
      "24/24 [==============================] - 56s 2s/step - loss: 0.0043 - sparse_categorical_accuracy: 0.9987 - val_loss: 0.0028 - val_sparse_categorical_accuracy: 1.0000\n",
      "Epoch 51/100\n",
      "24/24 [==============================] - 57s 2s/step - loss: 0.0043 - sparse_categorical_accuracy: 0.9987 - val_loss: 7.5934e-04 - val_sparse_categorical_accuracy: 1.0000\n",
      "Epoch 52/100\n",
      "24/24 [==============================] - 56s 2s/step - loss: 0.0092 - sparse_categorical_accuracy: 0.9961 - val_loss: 0.0115 - val_sparse_categorical_accuracy: 0.9955\n",
      "Epoch 53/100\n",
      "24/24 [==============================] - 56s 2s/step - loss: 0.0012 - sparse_categorical_accuracy: 1.0000 - val_loss: 0.0475 - val_sparse_categorical_accuracy: 0.9911\n",
      "Epoch 54/100\n",
      "24/24 [==============================] - 57s 2s/step - loss: 0.0143 - sparse_categorical_accuracy: 0.9961 - val_loss: 0.0011 - val_sparse_categorical_accuracy: 1.0000\n",
      "Epoch 55/100\n",
      "24/24 [==============================] - 56s 2s/step - loss: 0.0113 - sparse_categorical_accuracy: 0.9974 - val_loss: 0.0011 - val_sparse_categorical_accuracy: 1.0000\n",
      "Epoch 56/100\n",
      "24/24 [==============================] - 56s 2s/step - loss: 0.0038 - sparse_categorical_accuracy: 0.9987 - val_loss: 0.0018 - val_sparse_categorical_accuracy: 1.0000\n",
      "Epoch 57/100\n",
      "24/24 [==============================] - 56s 2s/step - loss: 0.0071 - sparse_categorical_accuracy: 0.9987 - val_loss: 3.4724e-04 - val_sparse_categorical_accuracy: 1.0000\n",
      "Epoch 58/100\n",
      "24/24 [==============================] - 56s 2s/step - loss: 0.0020 - sparse_categorical_accuracy: 1.0000 - val_loss: 8.9277e-04 - val_sparse_categorical_accuracy: 1.0000\n",
      "Epoch 59/100\n",
      "24/24 [==============================] - 56s 2s/step - loss: 3.1874e-04 - sparse_categorical_accuracy: 1.0000 - val_loss: 0.0025 - val_sparse_categorical_accuracy: 1.0000\n",
      "Epoch 60/100\n",
      "24/24 [==============================] - 56s 2s/step - loss: 0.0051 - sparse_categorical_accuracy: 0.9974 - val_loss: 0.0013 - val_sparse_categorical_accuracy: 1.0000\n",
      "Epoch 61/100\n",
      "24/24 [==============================] - 56s 2s/step - loss: 0.0058 - sparse_categorical_accuracy: 0.9987 - val_loss: 0.0011 - val_sparse_categorical_accuracy: 1.0000\n",
      "Epoch 62/100\n",
      "24/24 [==============================] - 56s 2s/step - loss: 0.0103 - sparse_categorical_accuracy: 0.9961 - val_loss: 0.0014 - val_sparse_categorical_accuracy: 1.0000\n",
      "Epoch 63/100\n",
      "24/24 [==============================] - 56s 2s/step - loss: 0.0061 - sparse_categorical_accuracy: 0.9974 - val_loss: 5.7768e-04 - val_sparse_categorical_accuracy: 1.0000\n",
      "Epoch 64/100\n",
      "24/24 [==============================] - 56s 2s/step - loss: 0.0150 - sparse_categorical_accuracy: 0.9948 - val_loss: 0.6800 - val_sparse_categorical_accuracy: 0.8214\n",
      "Epoch 65/100\n",
      "24/24 [==============================] - 56s 2s/step - loss: 0.0174 - sparse_categorical_accuracy: 0.9961 - val_loss: 7.3991e-04 - val_sparse_categorical_accuracy: 1.0000\n",
      "Epoch 66/100\n",
      "24/24 [==============================] - 56s 2s/step - loss: 0.0107 - sparse_categorical_accuracy: 0.9987 - val_loss: 0.0219 - val_sparse_categorical_accuracy: 0.9911\n",
      "Epoch 67/100\n",
      "24/24 [==============================] - 57s 2s/step - loss: 0.0120 - sparse_categorical_accuracy: 0.9974 - val_loss: 0.0037 - val_sparse_categorical_accuracy: 1.0000\n",
      "Epoch 68/100\n",
      "24/24 [==============================] - 58s 2s/step - loss: 0.0029 - sparse_categorical_accuracy: 0.9987 - val_loss: 0.0047 - val_sparse_categorical_accuracy: 0.9955\n",
      "Epoch 69/100\n",
      "24/24 [==============================] - 58s 2s/step - loss: 0.0027 - sparse_categorical_accuracy: 0.9987 - val_loss: 0.0067 - val_sparse_categorical_accuracy: 0.9955\n",
      "Epoch 70/100\n",
      "24/24 [==============================] - 59s 2s/step - loss: 0.0092 - sparse_categorical_accuracy: 0.9974 - val_loss: 0.0012 - val_sparse_categorical_accuracy: 1.0000\n",
      "Epoch 71/100\n",
      "24/24 [==============================] - 58s 2s/step - loss: 0.0027 - sparse_categorical_accuracy: 0.9987 - val_loss: 0.0012 - val_sparse_categorical_accuracy: 1.0000\n",
      "Epoch 72/100\n",
      "24/24 [==============================] - 57s 2s/step - loss: 0.0209 - sparse_categorical_accuracy: 0.9935 - val_loss: 0.1160 - val_sparse_categorical_accuracy: 0.9464\n",
      "Epoch 73/100\n",
      "24/24 [==============================] - 58s 2s/step - loss: 0.0245 - sparse_categorical_accuracy: 0.9922 - val_loss: 0.1367 - val_sparse_categorical_accuracy: 0.9509\n",
      "Epoch 74/100\n",
      "24/24 [==============================] - 57s 2s/step - loss: 0.0094 - sparse_categorical_accuracy: 0.9961 - val_loss: 3.7864e-04 - val_sparse_categorical_accuracy: 1.0000\n",
      "Epoch 75/100\n",
      "24/24 [==============================] - 57s 2s/step - loss: 0.0020 - sparse_categorical_accuracy: 0.9987 - val_loss: 0.0013 - val_sparse_categorical_accuracy: 1.0000\n",
      "Epoch 76/100\n",
      "24/24 [==============================] - 56s 2s/step - loss: 0.0013 - sparse_categorical_accuracy: 1.0000 - val_loss: 8.0151e-04 - val_sparse_categorical_accuracy: 1.0000\n",
      "Epoch 77/100\n",
      "24/24 [==============================] - 56s 2s/step - loss: 0.0010 - sparse_categorical_accuracy: 1.0000 - val_loss: 0.0010 - val_sparse_categorical_accuracy: 1.0000\n",
      "Epoch 78/100\n",
      "24/24 [==============================] - 57s 2s/step - loss: 0.0027 - sparse_categorical_accuracy: 0.9974 - val_loss: 5.5231e-04 - val_sparse_categorical_accuracy: 1.0000\n",
      "Epoch 79/100\n",
      "24/24 [==============================] - 57s 2s/step - loss: 0.0110 - sparse_categorical_accuracy: 0.9948 - val_loss: 0.0013 - val_sparse_categorical_accuracy: 1.0000\n",
      "Epoch 80/100\n",
      "24/24 [==============================] - 56s 2s/step - loss: 0.0259 - sparse_categorical_accuracy: 0.9961 - val_loss: 4.3538 - val_sparse_categorical_accuracy: 0.6518\n",
      "Epoch 81/100\n",
      "24/24 [==============================] - 56s 2s/step - loss: 0.0130 - sparse_categorical_accuracy: 0.9922 - val_loss: 0.0249 - val_sparse_categorical_accuracy: 0.9911\n",
      "Epoch 82/100\n",
      "24/24 [==============================] - 56s 2s/step - loss: 0.0106 - sparse_categorical_accuracy: 0.9974 - val_loss: 0.0985 - val_sparse_categorical_accuracy: 0.9777\n",
      "Epoch 83/100\n",
      "24/24 [==============================] - 56s 2s/step - loss: 0.0035 - sparse_categorical_accuracy: 1.0000 - val_loss: 0.0185 - val_sparse_categorical_accuracy: 0.9911\n",
      "Epoch 84/100\n",
      "24/24 [==============================] - 56s 2s/step - loss: 3.0544e-04 - sparse_categorical_accuracy: 1.0000 - val_loss: 1.4806e-04 - val_sparse_categorical_accuracy: 1.0000\n",
      "Epoch 85/100\n",
      "24/24 [==============================] - 56s 2s/step - loss: 6.8135e-04 - sparse_categorical_accuracy: 1.0000 - val_loss: 2.1736e-04 - val_sparse_categorical_accuracy: 1.0000\n",
      "Epoch 86/100\n",
      "24/24 [==============================] - 56s 2s/step - loss: 0.0163 - sparse_categorical_accuracy: 0.9961 - val_loss: 2.1750e-04 - val_sparse_categorical_accuracy: 1.0000\n",
      "Epoch 87/100\n",
      "24/24 [==============================] - 56s 2s/step - loss: 0.0312 - sparse_categorical_accuracy: 0.9857 - val_loss: 0.0477 - val_sparse_categorical_accuracy: 0.9777\n",
      "Epoch 88/100\n",
      "24/24 [==============================] - 56s 2s/step - loss: 0.0393 - sparse_categorical_accuracy: 0.9857 - val_loss: 3.1992 - val_sparse_categorical_accuracy: 0.7232\n",
      "Epoch 89/100\n",
      "24/24 [==============================] - 56s 2s/step - loss: 0.0563 - sparse_categorical_accuracy: 0.9818 - val_loss: 0.9471 - val_sparse_categorical_accuracy: 0.8438\n",
      "Epoch 90/100\n",
      "24/24 [==============================] - 56s 2s/step - loss: 0.1044 - sparse_categorical_accuracy: 0.9688 - val_loss: 0.5755 - val_sparse_categorical_accuracy: 0.8125\n",
      "Epoch 91/100\n",
      "24/24 [==============================] - 56s 2s/step - loss: 0.0543 - sparse_categorical_accuracy: 0.9818 - val_loss: 2.1598 - val_sparse_categorical_accuracy: 0.6518\n",
      "Epoch 92/100\n",
      "24/24 [==============================] - 57s 2s/step - loss: 0.0631 - sparse_categorical_accuracy: 0.9779 - val_loss: 1.4037 - val_sparse_categorical_accuracy: 0.7188\n",
      "Epoch 93/100\n",
      "24/24 [==============================] - 57s 2s/step - loss: 0.0257 - sparse_categorical_accuracy: 0.9909 - val_loss: 0.7698 - val_sparse_categorical_accuracy: 0.8304\n",
      "Epoch 94/100\n",
      "24/24 [==============================] - 57s 2s/step - loss: 0.0092 - sparse_categorical_accuracy: 0.9987 - val_loss: 0.2365 - val_sparse_categorical_accuracy: 0.9286\n",
      "Epoch 95/100\n",
      "24/24 [==============================] - 57s 2s/step - loss: 0.0179 - sparse_categorical_accuracy: 0.9961 - val_loss: 0.1252 - val_sparse_categorical_accuracy: 0.9732\n",
      "Epoch 96/100\n",
      "24/24 [==============================] - 59s 2s/step - loss: 0.0220 - sparse_categorical_accuracy: 0.9935 - val_loss: 9.4568e-04 - val_sparse_categorical_accuracy: 1.0000\n",
      "Epoch 97/100\n",
      "24/24 [==============================] - 59s 2s/step - loss: 0.0127 - sparse_categorical_accuracy: 0.9961 - val_loss: 0.0883 - val_sparse_categorical_accuracy: 0.9688\n",
      "Epoch 98/100\n",
      "24/24 [==============================] - 60s 3s/step - loss: 0.0014 - sparse_categorical_accuracy: 1.0000 - val_loss: 1.6455e-04 - val_sparse_categorical_accuracy: 1.0000\n",
      "Epoch 99/100\n",
      "24/24 [==============================] - 58s 2s/step - loss: 0.0072 - sparse_categorical_accuracy: 0.9987 - val_loss: 0.0045 - val_sparse_categorical_accuracy: 0.9955\n",
      "Epoch 100/100\n",
      "24/24 [==============================] - 60s 3s/step - loss: 0.0047 - sparse_categorical_accuracy: 0.9974 - val_loss: 0.2390 - val_sparse_categorical_accuracy: 0.9598\n"
     ]
    }
   ],
   "source": [
    "base_model = DenseNet121(weights=None, include_top=False, input_shape=input_shape)\n",
    "\n",
    "DenseNet121 = Sequential()\n",
    "DenseNet121.add(base_model)\n",
    "DenseNet121.add(Flatten())\n",
    "DenseNet121.add(Dense(128, activation='relu'))\n",
    "DenseNet121.add(Dense(3, activation='softmax'))\n",
    "\n",
    "DenseNet121.compile(\n",
    "    optimizer=\"adam\",\n",
    "    loss=\"sparse_categorical_crossentropy\",\n",
    "    metrics=[\"sparse_categorical_accuracy\"],\n",
    ")\n",
    "\n",
    "DN_history = DenseNet121.fit(train, epochs = 100, validation_data = val, callbacks = [tensorboard_callback])"
   ]
  },
  {
   "cell_type": "code",
   "execution_count": 139,
   "id": "fa524ef0-80df-4b75-a266-37dc1444ba9b",
   "metadata": {},
   "outputs": [],
   "source": [
    "DN_Metrics = {\"Accuracy\":0, \"Loss\":0 , \"Recall\":0, \"Precision\":0, \"F1\":0}"
   ]
  },
  {
   "cell_type": "code",
   "execution_count": 151,
   "id": "1f4de879-bb3d-4bcd-89f8-d2498b67fae6",
   "metadata": {},
   "outputs": [
    {
     "name": "stdout",
     "output_type": "stream",
     "text": [
      "3/3 [==============================] - 2s 684ms/step - loss: 0.1336 - sparse_categorical_accuracy: 0.9688\n"
     ]
    }
   ],
   "source": [
    "loss, accuracy = DenseNet121.evaluate(test)"
   ]
  },
  {
   "cell_type": "code",
   "execution_count": 152,
   "id": "1a29b493-6e8e-436f-8758-d7aa70a19826",
   "metadata": {},
   "outputs": [
    {
     "name": "stdout",
     "output_type": "stream",
     "text": [
      "1/1 [==============================] - 1s 683ms/step\n",
      "1/1 [==============================] - 1s 681ms/step\n",
      "1/1 [==============================] - 1s 687ms/step\n"
     ]
    }
   ],
   "source": [
    "labels = []\n",
    "y_pred = []\n",
    "for batch in test.as_numpy_iterator():\n",
    "    X,y = batch\n",
    "    labels.append(y)\n",
    "    y_predictions = tf.argmax(DenseNet121.predict(X), axis=1)\n",
    "    for pred in y_predictions: \n",
    "        y_pred.append(pred)\n",
    "y_true = []\n",
    "for label in labels:\n",
    "    for i in label:\n",
    "        y_true.append(i)"
   ]
  },
  {
   "cell_type": "code",
   "execution_count": 153,
   "id": "4f2e87de-7a1b-4b87-8a5b-ce1a73b316d4",
   "metadata": {},
   "outputs": [],
   "source": [
    "precision = precision_score(y_true, y_pred, average='weighted')\n",
    "recall = recall_score(y_true, y_pred, average = \"weighted\")\n",
    "f1 = f1_score(y_true, y_pred, average='weighted')"
   ]
  },
  {
   "cell_type": "code",
   "execution_count": 154,
   "id": "cfd9d6b4-7951-40e9-85f0-94fb365eb2b2",
   "metadata": {},
   "outputs": [],
   "source": [
    "DN_Metrics[\"Accuracy\"] = accuracy\n",
    "DN_Metrics[\"Loss\"] = loss\n",
    "DN_Metrics[\"Precision\"] = precision\n",
    "DN_Metrics[\"Recall\"] = recall\n",
    "DN_Metrics[\"F1\"] = f1"
   ]
  },
  {
   "cell_type": "code",
   "execution_count": 155,
   "id": "0864fe07-3be3-4a35-acd1-e25e26d8ae9b",
   "metadata": {},
   "outputs": [
    {
     "name": "stdout",
     "output_type": "stream",
     "text": [
      "{'Accuracy': 0.96875, 'Loss': 0.13356222212314606, 'Recall': 0.9479166666666666, 'Precision': 0.9547697368421053, 'F1': 0.9485195262483995}\n"
     ]
    }
   ],
   "source": [
    "print(DN_Metrics)"
   ]
  },
  {
   "cell_type": "markdown",
   "id": "f03fff56-21a7-4ac8-851b-43240d0adf0a",
   "metadata": {},
   "source": [
    "### ResNet50 Results."
   ]
  },
  {
   "cell_type": "code",
   "execution_count": 156,
   "id": "c4b8f7c8-f4d6-4ff6-a1b0-406bfe36df39",
   "metadata": {},
   "outputs": [
    {
     "name": "stdout",
     "output_type": "stream",
     "text": [
      "Epoch 1/100\n",
      "24/24 [==============================] - 59s 2s/step - loss: 28.5774 - sparse_categorical_accuracy: 0.4062 - val_loss: 17891536.0000 - val_sparse_categorical_accuracy: 0.3973\n",
      "Epoch 2/100\n",
      "24/24 [==============================] - 56s 2s/step - loss: 2.9294 - sparse_categorical_accuracy: 0.5612 - val_loss: 553577.1250 - val_sparse_categorical_accuracy: 0.3527\n",
      "Epoch 3/100\n",
      "24/24 [==============================] - 58s 2s/step - loss: 3.4181 - sparse_categorical_accuracy: 0.5846 - val_loss: 6181.1045 - val_sparse_categorical_accuracy: 0.3661\n",
      "Epoch 4/100\n",
      "24/24 [==============================] - 61s 3s/step - loss: 5.5209 - sparse_categorical_accuracy: 0.5221 - val_loss: 21970.1211 - val_sparse_categorical_accuracy: 0.3750\n",
      "Epoch 5/100\n",
      "24/24 [==============================] - 59s 2s/step - loss: 2.0559 - sparse_categorical_accuracy: 0.5859 - val_loss: 330.2283 - val_sparse_categorical_accuracy: 0.3527\n",
      "Epoch 6/100\n",
      "24/24 [==============================] - 60s 3s/step - loss: 1.1281 - sparse_categorical_accuracy: 0.6732 - val_loss: 0.9709 - val_sparse_categorical_accuracy: 0.6250\n",
      "Epoch 7/100\n",
      "24/24 [==============================] - 59s 2s/step - loss: 0.7907 - sparse_categorical_accuracy: 0.7305 - val_loss: 0.9027 - val_sparse_categorical_accuracy: 0.6384\n",
      "Epoch 8/100\n",
      "24/24 [==============================] - 58s 2s/step - loss: 1.3498 - sparse_categorical_accuracy: 0.7474 - val_loss: 0.9326 - val_sparse_categorical_accuracy: 0.5714\n",
      "Epoch 9/100\n",
      "24/24 [==============================] - 58s 2s/step - loss: 0.6118 - sparse_categorical_accuracy: 0.8138 - val_loss: 0.7892 - val_sparse_categorical_accuracy: 0.6562\n",
      "Epoch 10/100\n",
      "24/24 [==============================] - 58s 2s/step - loss: 0.1924 - sparse_categorical_accuracy: 0.9388 - val_loss: 0.8739 - val_sparse_categorical_accuracy: 0.6295\n",
      "Epoch 11/100\n",
      "24/24 [==============================] - 58s 2s/step - loss: 0.3564 - sparse_categorical_accuracy: 0.9427 - val_loss: 0.9644 - val_sparse_categorical_accuracy: 0.5938\n",
      "Epoch 12/100\n",
      "24/24 [==============================] - 58s 2s/step - loss: 0.9621 - sparse_categorical_accuracy: 0.9466 - val_loss: 0.7956 - val_sparse_categorical_accuracy: 0.7054\n",
      "Epoch 13/100\n",
      "24/24 [==============================] - 58s 2s/step - loss: 1.3221 - sparse_categorical_accuracy: 0.7747 - val_loss: 2973.2754 - val_sparse_categorical_accuracy: 0.3929\n",
      "Epoch 14/100\n",
      "24/24 [==============================] - 58s 2s/step - loss: 1.1197 - sparse_categorical_accuracy: 0.8698 - val_loss: 0.8317 - val_sparse_categorical_accuracy: 0.5714\n",
      "Epoch 15/100\n",
      "24/24 [==============================] - 58s 2s/step - loss: 0.1943 - sparse_categorical_accuracy: 0.9245 - val_loss: 0.4113 - val_sparse_categorical_accuracy: 0.8080\n",
      "Epoch 16/100\n",
      "24/24 [==============================] - 58s 2s/step - loss: 0.0871 - sparse_categorical_accuracy: 0.9727 - val_loss: 0.2401 - val_sparse_categorical_accuracy: 0.8973\n",
      "Epoch 17/100\n",
      "24/24 [==============================] - 58s 2s/step - loss: 0.4200 - sparse_categorical_accuracy: 0.9505 - val_loss: 182.7835 - val_sparse_categorical_accuracy: 0.3571\n",
      "Epoch 18/100\n",
      "24/24 [==============================] - 58s 2s/step - loss: 0.1593 - sparse_categorical_accuracy: 0.9388 - val_loss: 38.9628 - val_sparse_categorical_accuracy: 0.3750\n",
      "Epoch 19/100\n",
      "24/24 [==============================] - 58s 2s/step - loss: 0.0792 - sparse_categorical_accuracy: 0.9792 - val_loss: 1.2598 - val_sparse_categorical_accuracy: 0.8080\n",
      "Epoch 20/100\n",
      "24/24 [==============================] - 58s 2s/step - loss: 0.0757 - sparse_categorical_accuracy: 0.9740 - val_loss: 0.1829 - val_sparse_categorical_accuracy: 0.9286\n",
      "Epoch 21/100\n",
      "24/24 [==============================] - 58s 2s/step - loss: 0.3222 - sparse_categorical_accuracy: 0.9661 - val_loss: 0.0566 - val_sparse_categorical_accuracy: 0.9821\n",
      "Epoch 22/100\n",
      "24/24 [==============================] - 58s 2s/step - loss: 0.2385 - sparse_categorical_accuracy: 0.9661 - val_loss: 2.3533 - val_sparse_categorical_accuracy: 0.9330\n",
      "Epoch 23/100\n",
      "24/24 [==============================] - 58s 2s/step - loss: 0.5726 - sparse_categorical_accuracy: 0.9466 - val_loss: 427.5500 - val_sparse_categorical_accuracy: 0.3839\n",
      "Epoch 24/100\n",
      "24/24 [==============================] - 58s 2s/step - loss: 0.2114 - sparse_categorical_accuracy: 0.9583 - val_loss: 68.7355 - val_sparse_categorical_accuracy: 0.4062\n",
      "Epoch 25/100\n",
      "24/24 [==============================] - 58s 2s/step - loss: 0.4275 - sparse_categorical_accuracy: 0.9674 - val_loss: 0.2883 - val_sparse_categorical_accuracy: 0.8884\n",
      "Epoch 26/100\n",
      "24/24 [==============================] - 58s 2s/step - loss: 0.1068 - sparse_categorical_accuracy: 0.9896 - val_loss: 0.1531 - val_sparse_categorical_accuracy: 0.9286\n",
      "Epoch 27/100\n",
      "24/24 [==============================] - 58s 2s/step - loss: 0.5120 - sparse_categorical_accuracy: 0.9753 - val_loss: 2.7062 - val_sparse_categorical_accuracy: 0.5446\n",
      "Epoch 28/100\n",
      "24/24 [==============================] - 58s 2s/step - loss: 0.3616 - sparse_categorical_accuracy: 0.9440 - val_loss: 1.4147 - val_sparse_categorical_accuracy: 0.7009\n",
      "Epoch 29/100\n",
      "24/24 [==============================] - 58s 2s/step - loss: 0.3082 - sparse_categorical_accuracy: 0.9635 - val_loss: 1.9037 - val_sparse_categorical_accuracy: 0.5759\n",
      "Epoch 30/100\n",
      "24/24 [==============================] - 58s 2s/step - loss: 0.6759 - sparse_categorical_accuracy: 0.8581 - val_loss: 2138.8530 - val_sparse_categorical_accuracy: 0.3750\n",
      "Epoch 31/100\n",
      "24/24 [==============================] - 58s 2s/step - loss: 0.1861 - sparse_categorical_accuracy: 0.9648 - val_loss: 2434.8401 - val_sparse_categorical_accuracy: 0.0938\n",
      "Epoch 32/100\n",
      "24/24 [==============================] - 58s 2s/step - loss: 0.1966 - sparse_categorical_accuracy: 0.9714 - val_loss: 121.6564 - val_sparse_categorical_accuracy: 0.3973\n",
      "Epoch 33/100\n",
      "24/24 [==============================] - 58s 2s/step - loss: 0.1004 - sparse_categorical_accuracy: 0.9766 - val_loss: 3.3980 - val_sparse_categorical_accuracy: 0.4554\n",
      "Epoch 34/100\n",
      "24/24 [==============================] - 58s 2s/step - loss: 0.0259 - sparse_categorical_accuracy: 0.9948 - val_loss: 0.6530 - val_sparse_categorical_accuracy: 0.8036\n",
      "Epoch 35/100\n",
      "24/24 [==============================] - 58s 2s/step - loss: 0.1279 - sparse_categorical_accuracy: 0.9857 - val_loss: 0.4661 - val_sparse_categorical_accuracy: 0.8571\n",
      "Epoch 36/100\n",
      "24/24 [==============================] - 58s 2s/step - loss: 0.3027 - sparse_categorical_accuracy: 0.9609 - val_loss: 0.2897 - val_sparse_categorical_accuracy: 0.8929\n",
      "Epoch 37/100\n",
      "24/24 [==============================] - 58s 2s/step - loss: 0.8049 - sparse_categorical_accuracy: 0.8359 - val_loss: 192.1328 - val_sparse_categorical_accuracy: 0.5938\n",
      "Epoch 38/100\n",
      "24/24 [==============================] - 58s 2s/step - loss: 0.3508 - sparse_categorical_accuracy: 0.9375 - val_loss: 0.3288 - val_sparse_categorical_accuracy: 0.8929\n",
      "Epoch 39/100\n",
      "24/24 [==============================] - 58s 2s/step - loss: 0.1344 - sparse_categorical_accuracy: 0.9740 - val_loss: 157.2017 - val_sparse_categorical_accuracy: 0.3304\n",
      "Epoch 40/100\n",
      "24/24 [==============================] - 58s 2s/step - loss: 0.0645 - sparse_categorical_accuracy: 0.9818 - val_loss: 28.6780 - val_sparse_categorical_accuracy: 0.3348\n",
      "Epoch 41/100\n",
      "24/24 [==============================] - 58s 2s/step - loss: 0.0164 - sparse_categorical_accuracy: 0.9948 - val_loss: 0.1409 - val_sparse_categorical_accuracy: 0.9286\n",
      "Epoch 42/100\n",
      "24/24 [==============================] - 58s 2s/step - loss: 0.0103 - sparse_categorical_accuracy: 0.9974 - val_loss: 0.0152 - val_sparse_categorical_accuracy: 0.9955\n",
      "Epoch 43/100\n",
      "24/24 [==============================] - 58s 2s/step - loss: 0.0170 - sparse_categorical_accuracy: 0.9922 - val_loss: 0.0058 - val_sparse_categorical_accuracy: 1.0000\n",
      "Epoch 44/100\n",
      "24/24 [==============================] - 58s 2s/step - loss: 0.0220 - sparse_categorical_accuracy: 0.9935 - val_loss: 0.0032 - val_sparse_categorical_accuracy: 1.0000\n",
      "Epoch 45/100\n",
      "24/24 [==============================] - 58s 2s/step - loss: 0.0141 - sparse_categorical_accuracy: 0.9974 - val_loss: 0.0029 - val_sparse_categorical_accuracy: 1.0000\n",
      "Epoch 46/100\n",
      "24/24 [==============================] - 58s 2s/step - loss: 0.0081 - sparse_categorical_accuracy: 0.9974 - val_loss: 0.0017 - val_sparse_categorical_accuracy: 1.0000\n",
      "Epoch 47/100\n",
      "24/24 [==============================] - 58s 2s/step - loss: 0.0062 - sparse_categorical_accuracy: 0.9987 - val_loss: 0.0013 - val_sparse_categorical_accuracy: 1.0000\n",
      "Epoch 48/100\n",
      "24/24 [==============================] - 58s 2s/step - loss: 0.0043 - sparse_categorical_accuracy: 0.9987 - val_loss: 0.0163 - val_sparse_categorical_accuracy: 0.9955\n",
      "Epoch 49/100\n",
      "24/24 [==============================] - 58s 2s/step - loss: 0.0128 - sparse_categorical_accuracy: 0.9948 - val_loss: 0.0101 - val_sparse_categorical_accuracy: 0.9955\n",
      "Epoch 50/100\n",
      "24/24 [==============================] - 58s 2s/step - loss: 0.0025 - sparse_categorical_accuracy: 1.0000 - val_loss: 0.0137 - val_sparse_categorical_accuracy: 0.9955\n",
      "Epoch 51/100\n",
      "24/24 [==============================] - 58s 2s/step - loss: 0.0014 - sparse_categorical_accuracy: 1.0000 - val_loss: 0.0068 - val_sparse_categorical_accuracy: 0.9955\n",
      "Epoch 52/100\n",
      "24/24 [==============================] - 58s 2s/step - loss: 0.0017 - sparse_categorical_accuracy: 0.9987 - val_loss: 0.0169 - val_sparse_categorical_accuracy: 0.9955\n",
      "Epoch 53/100\n",
      "24/24 [==============================] - 58s 2s/step - loss: 0.0088 - sparse_categorical_accuracy: 0.9974 - val_loss: 2.7482e-04 - val_sparse_categorical_accuracy: 1.0000\n",
      "Epoch 54/100\n",
      "24/24 [==============================] - 58s 2s/step - loss: 0.0542 - sparse_categorical_accuracy: 0.9974 - val_loss: 0.0236 - val_sparse_categorical_accuracy: 0.9955\n",
      "Epoch 55/100\n",
      "24/24 [==============================] - 58s 2s/step - loss: 0.0302 - sparse_categorical_accuracy: 0.9896 - val_loss: 0.0103 - val_sparse_categorical_accuracy: 0.9955\n",
      "Epoch 56/100\n",
      "24/24 [==============================] - 58s 2s/step - loss: 0.0282 - sparse_categorical_accuracy: 0.9909 - val_loss: 0.0977 - val_sparse_categorical_accuracy: 0.9554\n",
      "Epoch 57/100\n",
      "24/24 [==============================] - 58s 2s/step - loss: 0.0156 - sparse_categorical_accuracy: 0.9961 - val_loss: 0.0024 - val_sparse_categorical_accuracy: 1.0000\n",
      "Epoch 58/100\n",
      "24/24 [==============================] - 58s 2s/step - loss: 0.0086 - sparse_categorical_accuracy: 0.9961 - val_loss: 0.0092 - val_sparse_categorical_accuracy: 0.9955\n",
      "Epoch 59/100\n",
      "24/24 [==============================] - 58s 2s/step - loss: 0.0170 - sparse_categorical_accuracy: 0.9974 - val_loss: 0.0088 - val_sparse_categorical_accuracy: 0.9955\n",
      "Epoch 60/100\n",
      "24/24 [==============================] - 58s 2s/step - loss: 0.0179 - sparse_categorical_accuracy: 0.9974 - val_loss: 0.0025 - val_sparse_categorical_accuracy: 1.0000\n",
      "Epoch 61/100\n",
      "24/24 [==============================] - 60s 2s/step - loss: 0.0066 - sparse_categorical_accuracy: 0.9974 - val_loss: 7.0244e-04 - val_sparse_categorical_accuracy: 1.0000\n",
      "Epoch 62/100\n",
      "24/24 [==============================] - 58s 2s/step - loss: 0.0035 - sparse_categorical_accuracy: 0.9987 - val_loss: 6.0552e-04 - val_sparse_categorical_accuracy: 1.0000\n",
      "Epoch 63/100\n",
      "24/24 [==============================] - 58s 2s/step - loss: 6.8972e-04 - sparse_categorical_accuracy: 1.0000 - val_loss: 2.6115e-04 - val_sparse_categorical_accuracy: 1.0000\n",
      "Epoch 64/100\n",
      "24/24 [==============================] - 58s 2s/step - loss: 0.0019 - sparse_categorical_accuracy: 0.9987 - val_loss: 3.9341e-05 - val_sparse_categorical_accuracy: 1.0000\n",
      "Epoch 65/100\n",
      "24/24 [==============================] - 58s 2s/step - loss: 9.7866e-04 - sparse_categorical_accuracy: 1.0000 - val_loss: 0.0018 - val_sparse_categorical_accuracy: 1.0000\n",
      "Epoch 66/100\n",
      "24/24 [==============================] - 58s 2s/step - loss: 4.6320e-04 - sparse_categorical_accuracy: 1.0000 - val_loss: 4.6307e-04 - val_sparse_categorical_accuracy: 1.0000\n",
      "Epoch 67/100\n",
      "24/24 [==============================] - 58s 2s/step - loss: 5.0040e-04 - sparse_categorical_accuracy: 1.0000 - val_loss: 5.2770e-05 - val_sparse_categorical_accuracy: 1.0000\n",
      "Epoch 68/100\n",
      "24/24 [==============================] - 58s 2s/step - loss: 1.5177e-04 - sparse_categorical_accuracy: 1.0000 - val_loss: 4.8567e-05 - val_sparse_categorical_accuracy: 1.0000\n",
      "Epoch 69/100\n",
      "24/24 [==============================] - 58s 2s/step - loss: 8.9185e-05 - sparse_categorical_accuracy: 1.0000 - val_loss: 5.2742e-05 - val_sparse_categorical_accuracy: 1.0000\n",
      "Epoch 70/100\n",
      "24/24 [==============================] - 58s 2s/step - loss: 6.8106e-05 - sparse_categorical_accuracy: 1.0000 - val_loss: 2.6843e-05 - val_sparse_categorical_accuracy: 1.0000\n",
      "Epoch 71/100\n",
      "24/24 [==============================] - 58s 2s/step - loss: 3.6473e-05 - sparse_categorical_accuracy: 1.0000 - val_loss: 4.1941e-05 - val_sparse_categorical_accuracy: 1.0000\n",
      "Epoch 72/100\n",
      "24/24 [==============================] - 58s 2s/step - loss: 8.3618e-05 - sparse_categorical_accuracy: 1.0000 - val_loss: 4.0576e-05 - val_sparse_categorical_accuracy: 1.0000\n",
      "Epoch 73/100\n",
      "24/24 [==============================] - 58s 2s/step - loss: 8.4773e-05 - sparse_categorical_accuracy: 1.0000 - val_loss: 3.3638e-05 - val_sparse_categorical_accuracy: 1.0000\n",
      "Epoch 74/100\n",
      "24/24 [==============================] - 59s 2s/step - loss: 6.6447e-05 - sparse_categorical_accuracy: 1.0000 - val_loss: 3.5275e-05 - val_sparse_categorical_accuracy: 1.0000\n",
      "Epoch 75/100\n",
      "24/24 [==============================] - 61s 3s/step - loss: 5.9180e-05 - sparse_categorical_accuracy: 1.0000 - val_loss: 1.9513e-05 - val_sparse_categorical_accuracy: 1.0000\n",
      "Epoch 76/100\n",
      "24/24 [==============================] - 60s 2s/step - loss: 5.1841e-05 - sparse_categorical_accuracy: 1.0000 - val_loss: 1.5828e-05 - val_sparse_categorical_accuracy: 1.0000\n",
      "Epoch 77/100\n",
      "24/24 [==============================] - 61s 3s/step - loss: 4.8609e-05 - sparse_categorical_accuracy: 1.0000 - val_loss: 1.6287e-05 - val_sparse_categorical_accuracy: 1.0000\n",
      "Epoch 78/100\n",
      "24/24 [==============================] - 60s 3s/step - loss: 3.4084e-05 - sparse_categorical_accuracy: 1.0000 - val_loss: 2.4545e-05 - val_sparse_categorical_accuracy: 1.0000\n",
      "Epoch 79/100\n",
      "24/24 [==============================] - 63s 3s/step - loss: 5.1891e-05 - sparse_categorical_accuracy: 1.0000 - val_loss: 1.4264e-05 - val_sparse_categorical_accuracy: 1.0000\n",
      "Epoch 80/100\n",
      "24/24 [==============================] - 60s 3s/step - loss: 1.9355e-04 - sparse_categorical_accuracy: 1.0000 - val_loss: 1.5477e-05 - val_sparse_categorical_accuracy: 1.0000\n",
      "Epoch 81/100\n",
      "24/24 [==============================] - 59s 2s/step - loss: 5.9801e-05 - sparse_categorical_accuracy: 1.0000 - val_loss: 2.5087e-05 - val_sparse_categorical_accuracy: 1.0000\n",
      "Epoch 82/100\n",
      "24/24 [==============================] - 59s 2s/step - loss: 3.9346e-05 - sparse_categorical_accuracy: 1.0000 - val_loss: 2.7460e-05 - val_sparse_categorical_accuracy: 1.0000\n",
      "Epoch 83/100\n",
      "24/24 [==============================] - 60s 2s/step - loss: 5.1400e-05 - sparse_categorical_accuracy: 1.0000 - val_loss: 1.7174e-05 - val_sparse_categorical_accuracy: 1.0000\n",
      "Epoch 84/100\n",
      "24/24 [==============================] - 60s 3s/step - loss: 5.2539e-05 - sparse_categorical_accuracy: 1.0000 - val_loss: 1.8981e-05 - val_sparse_categorical_accuracy: 1.0000\n",
      "Epoch 85/100\n",
      "24/24 [==============================] - 65s 3s/step - loss: 4.6378e-05 - sparse_categorical_accuracy: 1.0000 - val_loss: 1.8752e-05 - val_sparse_categorical_accuracy: 1.0000\n",
      "Epoch 86/100\n",
      "24/24 [==============================] - 68s 3s/step - loss: 3.8623e-05 - sparse_categorical_accuracy: 1.0000 - val_loss: 1.9319e-05 - val_sparse_categorical_accuracy: 1.0000\n",
      "Epoch 87/100\n",
      "24/24 [==============================] - 65s 3s/step - loss: 2.8644e-05 - sparse_categorical_accuracy: 1.0000 - val_loss: 2.6677e-05 - val_sparse_categorical_accuracy: 1.0000\n",
      "Epoch 88/100\n",
      "24/24 [==============================] - 62s 3s/step - loss: 3.3470e-05 - sparse_categorical_accuracy: 1.0000 - val_loss: 1.7286e-05 - val_sparse_categorical_accuracy: 1.0000\n",
      "Epoch 89/100\n",
      "24/24 [==============================] - 60s 2s/step - loss: 3.8762e-05 - sparse_categorical_accuracy: 1.0000 - val_loss: 1.3971e-05 - val_sparse_categorical_accuracy: 1.0000\n",
      "Epoch 90/100\n",
      "24/24 [==============================] - 68s 3s/step - loss: 2.7209e-05 - sparse_categorical_accuracy: 1.0000 - val_loss: 1.4971e-05 - val_sparse_categorical_accuracy: 1.0000\n",
      "Epoch 91/100\n",
      "24/24 [==============================] - 66s 3s/step - loss: 2.0282e-05 - sparse_categorical_accuracy: 1.0000 - val_loss: 1.1129e-05 - val_sparse_categorical_accuracy: 1.0000\n",
      "Epoch 92/100\n",
      "24/24 [==============================] - 61s 3s/step - loss: 1.7964e-05 - sparse_categorical_accuracy: 1.0000 - val_loss: 2.0603e-05 - val_sparse_categorical_accuracy: 1.0000\n",
      "Epoch 93/100\n",
      "24/24 [==============================] - 65s 3s/step - loss: 1.4838e-05 - sparse_categorical_accuracy: 1.0000 - val_loss: 7.7524e-06 - val_sparse_categorical_accuracy: 1.0000\n",
      "Epoch 94/100\n",
      "24/24 [==============================] - 68s 3s/step - loss: 1.5363e-05 - sparse_categorical_accuracy: 1.0000 - val_loss: 1.1777e-05 - val_sparse_categorical_accuracy: 1.0000\n",
      "Epoch 95/100\n",
      "24/24 [==============================] - 70s 3s/step - loss: 2.5300e-05 - sparse_categorical_accuracy: 1.0000 - val_loss: 8.2631e-06 - val_sparse_categorical_accuracy: 1.0000\n",
      "Epoch 96/100\n",
      "24/24 [==============================] - 61s 3s/step - loss: 2.0704e-05 - sparse_categorical_accuracy: 1.0000 - val_loss: 9.6180e-06 - val_sparse_categorical_accuracy: 1.0000\n",
      "Epoch 97/100\n",
      "24/24 [==============================] - 66s 3s/step - loss: 2.2526e-05 - sparse_categorical_accuracy: 1.0000 - val_loss: 8.0290e-06 - val_sparse_categorical_accuracy: 1.0000\n",
      "Epoch 98/100\n",
      "24/24 [==============================] - 65s 3s/step - loss: 2.0027e-05 - sparse_categorical_accuracy: 1.0000 - val_loss: 1.0425e-05 - val_sparse_categorical_accuracy: 1.0000\n",
      "Epoch 99/100\n",
      "24/24 [==============================] - 69s 3s/step - loss: 1.6697e-05 - sparse_categorical_accuracy: 1.0000 - val_loss: 9.0716e-06 - val_sparse_categorical_accuracy: 1.0000\n",
      "Epoch 100/100\n",
      "24/24 [==============================] - 69s 3s/step - loss: 1.3597e-05 - sparse_categorical_accuracy: 1.0000 - val_loss: 8.6529e-06 - val_sparse_categorical_accuracy: 1.0000\n"
     ]
    }
   ],
   "source": [
    "base_model = ResNet50(weights=None, include_top=False, input_shape=input_shape)\n",
    "\n",
    "\n",
    "ResNet50 = Sequential()\n",
    "ResNet50.add(base_model)\n",
    "ResNet50.add(Flatten())\n",
    "ResNet50.add(Dense(128, activation='relu'))\n",
    "ResNet50.add(Dense(3, activation='softmax'))\n",
    "\n",
    "ResNet50.compile(\n",
    "    optimizer=\"adam\",\n",
    "    loss=\"sparse_categorical_crossentropy\",\n",
    "    metrics=[\"sparse_categorical_accuracy\"],\n",
    ")\n",
    "\n",
    "RN_history = ResNet50.fit(train, epochs = 100, validation_data = val, callbacks = [tensorboard_callback])"
   ]
  },
  {
   "cell_type": "code",
   "execution_count": 157,
   "id": "db5cc488-d229-44a8-9519-2d15b5b8d79d",
   "metadata": {},
   "outputs": [],
   "source": [
    "RN_Metrics = {\"Accuracy\":0, \"Loss\":0, \"Recall\":0, \"Precision\":0, \"F1\":0}"
   ]
  },
  {
   "cell_type": "code",
   "execution_count": 158,
   "id": "a029e1b1-54c2-4026-b718-7bb9334b3e15",
   "metadata": {},
   "outputs": [
    {
     "name": "stdout",
     "output_type": "stream",
     "text": [
      "3/3 [==============================] - 2s 796ms/step - loss: 3.0832e-06 - sparse_categorical_accuracy: 1.0000\n"
     ]
    }
   ],
   "source": [
    "loss, accuracy = ResNet50.evaluate(test)"
   ]
  },
  {
   "cell_type": "code",
   "execution_count": 159,
   "id": "c83c0dbd-bda7-4519-9a21-3132f736c537",
   "metadata": {},
   "outputs": [
    {
     "name": "stdout",
     "output_type": "stream",
     "text": [
      "1/1 [==============================] - 1s 1s/step\n",
      "1/1 [==============================] - 1s 790ms/step\n",
      "1/1 [==============================] - 1s 824ms/step\n"
     ]
    }
   ],
   "source": [
    "labels = []\n",
    "y_pred = []\n",
    "for batch in test.as_numpy_iterator():\n",
    "    X,y = batch\n",
    "    labels.append(y)\n",
    "    y_predictions = tf.argmax(ResNet50.predict(X), axis=1)\n",
    "    for pred in y_predictions: \n",
    "        y_pred.append(pred)\n",
    "y_true = []\n",
    "for label in labels:\n",
    "    for i in label:\n",
    "        y_true.append(i)"
   ]
  },
  {
   "cell_type": "code",
   "execution_count": 160,
   "id": "6000620d-af52-4b20-b85d-c7a97c6c7ed7",
   "metadata": {},
   "outputs": [],
   "source": [
    "precision = precision_score(y_true, y_pred, average='weighted')\n",
    "recall = recall_score(y_true, y_pred, average = \"weighted\")\n",
    "f1 = f1_score(y_true, y_pred, average='weighted')"
   ]
  },
  {
   "cell_type": "code",
   "execution_count": 161,
   "id": "1a8b594a-fad7-48d1-8438-08a9a0de3475",
   "metadata": {},
   "outputs": [],
   "source": [
    "RN_Metrics[\"Accuracy\"] = accuracy\n",
    "RN_Metrics[\"Loss\"] = loss\n",
    "RN_Metrics[\"Precision\"] = precision\n",
    "RN_Metrics[\"Recall\"] = recall\n",
    "RN_Metrics[\"F1\"] = f1"
   ]
  },
  {
   "cell_type": "code",
   "execution_count": 162,
   "id": "40a70af3-0712-4057-9bd3-b49148b2a869",
   "metadata": {},
   "outputs": [
    {
     "name": "stdout",
     "output_type": "stream",
     "text": [
      "{'Accuracy': 1.0, 'Loss': 3.0832391075819032e-06, 'Recall': 1.0, 'Precision': 1.0, 'F1': 1.0}\n"
     ]
    }
   ],
   "source": [
    "print(RN_Metrics)"
   ]
  },
  {
   "cell_type": "markdown",
   "id": "b1906253-aac5-4a72-9ad9-9f3f1e4b4920",
   "metadata": {},
   "source": [
    "### Xception Results."
   ]
  },
  {
   "cell_type": "code",
   "execution_count": 163,
   "id": "5d657b33-dd49-4b10-b00b-8f45a95a4176",
   "metadata": {},
   "outputs": [
    {
     "name": "stdout",
     "output_type": "stream",
     "text": [
      "Epoch 1/100\n",
      "24/24 [==============================] - 80s 3s/step - loss: 4.4141 - sparse_categorical_accuracy: 0.6823 - val_loss: 1.0982 - val_sparse_categorical_accuracy: 0.3438\n",
      "Epoch 2/100\n",
      "24/24 [==============================] - 73s 3s/step - loss: 0.1838 - sparse_categorical_accuracy: 0.9492 - val_loss: 1.0983 - val_sparse_categorical_accuracy: 0.5446\n",
      "Epoch 3/100\n",
      "24/24 [==============================] - 82s 3s/step - loss: 0.0772 - sparse_categorical_accuracy: 0.9701 - val_loss: 1.0985 - val_sparse_categorical_accuracy: 0.5312\n",
      "Epoch 4/100\n",
      "24/24 [==============================] - 75s 3s/step - loss: 0.0544 - sparse_categorical_accuracy: 0.9779 - val_loss: 1.0984 - val_sparse_categorical_accuracy: 0.5580\n",
      "Epoch 5/100\n",
      "24/24 [==============================] - 73s 3s/step - loss: 0.0631 - sparse_categorical_accuracy: 0.9740 - val_loss: 1.0983 - val_sparse_categorical_accuracy: 0.5536\n",
      "Epoch 6/100\n",
      "24/24 [==============================] - 74s 3s/step - loss: 0.0495 - sparse_categorical_accuracy: 0.9870 - val_loss: 1.0984 - val_sparse_categorical_accuracy: 0.5491\n",
      "Epoch 7/100\n",
      "24/24 [==============================] - 79s 3s/step - loss: 0.0246 - sparse_categorical_accuracy: 0.9948 - val_loss: 1.0984 - val_sparse_categorical_accuracy: 0.5446\n",
      "Epoch 8/100\n",
      "24/24 [==============================] - 86s 4s/step - loss: 0.0098 - sparse_categorical_accuracy: 0.9961 - val_loss: 1.0984 - val_sparse_categorical_accuracy: 0.5000\n",
      "Epoch 9/100\n",
      "24/24 [==============================] - 82s 3s/step - loss: 0.0231 - sparse_categorical_accuracy: 0.9974 - val_loss: 1.0986 - val_sparse_categorical_accuracy: 0.2143\n",
      "Epoch 10/100\n",
      "24/24 [==============================] - 84s 3s/step - loss: 0.0164 - sparse_categorical_accuracy: 0.9935 - val_loss: 1.0978 - val_sparse_categorical_accuracy: 0.5804\n",
      "Epoch 11/100\n",
      "24/24 [==============================] - 82s 3s/step - loss: 0.0049 - sparse_categorical_accuracy: 0.9974 - val_loss: 1.0964 - val_sparse_categorical_accuracy: 0.5268\n",
      "Epoch 12/100\n",
      "24/24 [==============================] - 74s 3s/step - loss: 0.0036 - sparse_categorical_accuracy: 0.9987 - val_loss: 1.0934 - val_sparse_categorical_accuracy: 0.5357\n",
      "Epoch 13/100\n",
      "24/24 [==============================] - 73s 3s/step - loss: 0.0023 - sparse_categorical_accuracy: 0.9987 - val_loss: 1.0849 - val_sparse_categorical_accuracy: 0.5580\n",
      "Epoch 14/100\n",
      "24/24 [==============================] - 79s 3s/step - loss: 0.0013 - sparse_categorical_accuracy: 1.0000 - val_loss: 1.0729 - val_sparse_categorical_accuracy: 0.5536\n",
      "Epoch 15/100\n",
      "24/24 [==============================] - 82s 3s/step - loss: 6.3257e-05 - sparse_categorical_accuracy: 1.0000 - val_loss: 1.0528 - val_sparse_categorical_accuracy: 0.5491\n",
      "Epoch 16/100\n",
      "24/24 [==============================] - 84s 4s/step - loss: 1.6867e-04 - sparse_categorical_accuracy: 1.0000 - val_loss: 1.0220 - val_sparse_categorical_accuracy: 0.5402\n",
      "Epoch 17/100\n",
      "24/24 [==============================] - 84s 4s/step - loss: 3.5046e-05 - sparse_categorical_accuracy: 1.0000 - val_loss: 0.9726 - val_sparse_categorical_accuracy: 0.5759\n",
      "Epoch 18/100\n",
      "24/24 [==============================] - 85s 4s/step - loss: 3.3338e-05 - sparse_categorical_accuracy: 1.0000 - val_loss: 0.9368 - val_sparse_categorical_accuracy: 0.5446\n",
      "Epoch 19/100\n",
      "24/24 [==============================] - 84s 3s/step - loss: 2.9408e-05 - sparse_categorical_accuracy: 1.0000 - val_loss: 0.8786 - val_sparse_categorical_accuracy: 0.5491\n",
      "Epoch 20/100\n",
      "24/24 [==============================] - 78s 3s/step - loss: 1.7312e-05 - sparse_categorical_accuracy: 1.0000 - val_loss: 0.8223 - val_sparse_categorical_accuracy: 0.5580\n",
      "Epoch 21/100\n",
      "24/24 [==============================] - 79s 3s/step - loss: 2.2751e-05 - sparse_categorical_accuracy: 1.0000 - val_loss: 0.8185 - val_sparse_categorical_accuracy: 0.5268\n",
      "Epoch 22/100\n",
      "24/24 [==============================] - 83s 3s/step - loss: 1.8933e-05 - sparse_categorical_accuracy: 1.0000 - val_loss: 0.7756 - val_sparse_categorical_accuracy: 0.5446\n",
      "Epoch 23/100\n",
      "24/24 [==============================] - 74s 3s/step - loss: 1.4014e-05 - sparse_categorical_accuracy: 1.0000 - val_loss: 0.7807 - val_sparse_categorical_accuracy: 0.5134\n",
      "Epoch 24/100\n",
      "24/24 [==============================] - 85s 4s/step - loss: 1.7821e-05 - sparse_categorical_accuracy: 1.0000 - val_loss: 0.6481 - val_sparse_categorical_accuracy: 0.5759\n",
      "Epoch 25/100\n",
      "24/24 [==============================] - 85s 4s/step - loss: 1.2128e-05 - sparse_categorical_accuracy: 1.0000 - val_loss: 0.5093 - val_sparse_categorical_accuracy: 0.6964\n",
      "Epoch 26/100\n",
      "24/24 [==============================] - 80s 3s/step - loss: 8.4528e-06 - sparse_categorical_accuracy: 1.0000 - val_loss: 0.4774 - val_sparse_categorical_accuracy: 0.7589\n",
      "Epoch 27/100\n",
      "24/24 [==============================] - 74s 3s/step - loss: 1.1485e-05 - sparse_categorical_accuracy: 1.0000 - val_loss: 0.3109 - val_sparse_categorical_accuracy: 0.8571\n",
      "Epoch 28/100\n",
      "24/24 [==============================] - 72s 3s/step - loss: 1.0380e-05 - sparse_categorical_accuracy: 1.0000 - val_loss: 0.2376 - val_sparse_categorical_accuracy: 0.9152\n",
      "Epoch 29/100\n",
      "24/24 [==============================] - 74s 3s/step - loss: 7.6729e-06 - sparse_categorical_accuracy: 1.0000 - val_loss: 0.1150 - val_sparse_categorical_accuracy: 0.9732\n",
      "Epoch 30/100\n",
      "24/24 [==============================] - 74s 3s/step - loss: 1.1051e-05 - sparse_categorical_accuracy: 1.0000 - val_loss: 0.0578 - val_sparse_categorical_accuracy: 0.9821\n",
      "Epoch 31/100\n",
      "24/24 [==============================] - 74s 3s/step - loss: 1.3797e-05 - sparse_categorical_accuracy: 1.0000 - val_loss: 0.0282 - val_sparse_categorical_accuracy: 0.9955\n",
      "Epoch 32/100\n",
      "24/24 [==============================] - 77s 3s/step - loss: 1.2528e-05 - sparse_categorical_accuracy: 1.0000 - val_loss: 0.0053 - val_sparse_categorical_accuracy: 1.0000\n",
      "Epoch 33/100\n",
      "24/24 [==============================] - 78s 3s/step - loss: 7.6116e-06 - sparse_categorical_accuracy: 1.0000 - val_loss: 0.0016 - val_sparse_categorical_accuracy: 1.0000\n",
      "Epoch 34/100\n",
      "24/24 [==============================] - 77s 3s/step - loss: 7.8277e-06 - sparse_categorical_accuracy: 1.0000 - val_loss: 5.0086e-04 - val_sparse_categorical_accuracy: 1.0000\n",
      "Epoch 35/100\n",
      "24/24 [==============================] - 77s 3s/step - loss: 5.8809e-06 - sparse_categorical_accuracy: 1.0000 - val_loss: 2.8666e-04 - val_sparse_categorical_accuracy: 1.0000\n",
      "Epoch 36/100\n",
      "24/24 [==============================] - 74s 3s/step - loss: 6.4289e-06 - sparse_categorical_accuracy: 1.0000 - val_loss: 1.0160e-04 - val_sparse_categorical_accuracy: 1.0000\n",
      "Epoch 37/100\n",
      "24/24 [==============================] - 73s 3s/step - loss: 6.7224e-06 - sparse_categorical_accuracy: 1.0000 - val_loss: 3.5524e-05 - val_sparse_categorical_accuracy: 1.0000\n",
      "Epoch 38/100\n",
      "24/24 [==============================] - 74s 3s/step - loss: 5.3369e-06 - sparse_categorical_accuracy: 1.0000 - val_loss: 1.7245e-05 - val_sparse_categorical_accuracy: 1.0000\n",
      "Epoch 39/100\n",
      "24/24 [==============================] - 76s 3s/step - loss: 6.7979e-06 - sparse_categorical_accuracy: 1.0000 - val_loss: 1.2294e-05 - val_sparse_categorical_accuracy: 1.0000\n",
      "Epoch 40/100\n",
      "24/24 [==============================] - 74s 3s/step - loss: 6.1212e-06 - sparse_categorical_accuracy: 1.0000 - val_loss: 6.0034e-06 - val_sparse_categorical_accuracy: 1.0000\n",
      "Epoch 41/100\n",
      "24/24 [==============================] - 73s 3s/step - loss: 5.3036e-06 - sparse_categorical_accuracy: 1.0000 - val_loss: 8.5443e-06 - val_sparse_categorical_accuracy: 1.0000\n",
      "Epoch 42/100\n",
      "24/24 [==============================] - 72s 3s/step - loss: 4.6316e-06 - sparse_categorical_accuracy: 1.0000 - val_loss: 4.6899e-06 - val_sparse_categorical_accuracy: 1.0000\n",
      "Epoch 43/100\n",
      "24/24 [==============================] - 72s 3s/step - loss: 5.2939e-06 - sparse_categorical_accuracy: 1.0000 - val_loss: 8.9216e-06 - val_sparse_categorical_accuracy: 1.0000\n",
      "Epoch 44/100\n",
      "24/24 [==============================] - 72s 3s/step - loss: 4.3338e-06 - sparse_categorical_accuracy: 1.0000 - val_loss: 5.2879e-06 - val_sparse_categorical_accuracy: 1.0000\n",
      "Epoch 45/100\n",
      "24/24 [==============================] - 72s 3s/step - loss: 3.7107e-06 - sparse_categorical_accuracy: 1.0000 - val_loss: 2.7870e-06 - val_sparse_categorical_accuracy: 1.0000\n",
      "Epoch 46/100\n",
      "24/24 [==============================] - 72s 3s/step - loss: 4.1227e-06 - sparse_categorical_accuracy: 1.0000 - val_loss: 2.7710e-06 - val_sparse_categorical_accuracy: 1.0000\n",
      "Epoch 47/100\n",
      "24/24 [==============================] - 72s 3s/step - loss: 4.3486e-06 - sparse_categorical_accuracy: 1.0000 - val_loss: 1.8775e-06 - val_sparse_categorical_accuracy: 1.0000\n",
      "Epoch 48/100\n",
      "24/24 [==============================] - 73s 3s/step - loss: 4.2300e-06 - sparse_categorical_accuracy: 1.0000 - val_loss: 2.8344e-06 - val_sparse_categorical_accuracy: 1.0000\n",
      "Epoch 49/100\n",
      "24/24 [==============================] - 72s 3s/step - loss: 3.6255e-06 - sparse_categorical_accuracy: 1.0000 - val_loss: 1.8115e-06 - val_sparse_categorical_accuracy: 1.0000\n",
      "Epoch 50/100\n",
      "24/24 [==============================] - 72s 3s/step - loss: 3.9396e-06 - sparse_categorical_accuracy: 1.0000 - val_loss: 3.6489e-06 - val_sparse_categorical_accuracy: 1.0000\n",
      "Epoch 51/100\n",
      "24/24 [==============================] - 72s 3s/step - loss: 3.4620e-06 - sparse_categorical_accuracy: 1.0000 - val_loss: 2.8895e-06 - val_sparse_categorical_accuracy: 1.0000\n",
      "Epoch 52/100\n",
      "24/24 [==============================] - 72s 3s/step - loss: 3.6377e-06 - sparse_categorical_accuracy: 1.0000 - val_loss: 1.9190e-06 - val_sparse_categorical_accuracy: 1.0000\n",
      "Epoch 53/100\n",
      "24/24 [==============================] - 72s 3s/step - loss: 3.2189e-06 - sparse_categorical_accuracy: 1.0000 - val_loss: 1.6013e-06 - val_sparse_categorical_accuracy: 1.0000\n",
      "Epoch 54/100\n",
      "24/24 [==============================] - 72s 3s/step - loss: 3.7783e-06 - sparse_categorical_accuracy: 1.0000 - val_loss: 2.0797e-06 - val_sparse_categorical_accuracy: 1.0000\n",
      "Epoch 55/100\n",
      "24/24 [==============================] - 72s 3s/step - loss: 3.6473e-06 - sparse_categorical_accuracy: 1.0000 - val_loss: 1.5912e-06 - val_sparse_categorical_accuracy: 1.0000\n",
      "Epoch 56/100\n",
      "24/24 [==============================] - 72s 3s/step - loss: 3.3726e-06 - sparse_categorical_accuracy: 1.0000 - val_loss: 1.7748e-06 - val_sparse_categorical_accuracy: 1.0000\n",
      "Epoch 57/100\n",
      "24/24 [==============================] - 72s 3s/step - loss: 2.3802e-06 - sparse_categorical_accuracy: 1.0000 - val_loss: 1.5327e-06 - val_sparse_categorical_accuracy: 1.0000\n",
      "Epoch 58/100\n",
      "24/24 [==============================] - 72s 3s/step - loss: 2.3517e-06 - sparse_categorical_accuracy: 1.0000 - val_loss: 1.8472e-06 - val_sparse_categorical_accuracy: 1.0000\n",
      "Epoch 59/100\n",
      "24/24 [==============================] - 72s 3s/step - loss: 2.1563e-06 - sparse_categorical_accuracy: 1.0000 - val_loss: 1.1852e-06 - val_sparse_categorical_accuracy: 1.0000\n",
      "Epoch 60/100\n",
      "24/24 [==============================] - 72s 3s/step - loss: 2.2128e-06 - sparse_categorical_accuracy: 1.0000 - val_loss: 1.1554e-06 - val_sparse_categorical_accuracy: 1.0000\n",
      "Epoch 61/100\n",
      "24/24 [==============================] - 72s 3s/step - loss: 2.3526e-06 - sparse_categorical_accuracy: 1.0000 - val_loss: 1.3033e-06 - val_sparse_categorical_accuracy: 1.0000\n",
      "Epoch 62/100\n",
      "24/24 [==============================] - 72s 3s/step - loss: 2.1750e-06 - sparse_categorical_accuracy: 1.0000 - val_loss: 8.5043e-07 - val_sparse_categorical_accuracy: 1.0000\n",
      "Epoch 63/100\n",
      "24/24 [==============================] - 72s 3s/step - loss: 1.7675e-06 - sparse_categorical_accuracy: 1.0000 - val_loss: 1.1277e-06 - val_sparse_categorical_accuracy: 1.0000\n",
      "Epoch 64/100\n",
      "24/24 [==============================] - 72s 3s/step - loss: 2.5168e-06 - sparse_categorical_accuracy: 1.0000 - val_loss: 1.3278e-06 - val_sparse_categorical_accuracy: 1.0000\n",
      "Epoch 65/100\n",
      "24/24 [==============================] - 72s 3s/step - loss: 2.2350e-06 - sparse_categorical_accuracy: 1.0000 - val_loss: 1.2160e-06 - val_sparse_categorical_accuracy: 1.0000\n",
      "Epoch 66/100\n",
      "24/24 [==============================] - 72s 3s/step - loss: 2.3721e-06 - sparse_categorical_accuracy: 1.0000 - val_loss: 1.0888e-06 - val_sparse_categorical_accuracy: 1.0000\n",
      "Epoch 67/100\n",
      "24/24 [==============================] - 72s 3s/step - loss: 2.4142e-06 - sparse_categorical_accuracy: 1.0000 - val_loss: 1.5337e-06 - val_sparse_categorical_accuracy: 1.0000\n",
      "Epoch 68/100\n",
      "24/24 [==============================] - 72s 3s/step - loss: 1.8325e-06 - sparse_categorical_accuracy: 1.0000 - val_loss: 1.3549e-06 - val_sparse_categorical_accuracy: 1.0000\n",
      "Epoch 69/100\n",
      "24/24 [==============================] - 72s 3s/step - loss: 1.6348e-06 - sparse_categorical_accuracy: 1.0000 - val_loss: 9.6272e-07 - val_sparse_categorical_accuracy: 1.0000\n",
      "Epoch 70/100\n",
      "24/24 [==============================] - 72s 3s/step - loss: 1.6899e-06 - sparse_categorical_accuracy: 1.0000 - val_loss: 1.0282e-06 - val_sparse_categorical_accuracy: 1.0000\n",
      "Epoch 71/100\n",
      "24/24 [==============================] - 72s 3s/step - loss: 2.4402e-06 - sparse_categorical_accuracy: 1.0000 - val_loss: 1.6827e-06 - val_sparse_categorical_accuracy: 1.0000\n",
      "Epoch 72/100\n",
      "24/24 [==============================] - 72s 3s/step - loss: 1.8982e-06 - sparse_categorical_accuracy: 1.0000 - val_loss: 1.1064e-06 - val_sparse_categorical_accuracy: 1.0000\n",
      "Epoch 73/100\n",
      "24/24 [==============================] - 72s 3s/step - loss: 1.6397e-06 - sparse_categorical_accuracy: 1.0000 - val_loss: 7.6315e-07 - val_sparse_categorical_accuracy: 1.0000\n",
      "Epoch 74/100\n",
      "24/24 [==============================] - 72s 3s/step - loss: 1.8319e-06 - sparse_categorical_accuracy: 1.0000 - val_loss: 7.3175e-07 - val_sparse_categorical_accuracy: 1.0000\n",
      "Epoch 75/100\n",
      "24/24 [==============================] - 72s 3s/step - loss: 1.5311e-06 - sparse_categorical_accuracy: 1.0000 - val_loss: 1.4810e-06 - val_sparse_categorical_accuracy: 1.0000\n",
      "Epoch 76/100\n",
      "24/24 [==============================] - 72s 3s/step - loss: 1.9501e-06 - sparse_categorical_accuracy: 1.0000 - val_loss: 8.5096e-07 - val_sparse_categorical_accuracy: 1.0000\n",
      "Epoch 77/100\n",
      "24/24 [==============================] - 72s 3s/step - loss: 1.6725e-06 - sparse_categorical_accuracy: 1.0000 - val_loss: 6.4341e-07 - val_sparse_categorical_accuracy: 1.0000\n",
      "Epoch 78/100\n",
      "24/24 [==============================] - 72s 3s/step - loss: 1.7810e-06 - sparse_categorical_accuracy: 1.0000 - val_loss: 8.8076e-07 - val_sparse_categorical_accuracy: 1.0000\n",
      "Epoch 79/100\n",
      "24/24 [==============================] - 72s 3s/step - loss: 1.6856e-06 - sparse_categorical_accuracy: 1.0000 - val_loss: 6.7268e-07 - val_sparse_categorical_accuracy: 1.0000\n",
      "Epoch 80/100\n",
      "24/24 [==============================] - 72s 3s/step - loss: 1.4564e-06 - sparse_categorical_accuracy: 1.0000 - val_loss: 6.6416e-07 - val_sparse_categorical_accuracy: 1.0000\n",
      "Epoch 81/100\n",
      "24/24 [==============================] - 72s 3s/step - loss: 1.9734e-06 - sparse_categorical_accuracy: 1.0000 - val_loss: 1.0468e-06 - val_sparse_categorical_accuracy: 1.0000\n",
      "Epoch 82/100\n",
      "24/24 [==============================] - 72s 3s/step - loss: 1.2109e-06 - sparse_categorical_accuracy: 1.0000 - val_loss: 7.8816e-07 - val_sparse_categorical_accuracy: 1.0000\n",
      "Epoch 83/100\n",
      "24/24 [==============================] - 72s 3s/step - loss: 1.8917e-06 - sparse_categorical_accuracy: 1.0000 - val_loss: 5.6092e-07 - val_sparse_categorical_accuracy: 1.0000\n",
      "Epoch 84/100\n",
      "24/24 [==============================] - 72s 3s/step - loss: 1.7720e-06 - sparse_categorical_accuracy: 1.0000 - val_loss: 7.0940e-07 - val_sparse_categorical_accuracy: 1.0000\n",
      "Epoch 85/100\n",
      "24/24 [==============================] - 72s 3s/step - loss: 1.4452e-06 - sparse_categorical_accuracy: 1.0000 - val_loss: 6.2957e-07 - val_sparse_categorical_accuracy: 1.0000\n",
      "Epoch 86/100\n",
      "24/24 [==============================] - 72s 3s/step - loss: 1.4885e-06 - sparse_categorical_accuracy: 1.0000 - val_loss: 7.4293e-07 - val_sparse_categorical_accuracy: 1.0000\n",
      "Epoch 87/100\n",
      "24/24 [==============================] - 72s 3s/step - loss: 1.2981e-06 - sparse_categorical_accuracy: 1.0000 - val_loss: 1.0372e-06 - val_sparse_categorical_accuracy: 1.0000\n",
      "Epoch 88/100\n",
      "24/24 [==============================] - 72s 3s/step - loss: 1.3347e-06 - sparse_categorical_accuracy: 1.0000 - val_loss: 5.2526e-07 - val_sparse_categorical_accuracy: 1.0000\n",
      "Epoch 89/100\n",
      "24/24 [==============================] - 72s 3s/step - loss: 1.2161e-06 - sparse_categorical_accuracy: 1.0000 - val_loss: 7.3388e-07 - val_sparse_categorical_accuracy: 1.0000\n",
      "Epoch 90/100\n",
      "24/24 [==============================] - 72s 3s/step - loss: 1.0715e-06 - sparse_categorical_accuracy: 1.0000 - val_loss: 8.9512e-07 - val_sparse_categorical_accuracy: 1.0000\n",
      "Epoch 91/100\n",
      "24/24 [==============================] - 72s 3s/step - loss: 1.1592e-06 - sparse_categorical_accuracy: 1.0000 - val_loss: 6.7694e-07 - val_sparse_categorical_accuracy: 1.0000\n",
      "Epoch 92/100\n",
      "24/24 [==============================] - 72s 3s/step - loss: 1.2844e-06 - sparse_categorical_accuracy: 1.0000 - val_loss: 6.9769e-07 - val_sparse_categorical_accuracy: 1.0000\n",
      "Epoch 93/100\n",
      "24/24 [==============================] - 72s 3s/step - loss: 1.1277e-06 - sparse_categorical_accuracy: 1.0000 - val_loss: 9.8399e-07 - val_sparse_categorical_accuracy: 1.0000\n",
      "Epoch 94/100\n",
      "24/24 [==============================] - 72s 3s/step - loss: 1.1241e-06 - sparse_categorical_accuracy: 1.0000 - val_loss: 6.2904e-07 - val_sparse_categorical_accuracy: 1.0000\n",
      "Epoch 95/100\n",
      "24/24 [==============================] - 72s 3s/step - loss: 9.5677e-07 - sparse_categorical_accuracy: 1.0000 - val_loss: 5.3857e-07 - val_sparse_categorical_accuracy: 1.0000\n",
      "Epoch 96/100\n",
      "24/24 [==============================] - 72s 3s/step - loss: 1.1346e-06 - sparse_categorical_accuracy: 1.0000 - val_loss: 6.1574e-07 - val_sparse_categorical_accuracy: 1.0000\n",
      "Epoch 97/100\n",
      "24/24 [==============================] - 72s 3s/step - loss: 1.0002e-06 - sparse_categorical_accuracy: 1.0000 - val_loss: 3.2037e-07 - val_sparse_categorical_accuracy: 1.0000\n",
      "Epoch 98/100\n",
      "24/24 [==============================] - 72s 3s/step - loss: 1.0795e-06 - sparse_categorical_accuracy: 1.0000 - val_loss: 4.1776e-07 - val_sparse_categorical_accuracy: 1.0000\n",
      "Epoch 99/100\n",
      "24/24 [==============================] - 72s 3s/step - loss: 1.0541e-06 - sparse_categorical_accuracy: 1.0000 - val_loss: 4.7790e-07 - val_sparse_categorical_accuracy: 1.0000\n",
      "Epoch 100/100\n",
      "24/24 [==============================] - 72s 3s/step - loss: 9.4047e-07 - sparse_categorical_accuracy: 1.0000 - val_loss: 4.6460e-07 - val_sparse_categorical_accuracy: 1.0000\n"
     ]
    }
   ],
   "source": [
    "base_model = Xception(weights=None, include_top=False, input_shape=input_shape)\n",
    "\n",
    "\n",
    "Xception = Sequential()\n",
    "Xception.add(base_model)\n",
    "Xception.add(Flatten())\n",
    "Xception.add(Dense(128, activation='relu'))\n",
    "Xception.add(Dense(3, activation='softmax'))\n",
    "\n",
    "Xception.compile(\n",
    "    optimizer=\"adam\",\n",
    "    loss=\"sparse_categorical_crossentropy\",\n",
    "    metrics=[\"sparse_categorical_accuracy\"]\n",
    ")\n",
    "\n",
    "Xception_history = Xception.fit(train, epochs = 100, validation_data = val, callbacks = [tensorboard_callback]) "
   ]
  },
  {
   "cell_type": "code",
   "execution_count": 164,
   "id": "db2de93a-7688-418e-817d-a98fa27aad91",
   "metadata": {},
   "outputs": [],
   "source": [
    "X_Metrics = {\"Accuracy\":0, \"Loss\":0, \"Recall\":0, \"Precision\":0, \"F1\":0}"
   ]
  },
  {
   "cell_type": "code",
   "execution_count": 165,
   "id": "c2f7ca92-0fe9-4b74-b9e6-4a15027720a0",
   "metadata": {},
   "outputs": [
    {
     "name": "stdout",
     "output_type": "stream",
     "text": [
      "3/3 [==============================] - 2s 776ms/step - loss: 3.9115e-07 - sparse_categorical_accuracy: 1.0000\n"
     ]
    }
   ],
   "source": [
    "loss, accuracy = Xception.evaluate(test)"
   ]
  },
  {
   "cell_type": "code",
   "execution_count": 166,
   "id": "6234052f-de22-4495-90e9-7a35a8bcecbc",
   "metadata": {},
   "outputs": [
    {
     "name": "stdout",
     "output_type": "stream",
     "text": [
      "1/1 [==============================] - 1s 1s/step\n",
      "1/1 [==============================] - 1s 812ms/step\n",
      "1/1 [==============================] - 1s 798ms/step\n"
     ]
    }
   ],
   "source": [
    "labels = []\n",
    "y_pred = []\n",
    "for batch in test.as_numpy_iterator():\n",
    "    X,y = batch\n",
    "    labels.append(y)\n",
    "    y_predictions = tf.argmax(Xception.predict(X), axis=1)\n",
    "    for pred in y_predictions: \n",
    "        y_pred.append(pred)\n",
    "y_true = []\n",
    "for label in labels:\n",
    "    for i in label:\n",
    "        y_true.append(i)"
   ]
  },
  {
   "cell_type": "code",
   "execution_count": 167,
   "id": "e0e689c5-593b-4cb0-85f2-418433784c8c",
   "metadata": {},
   "outputs": [],
   "source": [
    "precision = precision_score(y_true, y_pred, average='weighted')\n",
    "recall = recall_score(y_true, y_pred, average = \"weighted\")\n",
    "f1 = f1_score(y_true, y_pred, average='weighted')"
   ]
  },
  {
   "cell_type": "code",
   "execution_count": 168,
   "id": "759e0415-b599-494f-b82e-38c4f787500d",
   "metadata": {},
   "outputs": [],
   "source": [
    "X_Metrics[\"Accuracy\"] = accuracy\n",
    "X_Metrics[\"Loss\"] = loss\n",
    "X_Metrics[\"Precision\"] = precision\n",
    "X_Metrics[\"Recall\"] = recall\n",
    "X_Metrics[\"F1\"] = f1"
   ]
  },
  {
   "cell_type": "code",
   "execution_count": 169,
   "id": "d15167a9-c07a-4014-95d1-bb987a423fec",
   "metadata": {},
   "outputs": [
    {
     "name": "stdout",
     "output_type": "stream",
     "text": [
      "{'Accuracy': 1.0, 'Loss': 3.9115488448260294e-07, 'Recall': 1.0, 'Precision': 1.0, 'F1': 1.0}\n"
     ]
    }
   ],
   "source": [
    "print(X_Metrics)"
   ]
  },
  {
   "cell_type": "code",
   "execution_count": 192,
   "id": "579539bf-6a97-49d6-9e1a-f3b56fc3597c",
   "metadata": {},
   "outputs": [
    {
     "data": {
      "text/html": [
       "<div>\n",
       "<style scoped>\n",
       "    .dataframe tbody tr th:only-of-type {\n",
       "        vertical-align: middle;\n",
       "    }\n",
       "\n",
       "    .dataframe tbody tr th {\n",
       "        vertical-align: top;\n",
       "    }\n",
       "\n",
       "    .dataframe thead th {\n",
       "        text-align: right;\n",
       "    }\n",
       "</style>\n",
       "<table border=\"1\" class=\"dataframe\">\n",
       "  <thead>\n",
       "    <tr style=\"text-align: right;\">\n",
       "      <th></th>\n",
       "      <th>Accuracy</th>\n",
       "      <th>Loss</th>\n",
       "      <th>Recall</th>\n",
       "      <th>Precision</th>\n",
       "      <th>F1</th>\n",
       "    </tr>\n",
       "  </thead>\n",
       "  <tbody>\n",
       "    <tr>\n",
       "      <th>DenseNet121</th>\n",
       "      <td>0.96875</td>\n",
       "      <td>1.335622e-01</td>\n",
       "      <td>0.947917</td>\n",
       "      <td>0.95477</td>\n",
       "      <td>0.94852</td>\n",
       "    </tr>\n",
       "    <tr>\n",
       "      <th>ResNet50</th>\n",
       "      <td>1.00000</td>\n",
       "      <td>3.083239e-06</td>\n",
       "      <td>1.000000</td>\n",
       "      <td>1.00000</td>\n",
       "      <td>1.00000</td>\n",
       "    </tr>\n",
       "    <tr>\n",
       "      <th>Xception</th>\n",
       "      <td>1.00000</td>\n",
       "      <td>3.911549e-07</td>\n",
       "      <td>1.000000</td>\n",
       "      <td>1.00000</td>\n",
       "      <td>1.00000</td>\n",
       "    </tr>\n",
       "  </tbody>\n",
       "</table>\n",
       "</div>"
      ],
      "text/plain": [
       "             Accuracy          Loss    Recall  Precision       F1\n",
       "DenseNet121   0.96875  1.335622e-01  0.947917    0.95477  0.94852\n",
       "ResNet50      1.00000  3.083239e-06  1.000000    1.00000  1.00000\n",
       "Xception      1.00000  3.911549e-07  1.000000    1.00000  1.00000"
      ]
     },
     "execution_count": 192,
     "metadata": {},
     "output_type": "execute_result"
    }
   ],
   "source": [
    "import pandas as pd\n",
    "Models = [\"DenseNet121\" , \"ResNet50\", \"Xception\"]\n",
    "comparison = pd.DataFrame([DN_Metrics, RN_Metrics, X_Metrics], Models)\n",
    "comparison"
   ]
  },
  {
   "cell_type": "code",
   "execution_count": 193,
   "id": "91d3a38c-c68f-454f-8ede-f7d22141318f",
   "metadata": {},
   "outputs": [],
   "source": [
    "DenseNet121.save(os.path.join(\"models\",\"DenseNet121.h5\"))\n",
    "ResNet50.save(os.path.join(\"models\",\"ResNet50.h5\"))\n",
    "Xception.save(os.path.join(\"models\",\"Xception.h5\"))"
   ]
  },
  {
   "cell_type": "markdown",
   "id": "3046c7a8-7ee5-4881-b42d-b410db268fbd",
   "metadata": {
    "jp-MarkdownHeadingCollapsed": true
   },
   "source": [
    "# Un-Segmentated Results."
   ]
  },
  {
   "cell_type": "code",
   "execution_count": null,
   "id": "9cc81623-a68c-4ce3-bb0f-0ec6c08208d7",
   "metadata": {},
   "outputs": [],
   "source": []
  },
  {
   "cell_type": "code",
   "execution_count": null,
   "id": "1661f800-4497-4742-b2be-5f5011948ab3",
   "metadata": {},
   "outputs": [],
   "source": [
    "data_dir = \"The IQ-OTHNCCD lung cancer dataset-scaled\"\n",
    "dataset = tf.keras.utils.image_dataset_from_directory(data_dir,image_size=(224,224))"
   ]
  },
  {
   "cell_type": "code",
   "execution_count": null,
   "id": "ae9e292f-fa0c-49ba-9dcd-e4d426c92c85",
   "metadata": {},
   "outputs": [],
   "source": [
    "train_size = int(len(dataset)*.7)\n",
    "val_size = int(len(dataset)*.20)\n",
    "test_size = int(len(dataset)*.10)"
   ]
  },
  {
   "cell_type": "code",
   "execution_count": null,
   "id": "964a435d-abeb-4311-8920-afbe5bfbebde",
   "metadata": {},
   "outputs": [],
   "source": [
    "train = dataset.take(train_size)\n",
    "val = dataset.take(val_size)\n",
    "test = dataset.take(test_size)"
   ]
  },
  {
   "cell_type": "code",
   "execution_count": null,
   "id": "1b774fdf-268e-4daa-89b6-837b3a51fd10",
   "metadata": {},
   "outputs": [],
   "source": [
    "input_shape= (224,224, 3)"
   ]
  },
  {
   "cell_type": "code",
   "execution_count": null,
   "id": "8a13e743-cd2c-4f7d-8dc8-b4993f3b79ea",
   "metadata": {},
   "outputs": [],
   "source": [
    "logdir = \"logs\""
   ]
  },
  {
   "cell_type": "code",
   "execution_count": null,
   "id": "7565b057-b94d-4d08-94d2-f919fad47b5a",
   "metadata": {},
   "outputs": [],
   "source": [
    "tensorboard_callback = tf.keras.callbacks.TensorBoard(log_dir = logdir)"
   ]
  },
  {
   "cell_type": "code",
   "execution_count": null,
   "id": "921be8b9-2230-415d-aa79-0cb69f1cf0ac",
   "metadata": {},
   "outputs": [],
   "source": []
  },
  {
   "cell_type": "markdown",
   "id": "45fcca3a-4d54-47f5-a919-c605025d4636",
   "metadata": {
    "jp-MarkdownHeadingCollapsed": true
   },
   "source": [
    "## Scenario  1: Pre-trained / Training frozen on base model."
   ]
  },
  {
   "cell_type": "markdown",
   "id": "82a866c8-29b3-4d10-9c67-edc432b84b05",
   "metadata": {},
   "source": [
    "### DenseNet121 Results."
   ]
  },
  {
   "cell_type": "code",
   "execution_count": null,
   "id": "c784f40f-5275-4d1f-a895-07599c81fb44",
   "metadata": {},
   "outputs": [],
   "source": [
    "base_model = DenseNet121(weights=\"imagenet\", include_top=False, input_shape=input_shape)\n",
    "\n",
    "for layer in base_model.layers:\n",
    "    layer.trainable = False\n",
    "    \n",
    "DenseNet121 = Sequential()\n",
    "DenseNet121.add(base_model)\n",
    "DenseNet121.add(Flatten())\n",
    "DenseNet121.add(Dense(128, activation='relu'))\n",
    "DenseNet121.add(Dense(3, activation='softmax'))\n",
    "\n",
    "DenseNet121.compile(\n",
    "    optimizer=\"adam\",\n",
    "    loss=\"sparse_categorical_crossentropy\",\n",
    "    metrics=[\"sparse_categorical_accuracy\"],\n",
    ")\n",
    "\n",
    "DN_history = DenseNet121.fit(train, epochs = 100, validation_data = val, callbacks = [tensorboard_callback])"
   ]
  },
  {
   "cell_type": "code",
   "execution_count": null,
   "id": "9ac39ca8-548a-4f98-9e15-24f35da4ba0b",
   "metadata": {},
   "outputs": [],
   "source": []
  },
  {
   "cell_type": "markdown",
   "id": "48c620ea-e153-4887-bc41-794bae1726e2",
   "metadata": {},
   "source": [
    "### ResNet50 Results."
   ]
  },
  {
   "cell_type": "code",
   "execution_count": null,
   "id": "1c6b3270-a26c-4f5a-a899-31625ae17e32",
   "metadata": {},
   "outputs": [],
   "source": [
    "base_model = ResNet50(weights=\"imagenet\", include_top=False, input_shape=input_shape)\n",
    "\n",
    "for layer in base_model.layers:\n",
    "    layer.trainable = False\n",
    "\n",
    "ResNet50 = Sequential()\n",
    "ResNet50.add(base_model)\n",
    "ResNet50.add(Flatten())\n",
    "ResNet50.add(Dense(128, activation='relu'))\n",
    "ResNet50.add(Dense(3, activation='softmax'))\n",
    "\n",
    "ResNet50.compile(\n",
    "    optimizer=\"adam\",\n",
    "    loss=\"sparse_categorical_crossentropy\",\n",
    "    metrics=[\"sparse_categorical_accuracy\"],\n",
    ")\n",
    "\n",
    "RN_history = ResNet50.fit(train, epochs = 100, validation_data = val, callbacks = [tensorboard_callback])"
   ]
  },
  {
   "cell_type": "code",
   "execution_count": null,
   "id": "571802b4-f68e-42ca-877e-71b892877b20",
   "metadata": {},
   "outputs": [],
   "source": []
  },
  {
   "cell_type": "markdown",
   "id": "09eedc67-738a-49c0-8a7c-6bf23b26b4c8",
   "metadata": {},
   "source": [
    "### Xception Results."
   ]
  },
  {
   "cell_type": "code",
   "execution_count": null,
   "id": "adfd4d85-d039-4fe0-a6d4-797a53a2d476",
   "metadata": {},
   "outputs": [],
   "source": [
    "base_model = Xception(weights=\"imagenet\", include_top=False, input_shape=input_shape)\n",
    "\n",
    "for layer in base_model.layers:\n",
    "    layer.trainable = False\n",
    "    \n",
    "Xception = Sequential()\n",
    "Xception.add(base_model)\n",
    "Xception.add(Flatten())\n",
    "Xception.add(Dense(128, activation='relu'))\n",
    "Xception.add(Dense(3, activation='softmax'))\n",
    "\n",
    "Xception.compile(\n",
    "    optimizer=\"adam\",\n",
    "    loss=\"sparse_categorical_crossentropy\",\n",
    "    metrics=[\"sparse_categorical_accuracy\"]\n",
    ")\n",
    "\n",
    "Xception_history = Xception.fit(train, epochs = 100, validation_data = val, callbacks = [tensorboard_callback])"
   ]
  },
  {
   "cell_type": "code",
   "execution_count": null,
   "id": "f5f1e61f-7674-4d2d-a9de-0bbb0e02195f",
   "metadata": {},
   "outputs": [],
   "source": []
  },
  {
   "cell_type": "code",
   "execution_count": null,
   "id": "b6db08f1-4546-4b85-ab66-2ab95750ee46",
   "metadata": {},
   "outputs": [],
   "source": []
  },
  {
   "cell_type": "code",
   "execution_count": null,
   "id": "cd65ea01-4d55-43d7-89ac-24d6e6c4006c",
   "metadata": {},
   "outputs": [],
   "source": [
    "compare =  pd.DataFrame()"
   ]
  },
  {
   "cell_type": "markdown",
   "id": "682c237b-6154-420a-87f3-ce40f3c2f08c",
   "metadata": {
    "jp-MarkdownHeadingCollapsed": true
   },
   "source": [
    "## Scernario 2: Not Pre-trained / Training frozen on base model."
   ]
  },
  {
   "cell_type": "markdown",
   "id": "6d5a70ae-01ec-4d1a-ac99-aabe84f88b14",
   "metadata": {},
   "source": [
    "### DenseNet121 Results."
   ]
  },
  {
   "cell_type": "code",
   "execution_count": null,
   "id": "e4bdf71a-c332-44a0-aa3c-9155f92d4e0f",
   "metadata": {},
   "outputs": [],
   "source": [
    "base_model = DenseNet121(weights=None, include_top=False, input_shape=input_shape)\n",
    "\n",
    "for layer in base_model.layers:\n",
    "    layer.trainable = False\n",
    "    \n",
    "DenseNet121 = Sequential()\n",
    "DenseNet121.add(base_model)\n",
    "DenseNet121.add(Flatten())\n",
    "DenseNet121.add(Dense(128, activation='relu'))\n",
    "DenseNet121.add(Dense(3, activation='softmax'))\n",
    "\n",
    "DenseNet121.compile(\n",
    "    optimizer=\"adam\",\n",
    "    loss=\"sparse_categorical_crossentropy\",\n",
    "    metrics=[\"sparse_categorical_accuracy\"],\n",
    ")\n",
    "\n",
    "DN_history = DenseNet121.fit(train, epochs = 100, validation_data = val, callbacks = [tensorboard_callback])"
   ]
  },
  {
   "cell_type": "code",
   "execution_count": null,
   "id": "0eda7534-3cb9-442c-92bb-31b9ffb4bd66",
   "metadata": {},
   "outputs": [],
   "source": []
  },
  {
   "cell_type": "markdown",
   "id": "a9d4e907-d9e0-4f59-b7b1-bdb0fadb59c4",
   "metadata": {},
   "source": [
    "### ResNet50 Results."
   ]
  },
  {
   "cell_type": "code",
   "execution_count": null,
   "id": "ac672b01-a8df-47f4-bd84-a73ccb1bcb5f",
   "metadata": {},
   "outputs": [],
   "source": [
    "base_model = ResNet50(weights = None, include_top=False, input_shape=input_shape)\n",
    "\n",
    "for layer in base_model.layers:\n",
    "    layer.trainable = False\n",
    "\n",
    "ResNet50 = Sequential()\n",
    "ResNet50.add(base_model)\n",
    "ResNet50.add(Flatten())\n",
    "ResNet50.add(Dense(128, activation='relu'))\n",
    "ResNet50.add(Dense(3, activation='softmax'))\n",
    "\n",
    "ResNet50.compile(\n",
    "    optimizer=\"adam\",\n",
    "    loss=\"sparse_categorical_crossentropy\",\n",
    "    metrics=[\"sparse_categorical_accuracy\"],\n",
    ")\n",
    "\n",
    "RN_history = ResNet50.fit(train, epochs = 100, validation_data = val, callbacks = [tensorboard_callback])"
   ]
  },
  {
   "cell_type": "code",
   "execution_count": null,
   "id": "3d3644d1-726b-43e1-b606-8330151950cc",
   "metadata": {},
   "outputs": [],
   "source": []
  },
  {
   "cell_type": "markdown",
   "id": "9649ea4d-64c8-4e2f-8630-bc683967220a",
   "metadata": {},
   "source": [
    "### Xception Results."
   ]
  },
  {
   "cell_type": "code",
   "execution_count": null,
   "id": "052dc77b-fa81-479a-a57d-eb8356f1774f",
   "metadata": {},
   "outputs": [],
   "source": [
    "base_model = Xception(weights=None, include_top=False, input_shape=input_shape)\n",
    "\n",
    "for layer in base_model.layers:\n",
    "    layer.trainable = False\n",
    "    \n",
    "Xception = Sequential()\n",
    "Xception.add(base_model)\n",
    "Xception.add(Flatten())\n",
    "Xception.add(Dense(128, activation='relu'))\n",
    "Xception.add(Dense(3, activation='softmax'))\n",
    "\n",
    "Xception.compile(\n",
    "    optimizer=\"adam\",\n",
    "    loss=\"sparse_categorical_crossentropy\",\n",
    "    metrics=[\"sparse_categorical_accuracy\"]\n",
    ")\n",
    "\n",
    "Xception_history = Xception.fit(train, epochs = 100, validation_data = val, callbacks = [tensorboard_callback])"
   ]
  },
  {
   "cell_type": "code",
   "execution_count": null,
   "id": "041a0cf2-fb50-4b43-95f7-f791260eeb8e",
   "metadata": {},
   "outputs": [],
   "source": []
  },
  {
   "cell_type": "markdown",
   "id": "3d6e7114-4926-4a8d-934f-19e0cab89073",
   "metadata": {
    "jp-MarkdownHeadingCollapsed": true
   },
   "source": [
    "## Scernario 3: Pre-trained  / Training not frozen on base model."
   ]
  },
  {
   "cell_type": "markdown",
   "id": "03e245f9-221f-4119-8fe2-f53662dab747",
   "metadata": {},
   "source": [
    "### DenseNet121 Results."
   ]
  },
  {
   "cell_type": "code",
   "execution_count": null,
   "id": "d848075e-6afb-4d68-9672-7dabed2406a6",
   "metadata": {},
   "outputs": [],
   "source": [
    "base_model = DenseNet121(weights=\"imagenet\", include_top=False, input_shape=input_shape)\n",
    "\n",
    "DenseNet121 = Sequential()\n",
    "DenseNet121.add(base_model)\n",
    "DenseNet121.add(Flatten())\n",
    "DenseNet121.add(Dense(128, activation='relu'))\n",
    "DenseNet121.add(Dense(3, activation='softmax'))\n",
    "\n",
    "DenseNet121.compile(\n",
    "    optimizer=\"adam\",\n",
    "    loss=\"sparse_categorical_crossentropy\",\n",
    "    metrics=[\"sparse_categorical_accuracy\"],\n",
    ")\n",
    "\n",
    "DN_history = DenseNet121.fit(train, epochs = 100, validation_data = val, callbacks = [tensorboard_callback])"
   ]
  },
  {
   "cell_type": "code",
   "execution_count": null,
   "id": "00ab6963-66dc-4a7c-9e47-b717fd9ee5a1",
   "metadata": {},
   "outputs": [],
   "source": []
  },
  {
   "cell_type": "markdown",
   "id": "b1bb110c-a4ba-435e-87c4-f35d7eba0474",
   "metadata": {},
   "source": [
    "### ResNet50 Results."
   ]
  },
  {
   "cell_type": "code",
   "execution_count": null,
   "id": "12c7f141-34fc-4ea3-b74d-7c6242fff9ed",
   "metadata": {},
   "outputs": [],
   "source": [
    "base_model = ResNet50(weights=\"imagenet\", include_top=False, input_shape=input_shape)\n",
    "\n",
    "\n",
    "ResNet50 = Sequential()\n",
    "ResNet50.add(base_model)\n",
    "ResNet50.add(Flatten())\n",
    "ResNet50.add(Dense(128, activation='relu'))\n",
    "ResNet50.add(Dense(3, activation='softmax'))\n",
    "\n",
    "ResNet50.compile(\n",
    "    optimizer=\"adam\",\n",
    "    loss=\"sparse_categorical_crossentropy\",\n",
    "    metrics=[\"sparse_categorical_accuracy\"],\n",
    ")\n",
    "\n",
    "RN_history = ResNet50.fit(train, epochs = 100, validation_data = val, callbacks = [tensorboard_callback])"
   ]
  },
  {
   "cell_type": "code",
   "execution_count": null,
   "id": "81d6cd3f-fbb0-4a5a-983c-f57d04203c3b",
   "metadata": {},
   "outputs": [],
   "source": []
  },
  {
   "cell_type": "markdown",
   "id": "a3aa7db7-e32b-4f99-952f-1f663c51450b",
   "metadata": {},
   "source": [
    "### Xception Results."
   ]
  },
  {
   "cell_type": "code",
   "execution_count": null,
   "id": "8351179c-ba71-4271-9fa9-054c49a64ea6",
   "metadata": {},
   "outputs": [],
   "source": [
    "base_model = Xception(weights=\"imagenet\", include_top=False, input_shape=input_shape)\n",
    "\n",
    "\n",
    "Xception = Sequential()\n",
    "Xception.add(base_model)\n",
    "Xception.add(Flatten())\n",
    "Xception.add(Dense(128, activation='relu'))\n",
    "Xception.add(Dense(3, activation='softmax'))\n",
    "\n",
    "Xception.compile(\n",
    "    optimizer=\"adam\",\n",
    "    loss=\"sparse_categorical_crossentropy\",\n",
    "    metrics=[\"sparse_categorical_accuracy\"]\n",
    ")\n",
    "\n",
    "Xception_history = Xception.fit(train, epochs = 100, validation_data = val, callbacks = [tensorboard_callback])"
   ]
  },
  {
   "cell_type": "code",
   "execution_count": null,
   "id": "b5dfc4ae-8f0d-4c6f-9ac0-d623d87151b3",
   "metadata": {},
   "outputs": [],
   "source": []
  },
  {
   "cell_type": "markdown",
   "id": "47d05a2b-6542-4a25-94de-d848ae716456",
   "metadata": {
    "jp-MarkdownHeadingCollapsed": true
   },
   "source": [
    "## Scernario 4: Not Pre-trained / Training not frozen on base model."
   ]
  },
  {
   "cell_type": "markdown",
   "id": "e412c753-4f1f-4c1a-8737-6363ffad4715",
   "metadata": {},
   "source": [
    "### DenseNet121 Results."
   ]
  },
  {
   "cell_type": "code",
   "execution_count": 136,
   "id": "f1a78816-10fd-4fde-b401-a33ce445d94a",
   "metadata": {},
   "outputs": [
    {
     "ename": "ValueError",
     "evalue": "The first argument to `Layer.call` must always be passed.",
     "output_type": "error",
     "traceback": [
      "\u001b[0;31m---------------------------------------------------------------------------\u001b[0m",
      "\u001b[0;31mValueError\u001b[0m                                Traceback (most recent call last)",
      "Cell \u001b[0;32mIn[136], line 1\u001b[0m\n\u001b[0;32m----> 1\u001b[0m base_model \u001b[38;5;241m=\u001b[39m \u001b[43mDenseNet121\u001b[49m\u001b[43m(\u001b[49m\u001b[43mweights\u001b[49m\u001b[38;5;241;43m=\u001b[39;49m\u001b[38;5;28;43;01mNone\u001b[39;49;00m\u001b[43m,\u001b[49m\u001b[43m \u001b[49m\u001b[43minclude_top\u001b[49m\u001b[38;5;241;43m=\u001b[39;49m\u001b[38;5;28;43;01mFalse\u001b[39;49;00m\u001b[43m,\u001b[49m\u001b[43m \u001b[49m\u001b[43minput_shape\u001b[49m\u001b[38;5;241;43m=\u001b[39;49m\u001b[43minput_shape\u001b[49m\u001b[43m)\u001b[49m\n\u001b[1;32m      3\u001b[0m DenseNet121 \u001b[38;5;241m=\u001b[39m Sequential()\n\u001b[1;32m      4\u001b[0m DenseNet121\u001b[38;5;241m.\u001b[39madd(base_model)\n",
      "File \u001b[0;32m~/.local/lib/python3.10/site-packages/keras/utils/traceback_utils.py:70\u001b[0m, in \u001b[0;36mfilter_traceback.<locals>.error_handler\u001b[0;34m(*args, **kwargs)\u001b[0m\n\u001b[1;32m     67\u001b[0m     filtered_tb \u001b[38;5;241m=\u001b[39m _process_traceback_frames(e\u001b[38;5;241m.\u001b[39m__traceback__)\n\u001b[1;32m     68\u001b[0m     \u001b[38;5;66;03m# To get the full stack trace, call:\u001b[39;00m\n\u001b[1;32m     69\u001b[0m     \u001b[38;5;66;03m# `tf.debugging.disable_traceback_filtering()`\u001b[39;00m\n\u001b[0;32m---> 70\u001b[0m     \u001b[38;5;28;01mraise\u001b[39;00m e\u001b[38;5;241m.\u001b[39mwith_traceback(filtered_tb) \u001b[38;5;28;01mfrom\u001b[39;00m \u001b[38;5;28;01mNone\u001b[39;00m\n\u001b[1;32m     71\u001b[0m \u001b[38;5;28;01mfinally\u001b[39;00m:\n\u001b[1;32m     72\u001b[0m     \u001b[38;5;28;01mdel\u001b[39;00m filtered_tb\n",
      "File \u001b[0;32m~/.local/lib/python3.10/site-packages/keras/utils/layer_utils.py:809\u001b[0m, in \u001b[0;36mCallFunctionSpec.split_out_first_arg\u001b[0;34m(self, args, kwargs)\u001b[0m\n\u001b[1;32m    807\u001b[0m     inputs \u001b[38;5;241m=\u001b[39m kwargs\u001b[38;5;241m.\u001b[39mpop(\u001b[38;5;28mself\u001b[39m\u001b[38;5;241m.\u001b[39m_arg_names[\u001b[38;5;241m0\u001b[39m])\n\u001b[1;32m    808\u001b[0m \u001b[38;5;28;01melse\u001b[39;00m:\n\u001b[0;32m--> 809\u001b[0m     \u001b[38;5;28;01mraise\u001b[39;00m \u001b[38;5;167;01mValueError\u001b[39;00m(\n\u001b[1;32m    810\u001b[0m         \u001b[38;5;124m\"\u001b[39m\u001b[38;5;124mThe first argument to `Layer.call` must always be passed.\u001b[39m\u001b[38;5;124m\"\u001b[39m\n\u001b[1;32m    811\u001b[0m     )\n\u001b[1;32m    812\u001b[0m \u001b[38;5;28;01mreturn\u001b[39;00m inputs, args, kwargs\n",
      "\u001b[0;31mValueError\u001b[0m: The first argument to `Layer.call` must always be passed."
     ]
    }
   ],
   "source": [
    "base_model = DenseNet121(weights=None, include_top=False, input_shape=input_shape)\n",
    "\n",
    "DenseNet121 = Sequential()\n",
    "DenseNet121.add(base_model)\n",
    "DenseNet121.add(Flatten())\n",
    "DenseNet121.add(Dense(128, activation='relu'))\n",
    "DenseNet121.add(Dense(3, activation='softmax'))\n",
    "\n",
    "DenseNet121.compile(\n",
    "    optimizer=\"adam\",\n",
    "    loss=\"sparse_categorical_crossentropy\",\n",
    "    metrics=[\"sparse_categorical_accuracy\"],\n",
    ")\n",
    "\n",
    "DN_history = DenseNet121.fit(train, epochs = 100, validation_data = val, callbacks = [tensorboard_callback])"
   ]
  },
  {
   "cell_type": "code",
   "execution_count": null,
   "id": "00204ff7-55d7-4098-9c91-323021667373",
   "metadata": {},
   "outputs": [],
   "source": []
  },
  {
   "cell_type": "markdown",
   "id": "4257e19d-d9bc-4ded-ada7-0baa536adb6b",
   "metadata": {},
   "source": [
    "### ResNet50 Results."
   ]
  },
  {
   "cell_type": "code",
   "execution_count": null,
   "id": "b65eda61-f3cd-4cab-81a8-f44b74ab010e",
   "metadata": {},
   "outputs": [],
   "source": [
    "base_model = ResNet50(weights=None, include_top=False, input_shape=input_shape)\n",
    "\n",
    "\n",
    "ResNet50 = Sequential()\n",
    "ResNet50.add(base_model)\n",
    "ResNet50.add(Flatten())\n",
    "ResNet50.add(Dense(128, activation='relu'))\n",
    "ResNet50.add(Dense(3, activation='softmax'))\n",
    "\n",
    "ResNet50.compile(\n",
    "    optimizer=\"adam\",\n",
    "    loss=\"sparse_categorical_crossentropy\",\n",
    "    metrics=[\"sparse_categorical_accuracy\"],\n",
    ")\n",
    "\n",
    "RN_history = ResNet50.fit(train, epochs = 100, validation_data = val, callbacks = [tensorboard_callback])"
   ]
  },
  {
   "cell_type": "code",
   "execution_count": null,
   "id": "d49d25d9-3491-4866-9653-b0d871eab180",
   "metadata": {},
   "outputs": [],
   "source": []
  },
  {
   "cell_type": "markdown",
   "id": "c1450a8f-e6d9-4b45-93ec-590f71d213b6",
   "metadata": {},
   "source": [
    "### Xception Results."
   ]
  },
  {
   "cell_type": "code",
   "execution_count": null,
   "id": "5c163776-b94d-4017-952a-a701f183729c",
   "metadata": {},
   "outputs": [],
   "source": [
    "base_model = Xception(weights=None, include_top=False, input_shape=input_shape)\n",
    "\n",
    "\n",
    "Xception = Sequential()\n",
    "Xception.add(base_model)\n",
    "Xception.add(Flatten())\n",
    "Xception.add(Dense(128, activation='relu'))\n",
    "Xception.add(Dense(3, activation='softmax'))\n",
    "\n",
    "Xception.compile(\n",
    "    optimizer=\"adam\",\n",
    "    loss=\"sparse_categorical_crossentropy\",\n",
    "    metrics=[\"sparse_categorical_accuracy\"]\n",
    ")\n",
    "\n",
    "Xception_history = Xception.fit(train, epochs = 100, validation_data = val, callbacks = [tensorboard_callback]) "
   ]
  }
 ],
 "metadata": {
  "kernelspec": {
   "display_name": "Python 3 (ipykernel)",
   "language": "python",
   "name": "python3"
  },
  "language_info": {
   "codemirror_mode": {
    "name": "ipython",
    "version": 3
   },
   "file_extension": ".py",
   "mimetype": "text/x-python",
   "name": "python",
   "nbconvert_exporter": "python",
   "pygments_lexer": "ipython3",
   "version": "3.10.12"
  }
 },
 "nbformat": 4,
 "nbformat_minor": 5
}
